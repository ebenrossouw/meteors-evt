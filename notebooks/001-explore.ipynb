{
 "cells": [
  {
   "cell_type": "markdown",
   "id": "4a55f6d7",
   "metadata": {},
   "source": [
    "# Meteor Strikes\n",
    "\n",
    "- **_Meteoroid_**: An asteroid or comet fragment that orbits the Sun (< 1m).\n",
    "\n",
    "- **_Meteor_**, or “shooting star”: The visible paths of meteoroids that have entered the Earth’s atmosphere at a high velocity.\n",
    "\n",
    "- **_Fireball_**: An unusually bright meteor that reaches a visual magnitude of -3 or brighter when seen at the observer’s zenith (> 1m).\n",
    "\n",
    "- **_Bolide_**: Fireballs that explode in the atmosphere, although the terms fireballs and bolides are often used interchangeably.\n",
    "\n",
    "- **_Meteorite_**: A fragment of a meteoroid or asteroid that survives passage through the Earth’s atmosphere and hits the ground.\n",
    "\n",
    "<img src=\"http://www.amsmeteors.org/wp-content/uploads/2010/11/AMS-TERMINOLOGY-2015-EN-ENGLISH-compressed3.jpg\" alt=\"drawing\" width=\"300\"/>\n",
    "\n",
    "Meteors burn up very fast, as quoted from [article](https://pawsey.org.au/case_studies/catching-shooting-stars/):\n",
    "> In November 2015, an 80-kilogram meteoroid that had been moving at 50 thousand kilometres per hour entered the atmosphere. It created a fireball that streaked across the sky; becoming what some of us refer to as a shooting star. The meteorite then fell into a remote area of South Australia as a 1.6 kilogram of mottled rock.\n",
    "\n",
    "Natural disasters from [meteorite impacts in history](https://science.nasa.gov/solar-system/meteors-meteorites/facts/#h-meteorite-impacts-in-history):\n",
    "* Tunguska event of 1908: About 37 meters across and weighed 100 million kilograms\n",
    "* Ann Hodges of Sylacauga, Alabama, was severely bruised by a 3.6-kilogram stony meteorite that crashed through her roof in November 1954.\n",
    "* Chelyabinsk, Russia in 2013: 440,000 tons of TNT-equivalent fireball exploded 23km above ground.\n",
    "    * [Video link](https://youtu.be/mebWfDlhcRs)\n",
    "\n",
    "How frequently do fireballs occur?\n",
    "* Several thousand meteors of fireball magnitude occur in the Earth’s atmosphere each day.\n",
    "* The vast majority of these, however, occur over the oceans and uninhabited regions, and a good many are masked by daylight.\n",
    "* Those that occur at night also stand little chance of being detected due to the relatively low numbers of persons out to notice them.\n",
    "* Brighter fireballs are more rare events."
   ]
  },
  {
   "cell_type": "markdown",
   "id": "8fbcd62e",
   "metadata": {},
   "source": [
    "# Meteorite Landings\n",
    "**_Dataset_**: https://data.nasa.gov/dataset/meteorite-landings\n",
    "\n",
    "How are meteorites discovered?\n",
    "* **Fell** - Meteorite was seen while falling, which led to to its discovery (Date is accurate).\n",
    "* **Found** - Meteorite was found lying on the ground (Date of fall is _unknown_)."
   ]
  },
  {
   "cell_type": "code",
   "execution_count": 25,
   "id": "f8b89d56",
   "metadata": {},
   "outputs": [],
   "source": [
    "import polars as pl\n",
    "import plotly.express as plt\n",
    "import plotly.io\n",
    "\n",
    "# plotly.io.renderers.default = \"iframe\""
   ]
  },
  {
   "cell_type": "code",
   "execution_count": 26,
   "id": "3befaf06",
   "metadata": {},
   "outputs": [
    {
     "data": {
      "text/html": [
       "<div><style>\n",
       ".dataframe > thead > tr,\n",
       ".dataframe > tbody > tr {\n",
       "  text-align: right;\n",
       "  white-space: pre-wrap;\n",
       "}\n",
       "</style>\n",
       "<small>shape: (45_262, 4)</small><table border=\"1\" class=\"dataframe\"><thead><tr><th>id</th><th>year</th><th>fall</th><th>mass</th></tr><tr><td>i64</td><td>i64</td><td>str</td><td>f64</td></tr></thead><tbody><tr><td>15447</td><td>1801</td><td>&quot;Fell&quot;</td><td>0.22</td></tr><tr><td>2320</td><td>1803</td><td>&quot;Fell&quot;</td><td>3.2</td></tr><tr><td>12434</td><td>1803</td><td>&quot;Fell&quot;</td><td>37.0</td></tr><tr><td>15443</td><td>1803</td><td>&quot;Fell&quot;</td><td>1.6</td></tr><tr><td>5093</td><td>1804</td><td>&quot;Fell&quot;</td><td>0.056</td></tr><tr><td>&hellip;</td><td>&hellip;</td><td>&hellip;</td><td>&hellip;</td></tr><tr><td>57422</td><td>2013</td><td>&quot;Found&quot;</td><td>0.246</td></tr><tr><td>57423</td><td>2013</td><td>&quot;Found&quot;</td><td>0.459</td></tr><tr><td>57425</td><td>2013</td><td>&quot;Found&quot;</td><td>0.611</td></tr><tr><td>57426</td><td>2013</td><td>&quot;Found&quot;</td><td>0.317</td></tr><tr><td>57427</td><td>2013</td><td>&quot;Found&quot;</td><td>1.0</td></tr></tbody></table></div>"
      ],
      "text/plain": [
       "shape: (45_262, 4)\n",
       "┌───────┬──────┬───────┬───────┐\n",
       "│ id    ┆ year ┆ fall  ┆ mass  │\n",
       "│ ---   ┆ ---  ┆ ---   ┆ ---   │\n",
       "│ i64   ┆ i64  ┆ str   ┆ f64   │\n",
       "╞═══════╪══════╪═══════╪═══════╡\n",
       "│ 15447 ┆ 1801 ┆ Fell  ┆ 0.22  │\n",
       "│ 2320  ┆ 1803 ┆ Fell  ┆ 3.2   │\n",
       "│ 12434 ┆ 1803 ┆ Fell  ┆ 37.0  │\n",
       "│ 15443 ┆ 1803 ┆ Fell  ┆ 1.6   │\n",
       "│ 5093  ┆ 1804 ┆ Fell  ┆ 0.056 │\n",
       "│ …     ┆ …    ┆ …     ┆ …     │\n",
       "│ 57422 ┆ 2013 ┆ Found ┆ 0.246 │\n",
       "│ 57423 ┆ 2013 ┆ Found ┆ 0.459 │\n",
       "│ 57425 ┆ 2013 ┆ Found ┆ 0.611 │\n",
       "│ 57426 ┆ 2013 ┆ Found ┆ 0.317 │\n",
       "│ 57427 ┆ 2013 ┆ Found ┆ 1.0   │\n",
       "└───────┴──────┴───────┴───────┘"
      ]
     },
     "execution_count": 26,
     "metadata": {},
     "output_type": "execute_result"
    }
   ],
   "source": [
    "meteorites = (\n",
    "    pl.read_csv(\"../data/nasa/Meteorite_Landings.csv\")\n",
    "    .rename({\"mass (g)\": \"mass\"})\n",
    "    .select(\"id\", \"year\", \"fall\", pl.col(\"mass\") / 1000)\n",
    "    .filter(pl.col(\"mass\").is_not_null())\n",
    "    .filter((pl.col(\"year\") >= 1800) & (pl.col(\"year\") < 2026))\n",
    "    .sort(\"year\")\n",
    ")\n",
    "\n",
    "meteorites"
   ]
  },
  {
   "cell_type": "markdown",
   "id": "88ce5d9e",
   "metadata": {},
   "source": [
    "<sub>(*mass in kg)</sub>\n",
    "\n",
    "Largest 10 meteorites discovered (up to 2013):"
   ]
  },
  {
   "cell_type": "code",
   "execution_count": 27,
   "id": "e1d988a0",
   "metadata": {},
   "outputs": [
    {
     "data": {
      "text/html": [
       "<div><style>\n",
       ".dataframe > thead > tr,\n",
       ".dataframe > tbody > tr {\n",
       "  text-align: right;\n",
       "  white-space: pre-wrap;\n",
       "}\n",
       "</style>\n",
       "<small>shape: (10, 4)</small><table border=\"1\" class=\"dataframe\"><thead><tr><th>id</th><th>year</th><th>fall</th><th>mass</th></tr><tr><td>i64</td><td>i64</td><td>str</td><td>f64</td></tr></thead><tbody><tr><td>11890</td><td>1920</td><td>&quot;Found&quot;</td><td>60000.0</td></tr><tr><td>5262</td><td>1818</td><td>&quot;Found&quot;</td><td>58200.0</td></tr><tr><td>5257</td><td>1891</td><td>&quot;Found&quot;</td><td>30000.0</td></tr><tr><td>2335</td><td>1898</td><td>&quot;Found&quot;</td><td>28000.0</td></tr><tr><td>10912</td><td>1836</td><td>&quot;Found&quot;</td><td>26000.0</td></tr><tr><td>5363</td><td>1852</td><td>&quot;Found&quot;</td><td>24300.0</td></tr><tr><td>16852</td><td>1911</td><td>&quot;Found&quot;</td><td>24000.0</td></tr><tr><td>23593</td><td>1947</td><td>&quot;Fell&quot;</td><td>23000.0</td></tr><tr><td>4919</td><td>1863</td><td>&quot;Found&quot;</td><td>22000.0</td></tr><tr><td>15456</td><td>1930</td><td>&quot;Found&quot;</td><td>16000.0</td></tr></tbody></table></div>"
      ],
      "text/plain": [
       "shape: (10, 4)\n",
       "┌───────┬──────┬───────┬─────────┐\n",
       "│ id    ┆ year ┆ fall  ┆ mass    │\n",
       "│ ---   ┆ ---  ┆ ---   ┆ ---     │\n",
       "│ i64   ┆ i64  ┆ str   ┆ f64     │\n",
       "╞═══════╪══════╪═══════╪═════════╡\n",
       "│ 11890 ┆ 1920 ┆ Found ┆ 60000.0 │\n",
       "│ 5262  ┆ 1818 ┆ Found ┆ 58200.0 │\n",
       "│ 5257  ┆ 1891 ┆ Found ┆ 30000.0 │\n",
       "│ 2335  ┆ 1898 ┆ Found ┆ 28000.0 │\n",
       "│ 10912 ┆ 1836 ┆ Found ┆ 26000.0 │\n",
       "│ 5363  ┆ 1852 ┆ Found ┆ 24300.0 │\n",
       "│ 16852 ┆ 1911 ┆ Found ┆ 24000.0 │\n",
       "│ 23593 ┆ 1947 ┆ Fell  ┆ 23000.0 │\n",
       "│ 4919  ┆ 1863 ┆ Found ┆ 22000.0 │\n",
       "│ 15456 ┆ 1930 ┆ Found ┆ 16000.0 │\n",
       "└───────┴──────┴───────┴─────────┘"
      ]
     },
     "execution_count": 27,
     "metadata": {},
     "output_type": "execute_result"
    }
   ],
   "source": [
    "meteorites.sort(\"mass\", descending=True).head(10)"
   ]
  },
  {
   "cell_type": "code",
   "execution_count": 28,
   "id": "69f0cd9b",
   "metadata": {},
   "outputs": [
    {
     "data": {
      "text/html": [
       "<div><style>\n",
       ".dataframe > thead > tr,\n",
       ".dataframe > tbody > tr {\n",
       "  text-align: right;\n",
       "  white-space: pre-wrap;\n",
       "}\n",
       "</style>\n",
       "<small>shape: (2, 4)</small><table border=\"1\" class=\"dataframe\"><thead><tr><th>fall</th><th>count</th><th>mean</th><th>max</th></tr><tr><td>str</td><td>u32</td><td>f64</td><td>f64</td></tr></thead><tbody><tr><td>&quot;Fell&quot;</td><td>1040</td><td>48.15393</td><td>23000.0</td></tr><tr><td>&quot;Found&quot;</td><td>44222</td><td>10.891534</td><td>60000.0</td></tr></tbody></table></div>"
      ],
      "text/plain": [
       "shape: (2, 4)\n",
       "┌───────┬───────┬───────────┬─────────┐\n",
       "│ fall  ┆ count ┆ mean      ┆ max     │\n",
       "│ ---   ┆ ---   ┆ ---       ┆ ---     │\n",
       "│ str   ┆ u32   ┆ f64       ┆ f64     │\n",
       "╞═══════╪═══════╪═══════════╪═════════╡\n",
       "│ Fell  ┆ 1040  ┆ 48.15393  ┆ 23000.0 │\n",
       "│ Found ┆ 44222 ┆ 10.891534 ┆ 60000.0 │\n",
       "└───────┴───────┴───────────┴─────────┘"
      ]
     },
     "execution_count": 28,
     "metadata": {},
     "output_type": "execute_result"
    }
   ],
   "source": [
    "meteorites.group_by(\"fall\").agg(\n",
    "    pl.len().alias(\"count\"),\n",
    "    pl.mean(\"mass\").alias(\"mean\"),\n",
    "    pl.max(\"mass\").alias(\"max\"),\n",
    ")"
   ]
  },
  {
   "cell_type": "markdown",
   "id": "1a090356",
   "metadata": {},
   "source": [
    "Summarised below is the **annual block maxima** i.t.o. mass:"
   ]
  },
  {
   "cell_type": "code",
   "execution_count": 29,
   "id": "d26dc0f7",
   "metadata": {},
   "outputs": [
    {
     "data": {
      "application/vnd.plotly.v1+json": {
       "config": {
        "plotlyServerURL": "https://plot.ly"
       },
       "data": [
        {
         "hovertemplate": "fall=Fell<br>year=%{x}<br>mass=%{y}<extra></extra>",
         "legendgroup": "Fell",
         "line": {
          "color": "#636efa",
          "dash": "solid",
          "width": 1
         },
         "marker": {
          "size": 4,
          "symbol": 1
         },
         "mode": "lines+markers",
         "name": "Fell",
         "orientation": "v",
         "showlegend": true,
         "type": "scatter",
         "x": {
          "bdata": "CQcLBwwHDQcOBw8HEAcRBxIHEwcUBxUHFgcXBxkHGgcbBxwHHQceBx8HIAchByIHIwckByUHJgcnBykHKgcrBywHLQcuBy8HMAcxBzIHMwc0BzUHNgc3BzgHOQc6BzsHPAc9Bz4HPwdAB0EHQgdDB0QHRQdGB0cHSAdJB0oHSwdMB00HTgdPB1AHUQdSB1MHVAdVB1YHVwdYB1kHWgdbB1wHXQdeB18HYQdiB2MHZAdlB2YHZwdoB2kHagdrB2wHbQduB28HcAdxB3IHcwd0B3UHdgd3B3gHeQd6B3sHfAd9B34HfweAB4EHggeDB4QHhQeGB4cHiAeJB4oHiweMB40HjgePB5AHkQeSB5MHlAeVB5YHlweYB5kHmgebB5wHnQeeB58HoAehB6IHowekB6UHpgenB6gHqQeqB6sHrAetB64HrwewB7EHsgezB7QHtQe2B7cHuAe5B7oHuwe8B70Hvge/B8AHwQfCB8MHxAfFB8YHxwfIB8kHygfLB8wHzQfOB88H0AfRB9IH0wfUB9YH1wfYB9kH2gfbB9wH3Qc=",
          "dtype": "i2"
         },
         "xaxis": "x",
         "y": {
          "bdata": "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",
          "dtype": "f8"
         },
         "yaxis": "y"
        },
        {
         "hovertemplate": "fall=Found<br>year=%{x}<br>mass=%{y}<extra></extra>",
         "legendgroup": "Found",
         "line": {
          "color": "#EF553B",
          "dash": "solid",
          "width": 1
         },
         "marker": {
          "size": 4,
          "symbol": 1
         },
         "mode": "lines+markers",
         "name": "Found",
         "orientation": "v",
         "showlegend": true,
         "type": "scatter",
         "x": {
          "bdata": "DAcNBxAHEgcWBxoHGwceByEHJAclBygHKgcsBy0HLgcvBzAHMQcyBzMHNAc1BzYHNwc5BzoHPAc9Bz4HPwdAB0EHQgdDB0QHRQdGB0cHSAdJB0oHSwdMB00HTgdPB1AHUQdSB1MHVAdVB1YHVwdYB1kHWgdbB1wHXQdeB18HYAdhB2IHYwdkB2UHZgdnB2gHaQdqB2sHbAdtB24HbwdwB3EHcgdzB3QHdQd2B3cHeAd5B3oHewd8B30Hfgd/B4AHgQeCB4MHhAeFB4YHhweIB4kHigeLB4wHjQeOB48HkAeRB5IHkweUB5UHlgeXB5gHmQeaB5sHnAedB54HnwegB6EHogejB6QHpQemB6cHqAepB6oHqwesB60HrgevB7AHsQeyB7MHtAe1B7YHtwe4B7kHuge7B7wHvQe+B78HwAfBB8IHwwfEB8UHxgfHB8gHyQfKB8sHzAfNB84HzwfQB9EH0gfTB9QH1QfWB9cH2AfZB9oH2wfcB90H",
          "dtype": "i2"
         },
         "xaxis": "x",
         "y": {
          "bdata": "AAAAAADglUAAAAAAAHCXQAAAAAAAAIlAAAAAAADIiUAAAAAAACBbQAAAAAAAa+xAAAAAAAAAUUAAAAAAAMCMQAAAAAAAUHpAAAAAAACQg0AAAAAAAIBNQDMzMzMzs1JAAAAAAAAANEAAAAAAAGTZQAAAAAAAaKBAAAAAAAAA+D+amZmZmVlAQAAAAAAAwGJAAAAAAAAAHECamZmZmZkZQAAAAAAAAAJAKVyPwvWISkAAAAAAAABpQAAAAAAAQG9AAAAAAACAWUAAAAAAAIAwQAAAAAAAeI5AAAAAAAC710AAAAAAAAA7QAAAAAAAzMBAmpmZmZmZYkBSuB6F60FSQJqZmZmZWVZAAAAAAACQf0AAAAAAAIBFQAAAAAAAwFxAAAAAAADorUDNzMzMzMz8PwAAAAAAfNVAAAAAAADgf0Db+X5qvHSzPwAAAAAAYGxAAAAAAAAkmEAAAAAAAOBjQAAAAAAA4GVAAAAAAADAYkAAAAAAAAApQAAAAAAAkJRAAAAAAAAga0AAAAAAAIBEQAAAAAAAWLtAAAAAAAAAYUCJQWDl0CLnP5qZmZmZKWNAAAAAAACASkAAAAAAAABNQAAAAAAAgGZAAAAAAADMsEAAAAAAACByQAAAAAAAsK1AAAAAAADAZUBnZmZmZqZLQAAAAAAAAHhAAAAAAACQbkAAAAAAAEBoQAAAAAAAAHlAAAAAAABM3UDXo3A9CrdVQAAAAAAAgDtAAAAAAACAVEAzMzMzM7M7QAAAAAAAWIVAAAAAAAAAVkAAAAAAAFjbQM3MzMzMzB5AAAAAAAAAOkDNzMzMzMw+QAAAAAAARs5AAAAAAABUkkAAAAAAAABIQAAAAAAAQD5AAAAAAADAbEAAAAAAAFBzQAAAAAAAqJZAAAAAAADckUAAAAAAAAAtQAAAAAAAcNdAAAAAAADAYEAAAAAAAGB0QAAAAAAAIHJAzczMzMwEh0AAAAAAAIA3QAAAAAAA4IVAmpmZmZk5Y0AAAAAAAMBPQAAAAAAATO1AAAAAAAAQoUAAAAAAAACZQAAAAAAAYHxAAAAAAAD4oUAAAAAAAABpQAAAAAAAwFtAAAAAAADgekAAAAAAAEBEQAAAAAAAaIBAAAAAAABAz0AAAAAAAECfQAAAAAAAwGdAAAAAAADgcEAzMzMzMxNdQAAAAAAAgFdAAAAAAAAAUUAAAAAAACiPQAAAAAAARpJAAAAAAADAYUAAAAAAAACJQAAAAAAAUHBAAAAAAABAf0AAAAAAAEBTQAAAAAAAiIBAAAAAAAAAV0AzMzMzM7NLQAAAAAAAwIdAMzMzMzOTXUAAAAAAAABZQAAAAAAAoGFAAAAAAACYh0AAAAAAADCCQJqZmZmZGUhAAAAAAABYm0AAAAAAAPByQM3MzMzMxItAAAAAAAAwcUAAAAAAAI7CQAAAAAAAAGlAAAAAAAAAPkAAAAAAALBxQAAAAAAAAFlAZmZmZmaWYEAAAAAAAHCnQAAAAAAAIHxAAAAAAAAgjEAAAAAAALCDQDMzMzMzJZNAZ2ZmZmZmXEDNzMzMzKxbQAAAAAAAcHFAAAAAAABAV0AAAAAAAMCSQAAAAAAAgEdAAAAAAABAUUAAAAAAAIKlQDEIrBxalFJAmpmZmZlJYUAAAAAAAEBGQAAAAAAAAFlAAAAAAABAj0AAAAAAAMBSQAAAAAAAQJ9AzczMzMwMZUB1kxgEVo5bQGdmZmZmZlRAAAAAAAAASUAAAAAAAEBQQAAAAAAAQFpAAAAAAADAaEAAAAAAAOB1QAAAAAAAQJ9A7FG4HoWrM0AAAAAAAIB2QAAAAAAAgHFAAAAAAACAYUAAAAAAACByQAAAAAAAQFVAAAAAAADAV0AAAAAAAECfQJqZmZmZrXlAAAAAAAAwgUAAAAAAAABkQAAAAAAAcKdAAAAAAADAckAAAAAAAHCnQAAAAAAAAFNAAAAAAAA4f0AAAAAAAACZQAAAAAAAAFlAfT81XrrxXEAAAAAAAAAyQAAAAAAAAPA/",
          "dtype": "f8"
         },
         "yaxis": "y"
        }
       ],
       "layout": {
        "legend": {
         "title": {
          "text": "Discovery"
         },
         "tracegroupgap": 0
        },
        "template": {
         "data": {
          "bar": [
           {
            "error_x": {
             "color": "#2a3f5f"
            },
            "error_y": {
             "color": "#2a3f5f"
            },
            "marker": {
             "line": {
              "color": "#E5ECF6",
              "width": 0.5
             },
             "pattern": {
              "fillmode": "overlay",
              "size": 10,
              "solidity": 0.2
             }
            },
            "type": "bar"
           }
          ],
          "barpolar": [
           {
            "marker": {
             "line": {
              "color": "#E5ECF6",
              "width": 0.5
             },
             "pattern": {
              "fillmode": "overlay",
              "size": 10,
              "solidity": 0.2
             }
            },
            "type": "barpolar"
           }
          ],
          "carpet": [
           {
            "aaxis": {
             "endlinecolor": "#2a3f5f",
             "gridcolor": "white",
             "linecolor": "white",
             "minorgridcolor": "white",
             "startlinecolor": "#2a3f5f"
            },
            "baxis": {
             "endlinecolor": "#2a3f5f",
             "gridcolor": "white",
             "linecolor": "white",
             "minorgridcolor": "white",
             "startlinecolor": "#2a3f5f"
            },
            "type": "carpet"
           }
          ],
          "choropleth": [
           {
            "colorbar": {
             "outlinewidth": 0,
             "ticks": ""
            },
            "type": "choropleth"
           }
          ],
          "contour": [
           {
            "colorbar": {
             "outlinewidth": 0,
             "ticks": ""
            },
            "colorscale": [
             [
              0,
              "#0d0887"
             ],
             [
              0.1111111111111111,
              "#46039f"
             ],
             [
              0.2222222222222222,
              "#7201a8"
             ],
             [
              0.3333333333333333,
              "#9c179e"
             ],
             [
              0.4444444444444444,
              "#bd3786"
             ],
             [
              0.5555555555555556,
              "#d8576b"
             ],
             [
              0.6666666666666666,
              "#ed7953"
             ],
             [
              0.7777777777777778,
              "#fb9f3a"
             ],
             [
              0.8888888888888888,
              "#fdca26"
             ],
             [
              1,
              "#f0f921"
             ]
            ],
            "type": "contour"
           }
          ],
          "contourcarpet": [
           {
            "colorbar": {
             "outlinewidth": 0,
             "ticks": ""
            },
            "type": "contourcarpet"
           }
          ],
          "heatmap": [
           {
            "colorbar": {
             "outlinewidth": 0,
             "ticks": ""
            },
            "colorscale": [
             [
              0,
              "#0d0887"
             ],
             [
              0.1111111111111111,
              "#46039f"
             ],
             [
              0.2222222222222222,
              "#7201a8"
             ],
             [
              0.3333333333333333,
              "#9c179e"
             ],
             [
              0.4444444444444444,
              "#bd3786"
             ],
             [
              0.5555555555555556,
              "#d8576b"
             ],
             [
              0.6666666666666666,
              "#ed7953"
             ],
             [
              0.7777777777777778,
              "#fb9f3a"
             ],
             [
              0.8888888888888888,
              "#fdca26"
             ],
             [
              1,
              "#f0f921"
             ]
            ],
            "type": "heatmap"
           }
          ],
          "histogram": [
           {
            "marker": {
             "pattern": {
              "fillmode": "overlay",
              "size": 10,
              "solidity": 0.2
             }
            },
            "type": "histogram"
           }
          ],
          "histogram2d": [
           {
            "colorbar": {
             "outlinewidth": 0,
             "ticks": ""
            },
            "colorscale": [
             [
              0,
              "#0d0887"
             ],
             [
              0.1111111111111111,
              "#46039f"
             ],
             [
              0.2222222222222222,
              "#7201a8"
             ],
             [
              0.3333333333333333,
              "#9c179e"
             ],
             [
              0.4444444444444444,
              "#bd3786"
             ],
             [
              0.5555555555555556,
              "#d8576b"
             ],
             [
              0.6666666666666666,
              "#ed7953"
             ],
             [
              0.7777777777777778,
              "#fb9f3a"
             ],
             [
              0.8888888888888888,
              "#fdca26"
             ],
             [
              1,
              "#f0f921"
             ]
            ],
            "type": "histogram2d"
           }
          ],
          "histogram2dcontour": [
           {
            "colorbar": {
             "outlinewidth": 0,
             "ticks": ""
            },
            "colorscale": [
             [
              0,
              "#0d0887"
             ],
             [
              0.1111111111111111,
              "#46039f"
             ],
             [
              0.2222222222222222,
              "#7201a8"
             ],
             [
              0.3333333333333333,
              "#9c179e"
             ],
             [
              0.4444444444444444,
              "#bd3786"
             ],
             [
              0.5555555555555556,
              "#d8576b"
             ],
             [
              0.6666666666666666,
              "#ed7953"
             ],
             [
              0.7777777777777778,
              "#fb9f3a"
             ],
             [
              0.8888888888888888,
              "#fdca26"
             ],
             [
              1,
              "#f0f921"
             ]
            ],
            "type": "histogram2dcontour"
           }
          ],
          "mesh3d": [
           {
            "colorbar": {
             "outlinewidth": 0,
             "ticks": ""
            },
            "type": "mesh3d"
           }
          ],
          "parcoords": [
           {
            "line": {
             "colorbar": {
              "outlinewidth": 0,
              "ticks": ""
             }
            },
            "type": "parcoords"
           }
          ],
          "pie": [
           {
            "automargin": true,
            "type": "pie"
           }
          ],
          "scatter": [
           {
            "fillpattern": {
             "fillmode": "overlay",
             "size": 10,
             "solidity": 0.2
            },
            "type": "scatter"
           }
          ],
          "scatter3d": [
           {
            "line": {
             "colorbar": {
              "outlinewidth": 0,
              "ticks": ""
             }
            },
            "marker": {
             "colorbar": {
              "outlinewidth": 0,
              "ticks": ""
             }
            },
            "type": "scatter3d"
           }
          ],
          "scattercarpet": [
           {
            "marker": {
             "colorbar": {
              "outlinewidth": 0,
              "ticks": ""
             }
            },
            "type": "scattercarpet"
           }
          ],
          "scattergeo": [
           {
            "marker": {
             "colorbar": {
              "outlinewidth": 0,
              "ticks": ""
             }
            },
            "type": "scattergeo"
           }
          ],
          "scattergl": [
           {
            "marker": {
             "colorbar": {
              "outlinewidth": 0,
              "ticks": ""
             }
            },
            "type": "scattergl"
           }
          ],
          "scattermap": [
           {
            "marker": {
             "colorbar": {
              "outlinewidth": 0,
              "ticks": ""
             }
            },
            "type": "scattermap"
           }
          ],
          "scattermapbox": [
           {
            "marker": {
             "colorbar": {
              "outlinewidth": 0,
              "ticks": ""
             }
            },
            "type": "scattermapbox"
           }
          ],
          "scatterpolar": [
           {
            "marker": {
             "colorbar": {
              "outlinewidth": 0,
              "ticks": ""
             }
            },
            "type": "scatterpolar"
           }
          ],
          "scatterpolargl": [
           {
            "marker": {
             "colorbar": {
              "outlinewidth": 0,
              "ticks": ""
             }
            },
            "type": "scatterpolargl"
           }
          ],
          "scatterternary": [
           {
            "marker": {
             "colorbar": {
              "outlinewidth": 0,
              "ticks": ""
             }
            },
            "type": "scatterternary"
           }
          ],
          "surface": [
           {
            "colorbar": {
             "outlinewidth": 0,
             "ticks": ""
            },
            "colorscale": [
             [
              0,
              "#0d0887"
             ],
             [
              0.1111111111111111,
              "#46039f"
             ],
             [
              0.2222222222222222,
              "#7201a8"
             ],
             [
              0.3333333333333333,
              "#9c179e"
             ],
             [
              0.4444444444444444,
              "#bd3786"
             ],
             [
              0.5555555555555556,
              "#d8576b"
             ],
             [
              0.6666666666666666,
              "#ed7953"
             ],
             [
              0.7777777777777778,
              "#fb9f3a"
             ],
             [
              0.8888888888888888,
              "#fdca26"
             ],
             [
              1,
              "#f0f921"
             ]
            ],
            "type": "surface"
           }
          ],
          "table": [
           {
            "cells": {
             "fill": {
              "color": "#EBF0F8"
             },
             "line": {
              "color": "white"
             }
            },
            "header": {
             "fill": {
              "color": "#C8D4E3"
             },
             "line": {
              "color": "white"
             }
            },
            "type": "table"
           }
          ]
         },
         "layout": {
          "annotationdefaults": {
           "arrowcolor": "#2a3f5f",
           "arrowhead": 0,
           "arrowwidth": 1
          },
          "autotypenumbers": "strict",
          "coloraxis": {
           "colorbar": {
            "outlinewidth": 0,
            "ticks": ""
           }
          },
          "colorscale": {
           "diverging": [
            [
             0,
             "#8e0152"
            ],
            [
             0.1,
             "#c51b7d"
            ],
            [
             0.2,
             "#de77ae"
            ],
            [
             0.3,
             "#f1b6da"
            ],
            [
             0.4,
             "#fde0ef"
            ],
            [
             0.5,
             "#f7f7f7"
            ],
            [
             0.6,
             "#e6f5d0"
            ],
            [
             0.7,
             "#b8e186"
            ],
            [
             0.8,
             "#7fbc41"
            ],
            [
             0.9,
             "#4d9221"
            ],
            [
             1,
             "#276419"
            ]
           ],
           "sequential": [
            [
             0,
             "#0d0887"
            ],
            [
             0.1111111111111111,
             "#46039f"
            ],
            [
             0.2222222222222222,
             "#7201a8"
            ],
            [
             0.3333333333333333,
             "#9c179e"
            ],
            [
             0.4444444444444444,
             "#bd3786"
            ],
            [
             0.5555555555555556,
             "#d8576b"
            ],
            [
             0.6666666666666666,
             "#ed7953"
            ],
            [
             0.7777777777777778,
             "#fb9f3a"
            ],
            [
             0.8888888888888888,
             "#fdca26"
            ],
            [
             1,
             "#f0f921"
            ]
           ],
           "sequentialminus": [
            [
             0,
             "#0d0887"
            ],
            [
             0.1111111111111111,
             "#46039f"
            ],
            [
             0.2222222222222222,
             "#7201a8"
            ],
            [
             0.3333333333333333,
             "#9c179e"
            ],
            [
             0.4444444444444444,
             "#bd3786"
            ],
            [
             0.5555555555555556,
             "#d8576b"
            ],
            [
             0.6666666666666666,
             "#ed7953"
            ],
            [
             0.7777777777777778,
             "#fb9f3a"
            ],
            [
             0.8888888888888888,
             "#fdca26"
            ],
            [
             1,
             "#f0f921"
            ]
           ]
          },
          "colorway": [
           "#636efa",
           "#EF553B",
           "#00cc96",
           "#ab63fa",
           "#FFA15A",
           "#19d3f3",
           "#FF6692",
           "#B6E880",
           "#FF97FF",
           "#FECB52"
          ],
          "font": {
           "color": "#2a3f5f"
          },
          "geo": {
           "bgcolor": "white",
           "lakecolor": "white",
           "landcolor": "#E5ECF6",
           "showlakes": true,
           "showland": true,
           "subunitcolor": "white"
          },
          "hoverlabel": {
           "align": "left"
          },
          "hovermode": "closest",
          "mapbox": {
           "style": "light"
          },
          "paper_bgcolor": "white",
          "plot_bgcolor": "#E5ECF6",
          "polar": {
           "angularaxis": {
            "gridcolor": "white",
            "linecolor": "white",
            "ticks": ""
           },
           "bgcolor": "#E5ECF6",
           "radialaxis": {
            "gridcolor": "white",
            "linecolor": "white",
            "ticks": ""
           }
          },
          "scene": {
           "xaxis": {
            "backgroundcolor": "#E5ECF6",
            "gridcolor": "white",
            "gridwidth": 2,
            "linecolor": "white",
            "showbackground": true,
            "ticks": "",
            "zerolinecolor": "white"
           },
           "yaxis": {
            "backgroundcolor": "#E5ECF6",
            "gridcolor": "white",
            "gridwidth": 2,
            "linecolor": "white",
            "showbackground": true,
            "ticks": "",
            "zerolinecolor": "white"
           },
           "zaxis": {
            "backgroundcolor": "#E5ECF6",
            "gridcolor": "white",
            "gridwidth": 2,
            "linecolor": "white",
            "showbackground": true,
            "ticks": "",
            "zerolinecolor": "white"
           }
          },
          "shapedefaults": {
           "line": {
            "color": "#2a3f5f"
           }
          },
          "ternary": {
           "aaxis": {
            "gridcolor": "white",
            "linecolor": "white",
            "ticks": ""
           },
           "baxis": {
            "gridcolor": "white",
            "linecolor": "white",
            "ticks": ""
           },
           "bgcolor": "#E5ECF6",
           "caxis": {
            "gridcolor": "white",
            "linecolor": "white",
            "ticks": ""
           }
          },
          "title": {
           "x": 0.05
          },
          "xaxis": {
           "automargin": true,
           "gridcolor": "white",
           "linecolor": "white",
           "ticks": "",
           "title": {
            "standoff": 15
           },
           "zerolinecolor": "white",
           "zerolinewidth": 2
          },
          "yaxis": {
           "automargin": true,
           "gridcolor": "white",
           "linecolor": "white",
           "ticks": "",
           "title": {
            "standoff": 15
           },
           "zerolinecolor": "white",
           "zerolinewidth": 2
          }
         }
        },
        "title": {
         "text": "Yearly Maxima of Mass"
        },
        "xaxis": {
         "anchor": "y",
         "domain": [
          0,
          1
         ],
         "title": {
          "text": "year"
         }
        },
        "yaxis": {
         "anchor": "x",
         "domain": [
          0,
          1
         ],
         "title": {
          "text": "Mass (kg)"
         },
         "type": "log"
        }
       }
      }
     },
     "metadata": {},
     "output_type": "display_data"
    }
   ],
   "source": [
    "meteorite_max = meteorites.group_by((\"fall\", \"year\")).agg(pl.max(\"mass\"), pl.len().alias(\"count\")).sort(\"year\")\n",
    "\n",
    "plt.line(meteorite_max, \"year\", \"mass\", color=\"fall\", log_y=True, markers=True, title=\"Yearly Maxima of Mass\") \\\n",
    "    .update_traces(marker_symbol=1, marker_size=4, line_width=1) \\\n",
    "    .update_layout(legend_title=\"Discovery\", yaxis_title_text=\"Mass (kg)\") \\\n",
    "    .show()"
   ]
  },
  {
   "cell_type": "code",
   "execution_count": 30,
   "id": "f9c03c8a",
   "metadata": {},
   "outputs": [
    {
     "data": {
      "application/vnd.plotly.v1+json": {
       "config": {
        "plotlyServerURL": "https://plot.ly"
       },
       "data": [
        {
         "hovertemplate": "fall=Fell<br>year=%{x}<br>count=%{y}<extra></extra>",
         "legendgroup": "Fell",
         "line": {
          "color": "#636efa",
          "dash": "solid",
          "width": 1
         },
         "marker": {
          "size": 4,
          "symbol": 1
         },
         "mode": "lines+markers",
         "name": "Fell",
         "orientation": "v",
         "showlegend": true,
         "type": "scatter",
         "x": {
          "bdata": "CQcLBwwHDQcOBw8HEAcRBxIHEwcUBxUHFgcXBxkHGgcbBxwHHQceBx8HIAchByIHIwckByUHJgcnBykHKgcrBywHLQcuBy8HMAcxBzIHMwc0BzUHNgc3BzgHOQc6BzsHPAc9Bz4HPwdAB0EHQgdDB0QHRQdGB0cHSAdJB0oHSwdMB00HTgdPB1AHUQdSB1MHVAdVB1YHVwdYB1kHWgdbB1wHXQdeB18HYQdiB2MHZAdlB2YHZwdoB2kHagdrB2wHbQduB28HcAdxB3IHcwd0B3UHdgd3B3gHeQd6B3sHfAd9B34HfweAB4EHggeDB4QHhQeGB4cHiAeJB4oHiweMB40HjgePB5AHkQeSB5MHlAeVB5YHlweYB5kHmgebB5wHnQeeB58HoAehB6IHowekB6UHpgenB6gHqQeqB6sHrAetB64HrwewB7EHsgezB7QHtQe2B7cHuAe5B7oHuwe8B70Hvge/B8AHwQfCB8MHxAfFB8YHxwfIB8kHygfLB8wHzQfOB88H0AfRB9IH0wfUB9YH1wfYB9kH2gfbB9wH3Qc=",
          "dtype": "i2"
         },
         "xaxis": "x",
         "y": {
          "bdata": "AQAAAAMAAAADAAAAAgAAAAEAAAACAAAABAAAAAEAAAADAAAAAwAAAAQAAAACAAAABAAAAAIAAAABAAAAAwAAAAIAAAABAAAAAQAAAAUAAAACAAAAAwAAAAIAAAADAAAAAwAAAAEAAAADAAAAAgAAAAIAAAABAAAAAgAAAAIAAAADAAAAAwAAAAUAAAABAAAAAwAAAAMAAAADAAAABQAAAAMAAAACAAAAAwAAAAIAAAAEAAAAAQAAAAIAAAADAAAABAAAAAMAAAABAAAABgAAAAIAAAAHAAAABAAAAAQAAAAGAAAABAAAAAIAAAAGAAAAAwAAAAcAAAAHAAAAAwAAAAsAAAAHAAAAAwAAAAQAAAAEAAAABQAAAAMAAAAGAAAABQAAAAcAAAAGAAAACAAAAAcAAAAEAAAABAAAAAMAAAADAAAAAgAAAAcAAAAFAAAABQAAAAkAAAACAAAABAAAAAQAAAAEAAAABAAAAAQAAAAIAAAABQAAAAcAAAAIAAAABQAAAAcAAAAIAAAABAAAAAUAAAAHAAAABAAAAAYAAAACAAAACgAAAAUAAAAEAAAABAAAAAcAAAACAAAACgAAAAoAAAAGAAAABwAAAAUAAAAIAAAABgAAAAYAAAAKAAAACAAAAAcAAAAGAAAABgAAAAcAAAALAAAABAAAAAgAAAARAAAACgAAAAYAAAAFAAAABgAAAAsAAAAKAAAABQAAAAQAAAAIAAAAAwAAAAUAAAAEAAAABQAAAAYAAAADAAAADAAAAAsAAAAGAAAABgAAAAMAAAAGAAAABAAAAAgAAAAGAAAAAgAAAAYAAAAEAAAABwAAAAcAAAAHAAAABwAAAAQAAAAEAAAACQAAAAUAAAAGAAAACAAAAAcAAAADAAAABAAAAAcAAAAEAAAACwAAAAoAAAADAAAAAgAAAAYAAAAHAAAAAwAAAAQAAAAKAAAAAgAAAAkAAAABAAAABgAAAAYAAAAIAAAABQAAAAMAAAAEAAAABgAAAAYAAAAFAAAAAwAAAAkAAAAHAAAAAwAAAAUAAAAIAAAACQAAAAYAAAAFAAAACAAAAAkAAAAFAAAABgAAAAQAAAACAAAAAQAAAA==",
          "dtype": "u4"
         },
         "yaxis": "y"
        },
        {
         "hovertemplate": "fall=Found<br>year=%{x}<br>count=%{y}<extra></extra>",
         "legendgroup": "Found",
         "line": {
          "color": "#EF553B",
          "dash": "solid",
          "width": 1
         },
         "marker": {
          "size": 4,
          "symbol": 1
         },
         "mode": "lines+markers",
         "name": "Found",
         "orientation": "v",
         "showlegend": true,
         "type": "scatter",
         "x": {
          "bdata": "DAcNBxAHEgcWBxoHGwceByEHJAclBygHKgcsBy0HLgcvBzAHMQcyBzMHNAc1BzYHNwc5BzoHPAc9Bz4HPwdAB0EHQgdDB0QHRQdGB0cHSAdJB0oHSwdMB00HTgdPB1AHUQdSB1MHVAdVB1YHVwdYB1kHWgdbB1wHXQdeB18HYAdhB2IHYwdkB2UHZgdnB2gHaQdqB2sHbAdtB24HbwdwB3EHcgdzB3QHdQd2B3cHeAd5B3oHewd8B30Hfgd/B4AHgQeCB4MHhAeFB4YHhweIB4kHigeLB4wHjQeOB48HkAeRB5IHkweUB5UHlgeXB5gHmQeaB5sHnAedB54HnwegB6EHogejB6QHpQemB6cHqAepB6oHqwesB60HrgevB7AHsQeyB7MHtAe1B7YHtwe4B7kHuge7B7wHvQe+B78HwAfBB8IHwwfEB8UHxgfHB8gHyQfKB8sHzAfNB84HzwfQB9EH0gfTB9QH1QfWB9cH2AfZB9oH2wfcB90H",
          "dtype": "i2"
         },
         "xaxis": "x",
         "y": {
          "bdata": "AwAAAAEAAAABAAAAAgAAAAEAAAACAAAAAQAAAAIAAAABAAAAAQAAAAEAAAABAAAAAQAAAAIAAAACAAAAAgAAAAQAAAAEAAAAAQAAAAEAAAABAAAAAQAAAAEAAAAEAAAAAwAAAAIAAAAGAAAABAAAAAIAAAAIAAAAAwAAAAQAAAADAAAABAAAAAEAAAAFAAAAAgAAAAEAAAAJAAAAAQAAAAEAAAAFAAAABQAAAAUAAAAFAAAAAwAAAAMAAAACAAAABQAAAAMAAAAHAAAABAAAAAIAAAADAAAABgAAAAcAAAAGAAAABQAAAAcAAAAIAAAABQAAAAMAAAAQAAAADwAAAAoAAAALAAAACAAAAAcAAAAIAAAABgAAAAYAAAAGAAAABAAAAAwAAAAHAAAACQAAAAUAAAAFAAAADgAAAAcAAAAJAAAABgAAAAwAAAAHAAAACQAAAAkAAAAGAAAACAAAAAcAAAALAAAACwAAAAoAAAAJAAAACQAAAAcAAAAJAAAACgAAAAkAAAAKAAAACAAAAAkAAAAGAAAACgAAAAoAAAAIAAAABwAAAA0AAAARAAAADQAAABEAAAANAAAAHgAAAC4AAAAiAAAAFgAAACAAAAATAAAADAAAAAcAAAANAAAABwAAAAgAAAANAAAAEAAAAAoAAAAbAAAADQAAAAsAAAAGAAAADwAAABMAAAASAAAADAAAABAAAAAKAAAAGAAAABQAAAAdAAAAGgAAABkAAAArAAAAFAAAABwAAAAwAAAAPwAAACgAAAApAAAAHQAAABoAAACsAgAATQEAACgAAACaAQAAAQEAAOMLAACQAAAAyAEAAFUBAABjAQAAiAEAAHgBAABVBQAAkgMAAPIIAACBAAAA5QUAAGYDAABxAQAAzAMAAMcCAADfAQAAOAIAAJgGAAB8CgAAkAYAAPIGAABtBgAAEQgAAPIMAACOBwAAagMAAJIJAACdBAAAtAMAANQFAADnAwAAxQIAAOgAAAAKAAAA",
          "dtype": "u4"
         },
         "yaxis": "y"
        }
       ],
       "layout": {
        "legend": {
         "title": {
          "text": "Discovery"
         },
         "tracegroupgap": 0
        },
        "template": {
         "data": {
          "bar": [
           {
            "error_x": {
             "color": "#2a3f5f"
            },
            "error_y": {
             "color": "#2a3f5f"
            },
            "marker": {
             "line": {
              "color": "#E5ECF6",
              "width": 0.5
             },
             "pattern": {
              "fillmode": "overlay",
              "size": 10,
              "solidity": 0.2
             }
            },
            "type": "bar"
           }
          ],
          "barpolar": [
           {
            "marker": {
             "line": {
              "color": "#E5ECF6",
              "width": 0.5
             },
             "pattern": {
              "fillmode": "overlay",
              "size": 10,
              "solidity": 0.2
             }
            },
            "type": "barpolar"
           }
          ],
          "carpet": [
           {
            "aaxis": {
             "endlinecolor": "#2a3f5f",
             "gridcolor": "white",
             "linecolor": "white",
             "minorgridcolor": "white",
             "startlinecolor": "#2a3f5f"
            },
            "baxis": {
             "endlinecolor": "#2a3f5f",
             "gridcolor": "white",
             "linecolor": "white",
             "minorgridcolor": "white",
             "startlinecolor": "#2a3f5f"
            },
            "type": "carpet"
           }
          ],
          "choropleth": [
           {
            "colorbar": {
             "outlinewidth": 0,
             "ticks": ""
            },
            "type": "choropleth"
           }
          ],
          "contour": [
           {
            "colorbar": {
             "outlinewidth": 0,
             "ticks": ""
            },
            "colorscale": [
             [
              0,
              "#0d0887"
             ],
             [
              0.1111111111111111,
              "#46039f"
             ],
             [
              0.2222222222222222,
              "#7201a8"
             ],
             [
              0.3333333333333333,
              "#9c179e"
             ],
             [
              0.4444444444444444,
              "#bd3786"
             ],
             [
              0.5555555555555556,
              "#d8576b"
             ],
             [
              0.6666666666666666,
              "#ed7953"
             ],
             [
              0.7777777777777778,
              "#fb9f3a"
             ],
             [
              0.8888888888888888,
              "#fdca26"
             ],
             [
              1,
              "#f0f921"
             ]
            ],
            "type": "contour"
           }
          ],
          "contourcarpet": [
           {
            "colorbar": {
             "outlinewidth": 0,
             "ticks": ""
            },
            "type": "contourcarpet"
           }
          ],
          "heatmap": [
           {
            "colorbar": {
             "outlinewidth": 0,
             "ticks": ""
            },
            "colorscale": [
             [
              0,
              "#0d0887"
             ],
             [
              0.1111111111111111,
              "#46039f"
             ],
             [
              0.2222222222222222,
              "#7201a8"
             ],
             [
              0.3333333333333333,
              "#9c179e"
             ],
             [
              0.4444444444444444,
              "#bd3786"
             ],
             [
              0.5555555555555556,
              "#d8576b"
             ],
             [
              0.6666666666666666,
              "#ed7953"
             ],
             [
              0.7777777777777778,
              "#fb9f3a"
             ],
             [
              0.8888888888888888,
              "#fdca26"
             ],
             [
              1,
              "#f0f921"
             ]
            ],
            "type": "heatmap"
           }
          ],
          "histogram": [
           {
            "marker": {
             "pattern": {
              "fillmode": "overlay",
              "size": 10,
              "solidity": 0.2
             }
            },
            "type": "histogram"
           }
          ],
          "histogram2d": [
           {
            "colorbar": {
             "outlinewidth": 0,
             "ticks": ""
            },
            "colorscale": [
             [
              0,
              "#0d0887"
             ],
             [
              0.1111111111111111,
              "#46039f"
             ],
             [
              0.2222222222222222,
              "#7201a8"
             ],
             [
              0.3333333333333333,
              "#9c179e"
             ],
             [
              0.4444444444444444,
              "#bd3786"
             ],
             [
              0.5555555555555556,
              "#d8576b"
             ],
             [
              0.6666666666666666,
              "#ed7953"
             ],
             [
              0.7777777777777778,
              "#fb9f3a"
             ],
             [
              0.8888888888888888,
              "#fdca26"
             ],
             [
              1,
              "#f0f921"
             ]
            ],
            "type": "histogram2d"
           }
          ],
          "histogram2dcontour": [
           {
            "colorbar": {
             "outlinewidth": 0,
             "ticks": ""
            },
            "colorscale": [
             [
              0,
              "#0d0887"
             ],
             [
              0.1111111111111111,
              "#46039f"
             ],
             [
              0.2222222222222222,
              "#7201a8"
             ],
             [
              0.3333333333333333,
              "#9c179e"
             ],
             [
              0.4444444444444444,
              "#bd3786"
             ],
             [
              0.5555555555555556,
              "#d8576b"
             ],
             [
              0.6666666666666666,
              "#ed7953"
             ],
             [
              0.7777777777777778,
              "#fb9f3a"
             ],
             [
              0.8888888888888888,
              "#fdca26"
             ],
             [
              1,
              "#f0f921"
             ]
            ],
            "type": "histogram2dcontour"
           }
          ],
          "mesh3d": [
           {
            "colorbar": {
             "outlinewidth": 0,
             "ticks": ""
            },
            "type": "mesh3d"
           }
          ],
          "parcoords": [
           {
            "line": {
             "colorbar": {
              "outlinewidth": 0,
              "ticks": ""
             }
            },
            "type": "parcoords"
           }
          ],
          "pie": [
           {
            "automargin": true,
            "type": "pie"
           }
          ],
          "scatter": [
           {
            "fillpattern": {
             "fillmode": "overlay",
             "size": 10,
             "solidity": 0.2
            },
            "type": "scatter"
           }
          ],
          "scatter3d": [
           {
            "line": {
             "colorbar": {
              "outlinewidth": 0,
              "ticks": ""
             }
            },
            "marker": {
             "colorbar": {
              "outlinewidth": 0,
              "ticks": ""
             }
            },
            "type": "scatter3d"
           }
          ],
          "scattercarpet": [
           {
            "marker": {
             "colorbar": {
              "outlinewidth": 0,
              "ticks": ""
             }
            },
            "type": "scattercarpet"
           }
          ],
          "scattergeo": [
           {
            "marker": {
             "colorbar": {
              "outlinewidth": 0,
              "ticks": ""
             }
            },
            "type": "scattergeo"
           }
          ],
          "scattergl": [
           {
            "marker": {
             "colorbar": {
              "outlinewidth": 0,
              "ticks": ""
             }
            },
            "type": "scattergl"
           }
          ],
          "scattermap": [
           {
            "marker": {
             "colorbar": {
              "outlinewidth": 0,
              "ticks": ""
             }
            },
            "type": "scattermap"
           }
          ],
          "scattermapbox": [
           {
            "marker": {
             "colorbar": {
              "outlinewidth": 0,
              "ticks": ""
             }
            },
            "type": "scattermapbox"
           }
          ],
          "scatterpolar": [
           {
            "marker": {
             "colorbar": {
              "outlinewidth": 0,
              "ticks": ""
             }
            },
            "type": "scatterpolar"
           }
          ],
          "scatterpolargl": [
           {
            "marker": {
             "colorbar": {
              "outlinewidth": 0,
              "ticks": ""
             }
            },
            "type": "scatterpolargl"
           }
          ],
          "scatterternary": [
           {
            "marker": {
             "colorbar": {
              "outlinewidth": 0,
              "ticks": ""
             }
            },
            "type": "scatterternary"
           }
          ],
          "surface": [
           {
            "colorbar": {
             "outlinewidth": 0,
             "ticks": ""
            },
            "colorscale": [
             [
              0,
              "#0d0887"
             ],
             [
              0.1111111111111111,
              "#46039f"
             ],
             [
              0.2222222222222222,
              "#7201a8"
             ],
             [
              0.3333333333333333,
              "#9c179e"
             ],
             [
              0.4444444444444444,
              "#bd3786"
             ],
             [
              0.5555555555555556,
              "#d8576b"
             ],
             [
              0.6666666666666666,
              "#ed7953"
             ],
             [
              0.7777777777777778,
              "#fb9f3a"
             ],
             [
              0.8888888888888888,
              "#fdca26"
             ],
             [
              1,
              "#f0f921"
             ]
            ],
            "type": "surface"
           }
          ],
          "table": [
           {
            "cells": {
             "fill": {
              "color": "#EBF0F8"
             },
             "line": {
              "color": "white"
             }
            },
            "header": {
             "fill": {
              "color": "#C8D4E3"
             },
             "line": {
              "color": "white"
             }
            },
            "type": "table"
           }
          ]
         },
         "layout": {
          "annotationdefaults": {
           "arrowcolor": "#2a3f5f",
           "arrowhead": 0,
           "arrowwidth": 1
          },
          "autotypenumbers": "strict",
          "coloraxis": {
           "colorbar": {
            "outlinewidth": 0,
            "ticks": ""
           }
          },
          "colorscale": {
           "diverging": [
            [
             0,
             "#8e0152"
            ],
            [
             0.1,
             "#c51b7d"
            ],
            [
             0.2,
             "#de77ae"
            ],
            [
             0.3,
             "#f1b6da"
            ],
            [
             0.4,
             "#fde0ef"
            ],
            [
             0.5,
             "#f7f7f7"
            ],
            [
             0.6,
             "#e6f5d0"
            ],
            [
             0.7,
             "#b8e186"
            ],
            [
             0.8,
             "#7fbc41"
            ],
            [
             0.9,
             "#4d9221"
            ],
            [
             1,
             "#276419"
            ]
           ],
           "sequential": [
            [
             0,
             "#0d0887"
            ],
            [
             0.1111111111111111,
             "#46039f"
            ],
            [
             0.2222222222222222,
             "#7201a8"
            ],
            [
             0.3333333333333333,
             "#9c179e"
            ],
            [
             0.4444444444444444,
             "#bd3786"
            ],
            [
             0.5555555555555556,
             "#d8576b"
            ],
            [
             0.6666666666666666,
             "#ed7953"
            ],
            [
             0.7777777777777778,
             "#fb9f3a"
            ],
            [
             0.8888888888888888,
             "#fdca26"
            ],
            [
             1,
             "#f0f921"
            ]
           ],
           "sequentialminus": [
            [
             0,
             "#0d0887"
            ],
            [
             0.1111111111111111,
             "#46039f"
            ],
            [
             0.2222222222222222,
             "#7201a8"
            ],
            [
             0.3333333333333333,
             "#9c179e"
            ],
            [
             0.4444444444444444,
             "#bd3786"
            ],
            [
             0.5555555555555556,
             "#d8576b"
            ],
            [
             0.6666666666666666,
             "#ed7953"
            ],
            [
             0.7777777777777778,
             "#fb9f3a"
            ],
            [
             0.8888888888888888,
             "#fdca26"
            ],
            [
             1,
             "#f0f921"
            ]
           ]
          },
          "colorway": [
           "#636efa",
           "#EF553B",
           "#00cc96",
           "#ab63fa",
           "#FFA15A",
           "#19d3f3",
           "#FF6692",
           "#B6E880",
           "#FF97FF",
           "#FECB52"
          ],
          "font": {
           "color": "#2a3f5f"
          },
          "geo": {
           "bgcolor": "white",
           "lakecolor": "white",
           "landcolor": "#E5ECF6",
           "showlakes": true,
           "showland": true,
           "subunitcolor": "white"
          },
          "hoverlabel": {
           "align": "left"
          },
          "hovermode": "closest",
          "mapbox": {
           "style": "light"
          },
          "paper_bgcolor": "white",
          "plot_bgcolor": "#E5ECF6",
          "polar": {
           "angularaxis": {
            "gridcolor": "white",
            "linecolor": "white",
            "ticks": ""
           },
           "bgcolor": "#E5ECF6",
           "radialaxis": {
            "gridcolor": "white",
            "linecolor": "white",
            "ticks": ""
           }
          },
          "scene": {
           "xaxis": {
            "backgroundcolor": "#E5ECF6",
            "gridcolor": "white",
            "gridwidth": 2,
            "linecolor": "white",
            "showbackground": true,
            "ticks": "",
            "zerolinecolor": "white"
           },
           "yaxis": {
            "backgroundcolor": "#E5ECF6",
            "gridcolor": "white",
            "gridwidth": 2,
            "linecolor": "white",
            "showbackground": true,
            "ticks": "",
            "zerolinecolor": "white"
           },
           "zaxis": {
            "backgroundcolor": "#E5ECF6",
            "gridcolor": "white",
            "gridwidth": 2,
            "linecolor": "white",
            "showbackground": true,
            "ticks": "",
            "zerolinecolor": "white"
           }
          },
          "shapedefaults": {
           "line": {
            "color": "#2a3f5f"
           }
          },
          "ternary": {
           "aaxis": {
            "gridcolor": "white",
            "linecolor": "white",
            "ticks": ""
           },
           "baxis": {
            "gridcolor": "white",
            "linecolor": "white",
            "ticks": ""
           },
           "bgcolor": "#E5ECF6",
           "caxis": {
            "gridcolor": "white",
            "linecolor": "white",
            "ticks": ""
           }
          },
          "title": {
           "x": 0.05
          },
          "xaxis": {
           "automargin": true,
           "gridcolor": "white",
           "linecolor": "white",
           "ticks": "",
           "title": {
            "standoff": 15
           },
           "zerolinecolor": "white",
           "zerolinewidth": 2
          },
          "yaxis": {
           "automargin": true,
           "gridcolor": "white",
           "linecolor": "white",
           "ticks": "",
           "title": {
            "standoff": 15
           },
           "zerolinecolor": "white",
           "zerolinewidth": 2
          }
         }
        },
        "title": {
         "text": "Yearly Counts"
        },
        "xaxis": {
         "anchor": "y",
         "domain": [
          0,
          1
         ],
         "title": {
          "text": "year"
         }
        },
        "yaxis": {
         "anchor": "x",
         "domain": [
          0,
          1
         ],
         "title": {
          "text": "count"
         }
        }
       }
      }
     },
     "metadata": {},
     "output_type": "display_data"
    }
   ],
   "source": [
    "plt.line(meteorite_max, \"year\", \"count\", color=\"fall\", markers=True, title=\"Yearly Counts\") \\\n",
    "    .update_traces(marker_symbol=1, marker_size=4, line_width=1) \\\n",
    "    .update_layout(legend_title = \"Discovery\") \\\n",
    "    .show()"
   ]
  },
  {
   "cell_type": "markdown",
   "id": "94692f9b",
   "metadata": {},
   "source": [
    "# NASA Fireballs\n",
    "**_Dataset_**: https://cneos.jpl.nasa.gov/fireballs/\n",
    "\n",
    "Goal is to answer the following **research questions**:\n",
    "- Probability of another 440kt or larger meteor hitting the Earth?\n",
    "- Probability of another 440kt or larger meteor hitting the Earth in one year?\n",
    "- What proportion of all meteors exceed 440kt?\n",
    "- How many meteorites before we'd expect at least one 440kt meteor?\n",
    "- Larger meteorites?\n",
    "- How reliably can we estimate deep quantiles?\n",
    "- Tail behaviour as a way of understanding diminishing sizes of fireballs (EVI Index?)\n",
    "\n",
    "Who might be interested in this research?\n",
    "- Disaster Respondents\n",
    "- Deep Space Observatories\n",
    "- Geologists\n",
    "- Astronomers"
   ]
  },
  {
   "cell_type": "code",
   "execution_count": 7,
   "id": "ce6f0345",
   "metadata": {},
   "outputs": [
    {
     "data": {
      "text/html": [
       "<div><style>\n",
       ".dataframe > thead > tr,\n",
       ".dataframe > tbody > tr {\n",
       "  text-align: right;\n",
       "  white-space: pre-wrap;\n",
       "}\n",
       "</style>\n",
       "<small>shape: (1_039, 3)</small><table border=\"1\" class=\"dataframe\"><thead><tr><th>time</th><th>E</th><th>logE</th></tr><tr><td>datetime[μs]</td><td>f64</td><td>f64</td></tr></thead><tbody><tr><td>2020-02-10 23:48:17</td><td>0.048</td><td>-3.036554</td></tr><tr><td>2021-12-23 21:27:58</td><td>0.064</td><td>-2.748872</td></tr><tr><td>2011-05-16 13:39:06</td><td>0.065</td><td>-2.733368</td></tr><tr><td>2019-05-12 22:41:48</td><td>0.07</td><td>-2.65926</td></tr><tr><td>2022-03-03 00:03:02</td><td>0.071</td><td>-2.645075</td></tr><tr><td>&hellip;</td><td>&hellip;</td><td>&hellip;</td></tr><tr><td>2009-11-21 20:53:29</td><td>20.0</td><td>2.995732</td></tr><tr><td>1994-02-01 22:38:09</td><td>30.0</td><td>3.401197</td></tr><tr><td>2009-10-08 02:57:14</td><td>33.0</td><td>3.496508</td></tr><tr><td>2018-12-18 23:48:18</td><td>49.0</td><td>3.89182</td></tr><tr><td>2013-02-15 03:20:26</td><td>441.0</td><td>6.089045</td></tr></tbody></table></div>"
      ],
      "text/plain": [
       "shape: (1_039, 3)\n",
       "┌─────────────────────┬───────┬───────────┐\n",
       "│ time                ┆ E     ┆ logE      │\n",
       "│ ---                 ┆ ---   ┆ ---       │\n",
       "│ datetime[μs]        ┆ f64   ┆ f64       │\n",
       "╞═════════════════════╪═══════╪═══════════╡\n",
       "│ 2020-02-10 23:48:17 ┆ 0.048 ┆ -3.036554 │\n",
       "│ 2021-12-23 21:27:58 ┆ 0.064 ┆ -2.748872 │\n",
       "│ 2011-05-16 13:39:06 ┆ 0.065 ┆ -2.733368 │\n",
       "│ 2019-05-12 22:41:48 ┆ 0.07  ┆ -2.65926  │\n",
       "│ 2022-03-03 00:03:02 ┆ 0.071 ┆ -2.645075 │\n",
       "│ …                   ┆ …     ┆ …         │\n",
       "│ 2009-11-21 20:53:29 ┆ 20.0  ┆ 2.995732  │\n",
       "│ 1994-02-01 22:38:09 ┆ 30.0  ┆ 3.401197  │\n",
       "│ 2009-10-08 02:57:14 ┆ 33.0  ┆ 3.496508  │\n",
       "│ 2018-12-18 23:48:18 ┆ 49.0  ┆ 3.89182   │\n",
       "│ 2013-02-15 03:20:26 ┆ 441.0 ┆ 6.089045  │\n",
       "└─────────────────────┴───────┴───────────┘"
      ]
     },
     "execution_count": 7,
     "metadata": {},
     "output_type": "execute_result"
    }
   ],
   "source": [
    "fireballs = (\n",
    "    pl.read_csv(\n",
    "        \"../data/cneos/cneos_fireball_data.csv\",\n",
    "        new_columns=(\"time\", \"lat\", \"long\", \"alt\", \"vx\", \"vy\", \"vz\", \"E0\", \"E\")\n",
    "    )\n",
    "    .with_columns(\n",
    "        pl.col(\"time\").str.to_datetime(),\n",
    "        pl.col(\"alt\", \"vx\", \"vy\", \"vz\").cast(pl.Float64, strict=False),\n",
    "        pl.col(\"E\").log().alias(\"logE\")\n",
    "    )\n",
    "    .sort(\"time\")\n",
    ")\n",
    "\n",
    "fireballs.select(\"time\", \"E\", \"logE\").sort(\"E\")"
   ]
  },
  {
   "cell_type": "code",
   "execution_count": 8,
   "id": "be856b9f",
   "metadata": {},
   "outputs": [
    {
     "data": {
      "application/vnd.plotly.v1+json": {
       "config": {
        "plotlyServerURL": "https://plot.ly"
       },
       "data": [
        {
         "hovertemplate": "time=%{x}<br>E=%{y}<extra></extra>",
         "legendgroup": "",
         "line": {
          "width": 1
         },
         "marker": {
          "color": "#636efa",
          "size": 4,
          "symbol": "x"
         },
         "mode": "markers",
         "name": "",
         "showlegend": false,
         "type": "scattergl",
         "x": [
          "1988-04-15T03:03:10.000000",
          "1990-10-01T03:51:47.000000",
          "1991-10-04T09:22:47.000000",
          "1993-10-31T03:39:27.000000",
          "1993-11-29T17:48:41.000000",
          "1994-02-01T22:38:09.000000",
          "1994-05-29T09:30:58.000000",
          "1994-06-03T20:48:42.000000",
          "1994-06-15T00:02:27.000000",
          "1994-08-15T23:16:48.000000",
          "1994-09-22T04:22:17.000000",
          "1994-10-08T03:24:22.000000",
          "1994-10-20T00:11:20.000000",
          "1994-10-27T04:21:29.000000",
          "1994-11-01T06:50:46.000000",
          "1994-11-03T20:01:37.000000",
          "1994-12-16T09:41:02.000000",
          "1994-12-18T12:45:40.000000",
          "1995-01-02T20:41:38.000000",
          "1995-01-04T04:16:17.000000",
          "1995-01-10T21:08:41.000000",
          "1995-01-18T10:17:26.000000",
          "1995-02-16T13:05:47.000000",
          "1995-04-02T12:32:38.000000",
          "1995-06-09T09:28:38.000000",
          "1995-07-07T17:33:37.000000",
          "1995-07-09T18:20:09.000000",
          "1995-07-11T18:38:41.000000",
          "1995-08-05T17:14:10.000000",
          "1995-08-06T04:38:08.000000",
          "1995-08-17T16:39:02.000000",
          "1995-08-24T21:54:35.000000",
          "1995-09-09T07:38:38.000000",
          "1995-10-01T02:42:01.000000",
          "1995-11-13T03:10:47.000000",
          "1995-11-25T05:29:31.000000",
          "1995-12-09T19:54:26.000000",
          "1995-12-22T13:26:29.000000",
          "1995-12-27T12:55:01.000000",
          "1996-01-15T13:44:23.000000",
          "1996-01-18T17:10:49.000000",
          "1996-02-15T02:38:05.000000",
          "1996-02-16T07:03:14.000000",
          "1996-03-13T08:31:01.000000",
          "1996-03-25T17:00:41.000000",
          "1996-03-29T20:30:54.000000",
          "1996-03-30T04:03:42.000000",
          "1996-03-31T00:53:57.000000",
          "1996-05-01T13:19:25.000000",
          "1996-05-08T01:02:05.000000",
          "1996-06-25T11:22:40.000000",
          "1996-07-12T14:04:45.000000",
          "1996-07-17T03:16:07.000000",
          "1996-08-05T15:19:30.000000",
          "1996-08-05T19:27:52.000000",
          "1996-08-06T04:50:32.000000",
          "1996-08-07T03:16:03.000000",
          "1996-08-09T18:14:56.000000",
          "1996-08-15T16:07:51.000000",
          "1996-08-17T15:46:08.000000",
          "1996-10-05T19:21:02.000000",
          "1996-10-07T17:43:44.000000",
          "1996-10-19T19:01:08.000000",
          "1996-10-23T08:28:06.000000",
          "1996-10-28T04:46:21.000000",
          "1996-10-30T12:48:19.000000",
          "1996-11-08T16:02:13.000000",
          "1996-11-22T10:06:17.000000",
          "1996-12-01T13:19:35.000000",
          "1996-12-04T17:00:34.000000",
          "1996-12-10T06:09:32.000000",
          "1996-12-17T04:16:17.000000",
          "1997-01-03T15:08:07.000000",
          "1997-01-04T06:46:39.000000",
          "1997-01-22T21:13:16.000000",
          "1997-01-23T10:03:27.000000",
          "1997-01-28T17:49:49.000000",
          "1997-02-06T18:28:34.000000",
          "1997-02-15T15:23:35.000000",
          "1997-02-19T04:31:35.000000",
          "1997-04-27T22:34:21.000000",
          "1997-05-22T08:30:15.000000",
          "1997-07-04T12:22:33.000000",
          "1997-07-30T03:01:51.000000",
          "1997-08-15T01:05:22.000000",
          "1997-08-20T17:16:43.000000",
          "1997-09-05T11:41:24.000000",
          "1997-09-30T12:31:18.000000",
          "1997-10-01T14:26:43.000000",
          "1997-10-09T18:47:15.000000",
          "1997-11-07T07:46:55.000000",
          "1997-12-09T08:15:55.000000",
          "1997-12-28T03:58:18.000000",
          "1998-01-04T23:00:27.000000",
          "1998-01-08T16:10:21.000000",
          "1998-03-22T22:25:37.000000",
          "1998-03-24T09:08:14.000000",
          "1998-07-28T14:16:53.000000",
          "1998-08-08T12:55:22.000000",
          "1998-08-30T00:20:12.000000",
          "1998-09-01T11:15:04.000000",
          "1998-09-04T09:16:11.000000",
          "1998-10-03T12:58:50.000000",
          "1998-11-11T16:46:18.000000",
          "1998-11-23T20:20:14.000000",
          "1998-12-22T09:24:00.000000",
          "1999-01-02T18:25:51.000000",
          "1999-01-11T05:18:17.000000",
          "1999-01-12T19:24:52.000000",
          "1999-01-14T08:06:04.000000",
          "1999-01-19T02:32:21.000000",
          "1999-02-01T14:24:09.000000",
          "1999-02-18T23:15:25.000000",
          "1999-03-02T22:23:25.000000",
          "1999-03-28T15:37:01.000000",
          "1999-03-31T23:54:34.000000",
          "1999-04-26T09:49:26.000000",
          "1999-04-26T11:33:06.000000",
          "1999-05-23T07:02:10.000000",
          "1999-06-25T06:27:41.000000",
          "1999-07-07T04:14:41.000000",
          "1999-07-10T08:11:42.000000",
          "1999-08-03T18:25:48.000000",
          "1999-08-06T03:22:37.000000",
          "1999-08-16T05:18:20.000000",
          "1999-09-08T14:41:53.000000",
          "1999-09-08T23:55:35.000000",
          "1999-10-26T17:19:42.000000",
          "1999-11-07T17:53:06.000000",
          "1999-11-15T20:01:28.000000",
          "1999-11-30T02:18:53.000000",
          "1999-12-01T19:38:15.000000",
          "1999-12-03T17:24:45.000000",
          "1999-12-10T18:56:50.000000",
          "1999-12-11T17:31:52.000000",
          "1999-12-16T00:07:22.000000",
          "2000-01-18T08:33:58.000000",
          "2000-01-18T16:43:42.000000",
          "2000-02-17T14:22:07.000000",
          "2000-02-18T09:25:59.000000",
          "2000-03-06T08:29:18.000000",
          "2000-03-19T05:11:50.000000",
          "2000-03-28T15:27:17.000000",
          "2000-04-04T13:38:15.000000",
          "2000-04-21T13:42:20.000000",
          "2000-05-03T10:40:09.000000",
          "2000-05-06T11:51:52.000000",
          "2000-05-29T16:46:28.000000",
          "2000-05-29T18:46:28.000000",
          "2000-06-02T18:44:16.000000",
          "2000-06-03T03:24:49.000000",
          "2000-06-04T03:17:39.000000",
          "2000-06-14T16:39:18.000000",
          "2000-06-18T13:40:42.000000",
          "2000-06-22T20:02:11.000000",
          "2000-06-23T09:03:42.000000",
          "2000-06-27T10:06:51.000000",
          "2000-07-07T01:34:20.000000",
          "2000-07-09T01:08:45.000000",
          "2000-07-15T16:13:29.000000",
          "2000-07-19T17:40:25.000000",
          "2000-07-31T07:06:34.000000",
          "2000-08-01T16:48:27.000000",
          "2000-08-13T03:00:32.000000",
          "2000-08-25T01:12:25.000000",
          "2000-09-19T22:12:38.000000",
          "2000-09-23T04:00:45.000000",
          "2000-09-24T06:57:19.000000",
          "2000-10-11T23:51:55.000000",
          "2000-11-06T07:18:58.000000",
          "2000-11-13T00:28:01.000000",
          "2000-11-28T12:20:13.000000",
          "2000-12-15T03:46:27.000000",
          "2000-12-15T13:22:59.000000",
          "2001-01-28T16:19:18.000000",
          "2001-02-04T05:53:38.000000",
          "2001-02-09T21:27:55.000000",
          "2001-04-13T00:29:57.000000",
          "2001-04-14T06:40:36.000000",
          "2001-04-23T06:12:35.000000",
          "2001-04-27T09:46:18.000000",
          "2001-05-06T04:30:29.000000",
          "2001-07-23T22:19:11.000000",
          "2001-07-26T21:20:19.000000",
          "2001-08-18T13:57:43.000000",
          "2001-08-26T16:08:52.000000",
          "2001-09-25T11:54:06.000000",
          "2001-10-06T06:29:38.000000",
          "2001-10-12T03:11:53.000000",
          "2001-10-14T12:03:11.000000",
          "2001-10-27T19:20:12.000000",
          "2001-11-11T12:14:02.000000",
          "2001-11-13T10:58:48.000000",
          "2001-11-26T06:51:52.000000",
          "2001-12-12T16:56:13.000000",
          "2001-12-14T17:58:04.000000",
          "2002-01-03T12:19:37.000000",
          "2002-01-20T16:42:04.000000",
          "2002-02-01T19:07:54.000000",
          "2002-02-09T19:50:28.000000",
          "2002-03-01T03:53:59.000000",
          "2002-03-03T21:10:55.000000",
          "2002-03-09T01:20:25.000000",
          "2002-03-18T14:44:57.000000",
          "2002-03-19T02:56:52.000000",
          "2002-03-19T05:56:10.000000",
          "2002-03-28T21:29:56.000000",
          "2002-04-02T02:36:28.000000",
          "2002-04-03T19:10:20.000000",
          "2002-06-02T04:28:20.000000",
          "2002-06-06T04:28:20.000000",
          "2002-06-13T15:29:35.000000",
          "2002-06-15T11:51:18.000000",
          "2002-06-29T16:31:55.000000",
          "2002-07-22T11:16:02.000000",
          "2002-07-25T15:57:32.000000",
          "2002-08-10T18:01:51.000000",
          "2002-08-11T20:42:52.000000",
          "2002-08-14T07:48:32.000000",
          "2002-09-24T16:48:57.000000",
          "2002-10-04T10:08:01.000000",
          "2002-10-09T12:00:35.000000",
          "2002-11-10T22:13:54.000000",
          "2002-11-12T21:49:56.000000",
          "2002-11-21T00:11:17.000000",
          "2002-11-28T15:41:53.000000",
          "2003-01-30T06:02:59.000000",
          "2003-02-04T14:07:09.000000",
          "2003-02-05T06:16:27.000000",
          "2003-02-06T17:00:19.000000",
          "2003-02-12T02:37:54.000000",
          "2003-02-12T23:45:57.000000",
          "2003-02-25T23:13:28.000000",
          "2003-03-27T05:50:26.000000",
          "2003-04-01T04:40:55.000000",
          "2003-04-07T09:25:28.000000",
          "2003-04-13T17:58:41.000000",
          "2003-04-28T13:06:46.000000",
          "2003-05-15T06:28:32.000000",
          "2003-05-18T07:51:40.000000",
          "2003-05-19T03:38:12.000000",
          "2003-05-27T23:32:32.000000",
          "2003-06-10T14:11:07.000000",
          "2003-06-16T17:17:19.000000",
          "2003-06-21T14:49:57.000000",
          "2003-06-22T22:53:28.000000",
          "2003-07-21T05:11:28.000000",
          "2003-08-01T04:09:33.000000",
          "2003-08-17T13:16:07.000000",
          "2003-08-26T08:44:07.000000",
          "2003-08-26T22:08:46.000000",
          "2003-09-02T20:00:46.000000",
          "2003-09-20T19:04:01.000000",
          "2003-09-21T07:40:00.000000",
          "2003-09-22T03:45:43.000000",
          "2003-09-27T12:59:02.000000",
          "2003-10-07T00:23:56.000000",
          "2003-10-13T14:06:59.000000",
          "2003-10-16T00:47:28.000000",
          "2003-11-01T14:09:30.000000",
          "2003-11-10T13:54:05.000000",
          "2003-11-26T02:00:04.000000",
          "2003-12-09T22:36:23.000000",
          "2004-01-02T04:27:59.000000",
          "2004-01-16T11:17:06.000000",
          "2004-01-17T20:11:02.000000",
          "2004-01-22T01:06:43.000000",
          "2004-02-02T18:52:20.000000",
          "2004-02-27T01:18:54.000000",
          "2004-03-25T09:39:26.000000",
          "2004-03-26T16:35:45.000000",
          "2004-04-06T03:24:49.000000",
          "2004-04-22T04:21:49.000000",
          "2004-04-22T21:19:55.000000",
          "2004-04-23T00:33:41.000000",
          "2004-05-06T02:22:49.000000",
          "2004-05-17T02:08:27.000000",
          "2004-05-18T11:12:12.000000",
          "2004-06-03T09:40:12.000000",
          "2004-06-03T21:59:15.000000",
          "2004-06-04T13:41:38.000000",
          "2004-06-05T20:34:10.000000",
          "2004-06-11T15:41:41.000000",
          "2004-06-12T07:13:56.000000",
          "2004-07-03T20:47:22.000000",
          "2004-07-04T16:58:04.000000",
          "2004-07-16T00:11:01.000000",
          "2004-07-22T03:34:31.000000",
          "2004-07-25T05:29:13.000000",
          "2004-07-29T12:41:45.000000",
          "2004-08-22T10:01:33.000000",
          "2004-09-03T12:07:22.000000",
          "2004-09-28T08:57:28.000000",
          "2004-10-04T04:39:52.000000",
          "2004-10-07T13:14:43.000000",
          "2004-10-10T11:05:28.000000",
          "2004-10-14T11:41:01.000000",
          "2004-11-17T03:13:04.000000",
          "2004-11-30T08:32:54.000000",
          "2004-12-11T15:36:51.000000",
          "2004-12-13T11:35:55.000000",
          "2004-12-29T07:11:55.000000",
          "2005-01-01T03:44:09.000000",
          "2005-01-02T23:09:49.000000",
          "2005-01-19T01:43:15.000000",
          "2005-02-17T22:52:36.000000",
          "2005-02-22T22:51:06.000000",
          "2005-03-06T17:32:51.000000",
          "2005-03-09T12:49:08.000000",
          "2005-03-09T15:47:37.000000",
          "2005-03-12T22:16:31.000000",
          "2005-03-18T16:48:33.000000",
          "2005-03-31T22:15:55.000000",
          "2005-04-02T22:52:25.000000",
          "2005-04-03T01:45:29.000000",
          "2005-04-05T17:48:07.000000",
          "2005-04-06T01:30:24.000000",
          "2005-04-11T05:20:29.000000",
          "2005-04-14T14:05:22.000000",
          "2005-04-15T06:54:59.000000",
          "2005-04-16T10:40:38.000000",
          "2005-04-19T07:37:47.000000",
          "2005-04-22T11:18:05.000000",
          "2005-05-02T20:10:36.000000",
          "2005-05-07T09:31:44.000000",
          "2005-05-14T13:02:53.000000",
          "2005-05-27T14:12:13.000000",
          "2005-06-03T08:15:41.000000",
          "2005-06-05T01:56:09.000000",
          "2005-06-18T19:40:42.000000",
          "2005-07-01T22:36:15.000000",
          "2005-08-09T14:35:45.000000",
          "2005-08-20T12:10:24.000000",
          "2005-09-02T07:59:47.000000",
          "2005-09-14T01:08:52.000000",
          "2005-09-30T19:04:06.000000",
          "2005-10-26T21:30:47.000000",
          "2005-11-02T05:16:47.000000",
          "2005-11-02T07:04:32.000000",
          "2005-11-09T07:33:08.000000",
          "2005-11-11T20:34:23.000000",
          "2005-11-15T05:19:07.000000",
          "2005-11-29T07:33:16.000000",
          "2005-12-01T10:40:20.000000",
          "2005-12-03T12:45:49.000000",
          "2005-12-24T15:30:26.000000",
          "2005-12-29T10:05:35.000000",
          "2006-01-08T05:20:18.000000",
          "2006-01-10T23:25:28.000000",
          "2006-01-26T00:00:54.000000",
          "2006-01-27T01:27:42.000000",
          "2006-01-28T03:33:48.000000",
          "2006-02-04T08:38:05.000000",
          "2006-02-06T01:57:37.000000",
          "2006-02-26T07:30:06.000000",
          "2006-03-14T03:21:06.000000",
          "2006-04-04T11:30:08.000000",
          "2006-04-08T13:16:23.000000",
          "2006-04-25T18:46:53.000000",
          "2006-05-06T15:39:06.000000",
          "2006-05-07T17:45:13.000000",
          "2006-05-21T07:51:11.000000",
          "2006-05-28T01:32:24.000000",
          "2006-06-07T00:06:28.000000",
          "2006-07-15T15:22:50.000000",
          "2006-07-15T23:55:45.000000",
          "2006-08-09T04:30:44.000000",
          "2006-08-15T10:52:24.000000",
          "2006-08-17T10:43:34.000000",
          "2006-08-18T00:03:18.000000",
          "2006-08-29T01:38:36.000000",
          "2006-09-02T04:26:15.000000",
          "2006-09-02T17:51:58.000000",
          "2006-09-23T18:52:58.000000",
          "2006-09-27T08:33:43.000000",
          "2006-10-02T19:10:27.000000",
          "2006-10-07T12:18:53.000000",
          "2006-10-09T04:45:30.000000",
          "2006-10-14T18:10:49.000000",
          "2006-10-24T08:42:53.000000",
          "2006-11-13T15:16:34.000000",
          "2006-12-01T06:09:25.000000",
          "2006-12-07T11:42:00.000000",
          "2006-12-09T06:31:14.000000",
          "2007-01-01T11:43:29.000000",
          "2007-01-17T09:50:46.000000",
          "2007-01-18T13:51:10.000000",
          "2007-01-22T07:24:56.000000",
          "2007-01-26T22:22:21.000000",
          "2007-02-02T12:48:41.000000",
          "2007-03-07T15:16:49.000000",
          "2007-03-15T02:20:15.000000",
          "2007-03-17T06:48:35.000000",
          "2007-04-16T14:56:51.000000",
          "2007-04-18T12:44:23.000000",
          "2007-05-04T17:52:39.000000",
          "2007-05-16T04:45:42.000000",
          "2007-05-16T16:20:58.000000",
          "2007-06-07T21:28:12.000000",
          "2007-06-08T13:32:00.000000",
          "2007-06-10T09:47:05.000000",
          "2007-06-11T09:47:05.000000",
          "2007-09-22T17:57:13.000000",
          "2007-10-07T13:31:01.000000",
          "2007-10-12T09:14:03.000000",
          "2007-10-25T19:35:38.000000",
          "2007-12-20T17:00:48.000000",
          "2007-12-26T06:46:20.000000",
          "2008-01-09T03:53:16.000000",
          "2008-01-18T01:17:39.000000",
          "2008-02-16T08:38:39.000000",
          "2008-02-17T12:19:16.000000",
          "2008-02-18T08:51:12.000000",
          "2008-02-19T13:30:30.000000",
          "2008-02-24T19:33:14.000000",
          "2008-03-15T11:29:55.000000",
          "2008-04-06T16:03:34.000000",
          "2008-04-07T01:02:28.000000",
          "2008-04-30T01:18:38.000000",
          "2008-05-06T01:08:56.000000",
          "2008-05-15T11:29:55.000000",
          "2008-05-22T20:50:28.000000",
          "2008-05-24T10:18:10.000000",
          "2008-05-29T21:23:56.000000",
          "2008-06-18T13:45:36.000000",
          "2008-06-27T02:01:23.000000",
          "2008-07-01T17:40:19.000000",
          "2008-07-08T15:55:30.000000",
          "2008-07-11T14:35:28.000000",
          "2008-07-22T19:34:00.000000",
          "2008-07-23T14:45:25.000000",
          "2008-08-07T06:07:10.000000",
          "2008-08-12T11:44:10.000000",
          "2008-08-16T14:40:24.000000",
          "2008-09-09T09:49:41.000000",
          "2008-10-07T02:45:45.000000",
          "2008-10-10T09:34:18.000000",
          "2008-10-21T02:20:26.000000",
          "2008-11-09T02:38:34.000000",
          "2008-11-18T09:41:51.000000",
          "2008-11-21T00:26:44.000000",
          "2008-11-24T22:01:19.000000",
          "2008-12-09T06:08:16.000000",
          "2008-12-12T11:36:36.000000",
          "2008-12-24T15:51:58.000000",
          "2009-01-10T07:42:40.000000",
          "2009-01-12T22:24:56.000000",
          "2009-02-07T19:51:32.000000",
          "2009-02-20T12:15:57.000000",
          "2009-03-01T09:00:59.000000",
          "2009-03-04T00:38:05.000000",
          "2009-03-15T05:44:33.000000",
          "2009-04-10T18:42:45.000000",
          "2009-04-20T04:01:39.000000",
          "2009-05-04T11:39:03.000000",
          "2009-05-13T20:20:16.000000",
          "2009-05-13T22:20:16.000000",
          "2009-05-31T06:05:47.000000",
          "2009-06-09T22:42:28.000000",
          "2009-06-18T04:39:00.000000",
          "2009-06-20T11:04:41.000000",
          "2009-06-27T13:08:05.000000",
          "2009-07-03T04:02:00.000000",
          "2009-07-16T06:39:05.000000",
          "2009-07-31T02:13:19.000000",
          "2009-08-23T21:17:19.000000",
          "2009-09-04T02:23:18.000000",
          "2009-09-18T20:13:56.000000",
          "2009-09-27T22:22:48.000000",
          "2009-10-08T02:57:14.000000",
          "2009-10-11T12:49:51.000000",
          "2009-11-07T10:41:38.000000",
          "2009-11-07T11:31:59.000000",
          "2009-11-14T19:58:55.000000",
          "2009-11-18T07:07:20.000000",
          "2009-11-18T17:36:07.000000",
          "2009-11-21T20:53:29.000000",
          "2009-11-25T01:36:20.000000",
          "2009-12-31T12:50:25.000000",
          "2009-12-31T16:24:23.000000",
          "2010-01-15T19:17:54.000000",
          "2010-02-24T19:55:58.000000",
          "2010-02-26T22:46:13.000000",
          "2010-02-28T22:24:50.000000",
          "2010-03-08T22:02:07.000000",
          "2010-03-08T22:44:41.000000",
          "2010-03-14T18:44:42.000000",
          "2010-03-15T15:55:43.000000",
          "2010-03-18T16:11:16.000000",
          "2010-04-06T18:33:12.000000",
          "2010-04-16T04:38:52.000000",
          "2010-04-17T02:21:58.000000",
          "2010-06-17T04:24:46.000000",
          "2010-06-21T06:42:00.000000",
          "2010-06-26T06:04:38.000000",
          "2010-07-06T23:54:43.000000",
          "2010-07-15T01:49:56.000000",
          "2010-08-05T19:31:48.000000",
          "2010-08-12T02:59:36.000000",
          "2010-08-17T04:19:37.000000",
          "2010-09-03T12:04:58.000000",
          "2010-09-05T23:37:33.000000",
          "2010-09-08T19:51:36.000000",
          "2010-09-18T05:04:41.000000",
          "2010-09-24T12:02:07.000000",
          "2010-10-08T09:58:01.000000",
          "2010-10-27T11:27:39.000000",
          "2010-11-09T06:56:52.000000",
          "2010-11-09T13:05:46.000000",
          "2010-11-10T08:26:35.000000",
          "2010-11-19T07:25:26.000000",
          "2010-11-21T14:45:27.000000",
          "2010-12-01T06:31:46.000000",
          "2010-12-09T02:54:07.000000",
          "2010-12-14T00:27:53.000000",
          "2010-12-25T23:24:13.000000",
          "2011-01-08T19:38:44.000000",
          "2011-01-21T15:11:43.000000",
          "2011-02-12T11:00:12.000000",
          "2011-02-21T05:07:03.000000",
          "2011-03-01T10:37:54.000000",
          "2011-03-23T04:16:32.000000",
          "2011-03-23T04:24:46.000000",
          "2011-03-24T20:23:57.000000",
          "2011-04-06T08:30:55.000000",
          "2011-04-11T21:43:40.000000",
          "2011-04-17T11:21:44.000000",
          "2011-04-17T20:38:09.000000",
          "2011-04-27T11:21:44.000000",
          "2011-04-27T20:38:09.000000",
          "2011-05-16T13:39:06.000000",
          "2011-05-25T05:40:02.000000",
          "2011-06-16T11:51:50.000000",
          "2011-07-04T09:18:04.000000",
          "2011-07-05T15:42:42.000000",
          "2011-07-07T23:25:54.000000",
          "2011-07-27T23:00:36.000000",
          "2011-08-04T07:25:57.000000",
          "2011-08-11T02:56:08.000000",
          "2011-08-18T14:55:45.000000",
          "2011-08-20T20:01:37.000000",
          "2011-08-20T22:01:37.000000",
          "2011-08-31T09:44:13.000000",
          "2011-09-13T23:36:47.000000",
          "2011-10-12T07:13:20.000000",
          "2011-11-20T05:25:05.000000",
          "2011-12-11T17:29:33.000000",
          "2011-12-14T05:01:38.000000",
          "2011-12-19T11:35:39.000000",
          "2012-01-11T02:23:15.000000",
          "2012-01-15T12:26:20.000000",
          "2012-02-04T14:42:51.000000",
          "2012-02-12T05:25:52.000000",
          "2012-02-16T04:50:52.000000",
          "2012-02-17T10:47:16.000000",
          "2012-02-24T19:11:41.000000",
          "2012-03-01T03:12:40.000000",
          "2012-03-03T21:28:24.000000",
          "2012-03-12T06:40:44.000000",
          "2012-04-02T16:50:33.000000",
          "2012-04-19T22:12:10.000000",
          "2012-04-21T16:08:23.000000",
          "2012-04-23T22:01:10.000000",
          "2012-05-04T21:54:49.000000",
          "2012-05-15T11:04:17.000000",
          "2012-05-22T08:31:42.000000",
          "2012-05-25T11:31:24.000000",
          "2012-06-05T07:44:54.000000",
          "2012-07-25T07:48:20.000000",
          "2012-07-27T04:19:50.000000",
          "2012-08-13T05:31:53.000000",
          "2012-08-26T14:55:47.000000",
          "2012-08-27T06:57:43.000000",
          "2012-09-10T01:03:32.000000",
          "2012-09-11T22:07:30.000000",
          "2012-09-18T19:34:39.000000",
          "2012-09-28T05:44:12.000000",
          "2012-10-02T16:38:38.000000",
          "2012-10-03T22:50:12.000000",
          "2012-10-09T00:54:55.000000",
          "2012-10-19T16:26:22.000000",
          "2012-10-25T15:57:19.000000",
          "2012-11-20T06:25:11.000000",
          "2012-11-20T20:37:31.000000",
          "2012-12-18T11:19:17.000000",
          "2012-12-30T07:25:35.000000",
          "2013-01-12T03:04:21.000000",
          "2013-01-25T07:40:18.000000",
          "2013-02-07T13:12:24.000000",
          "2013-02-15T03:20:26.000000",
          "2013-02-20T13:13:07.000000",
          "2013-03-12T10:32:59.000000",
          "2013-04-21T06:23:12.000000",
          "2013-04-30T08:40:37.000000",
          "2013-05-14T23:20:21.000000",
          "2013-06-01T22:49:48.000000",
          "2013-06-13T02:51:14.000000",
          "2013-07-18T00:46:37.000000",
          "2013-07-26T11:32:26.000000",
          "2013-07-27T08:30:36.000000",
          "2013-07-30T02:36:58.000000",
          "2013-07-31T03:50:13.000000",
          "2013-07-31T07:00:38.000000",
          "2013-08-12T18:08:02.000000",
          "2013-09-07T20:49:13.000000",
          "2013-09-24T15:31:16.000000",
          "2013-10-09T17:27:36.000000",
          "2013-10-12T16:06:45.000000",
          "2013-11-21T01:50:35.000000",
          "2013-12-08T03:10:09.000000",
          "2013-12-23T08:30:57.000000",
          "2014-01-08T17:05:33.000000",
          "2014-01-12T16:00:48.000000",
          "2014-01-15T02:46:13.000000",
          "2014-01-19T02:54:38.000000",
          "2014-02-13T06:47:41.000000",
          "2014-02-18T12:50:44.000000",
          "2014-03-03T15:00:21.000000",
          "2014-03-18T11:02:37.000000",
          "2014-03-29T13:45:42.000000",
          "2014-05-08T19:42:37.000000",
          "2014-05-16T12:42:47.000000",
          "2014-05-16T20:06:26.000000",
          "2014-05-29T01:12:36.000000",
          "2014-06-26T05:54:41.000000",
          "2014-06-28T02:40:05.000000",
          "2014-07-29T03:07:43.000000",
          "2014-07-29T07:38:07.000000",
          "2014-08-23T06:29:41.000000",
          "2014-08-28T03:07:45.000000",
          "2014-08-29T23:15:39.000000",
          "2014-09-05T21:37:26.000000",
          "2014-09-09T18:55:46.000000",
          "2014-10-06T20:02:14.000000",
          "2014-10-14T10:25:03.000000",
          "2014-10-17T14:07:36.000000",
          "2014-10-21T18:55:37.000000",
          "2014-11-04T20:13:30.000000",
          "2014-11-26T17:40:16.000000",
          "2014-11-26T23:16:51.000000",
          "2014-11-27T12:12:52.000000",
          "2014-11-28T11:47:18.000000",
          "2014-12-09T21:19:18.000000",
          "2014-12-12T06:48:07.000000",
          "2014-12-13T02:53:52.000000",
          "2015-01-02T13:39:19.000000",
          "2015-01-07T01:05:58.000000",
          "2015-01-09T10:41:11.000000",
          "2015-01-09T17:31:47.000000",
          "2015-02-17T13:19:50.000000",
          "2015-02-25T10:53:24.000000",
          "2015-02-26T22:06:23.000000",
          "2015-03-04T04:30:05.000000",
          "2015-03-08T04:26:28.000000",
          "2015-03-11T06:18:59.000000",
          "2015-03-18T00:04:50.000000",
          "2015-03-30T21:33:52.000000",
          "2015-04-03T01:39:38.000000",
          "2015-04-08T04:06:31.000000",
          "2015-04-10T01:14:27.000000",
          "2015-04-21T01:42:51.000000",
          "2015-04-30T10:21:00.000000",
          "2015-05-07T20:34:34.000000",
          "2015-05-10T07:45:01.000000",
          "2015-05-18T17:13:51.000000",
          "2015-05-20T10:20:41.000000",
          "2015-06-02T08:44:50.000000",
          "2015-06-10T17:47:03.000000",
          "2015-06-12T17:03:36.000000",
          "2015-06-14T03:03:06.000000",
          "2015-07-04T01:40:11.000000",
          "2015-07-12T22:23:14.000000",
          "2015-07-19T07:06:26.000000",
          "2015-08-04T10:24:59.000000",
          "2015-09-02T20:10:30.000000",
          "2015-09-07T01:41:18.000000",
          "2015-09-08T13:46:42.000000",
          "2015-09-14T23:50:50.000000",
          "2015-09-17T21:03:14.000000",
          "2015-10-04T21:02:17.000000",
          "2015-10-10T09:57:51.000000",
          "2015-10-11T00:07:46.000000",
          "2015-10-13T12:23:08.000000",
          "2015-10-30T07:07:12.000000",
          "2015-10-31T11:34:30.000000",
          "2015-11-02T21:34:20.000000",
          "2015-11-13T14:59:27.000000",
          "2015-12-08T00:34:23.000000",
          "2015-12-21T02:32:48.000000",
          "2015-12-30T13:07:50.000000",
          "2016-01-21T16:44:54.000000",
          "2016-01-27T09:59:15.000000",
          "2016-02-06T13:55:09.000000",
          "2016-02-13T00:10:13.000000",
          "2016-02-19T08:15:02.000000",
          "2016-02-21T05:58:53.000000",
          "2016-02-23T03:59:13.000000",
          "2016-03-03T01:32:43.000000",
          "2016-03-16T23:54:20.000000",
          "2016-04-10T14:57:53.000000",
          "2016-04-12T09:51:40.000000",
          "2016-04-18T11:59:10.000000",
          "2016-04-24T05:39:25.000000",
          "2016-05-13T00:34:01.000000",
          "2016-05-16T10:09:41.000000",
          "2016-05-20T11:59:46.000000",
          "2016-05-29T12:14:55.000000",
          "2016-06-02T10:56:32.000000",
          "2016-06-05T06:12:55.000000",
          "2016-06-27T10:02:42.000000",
          "2016-07-05T01:24:26.000000",
          "2016-07-21T00:48:52.000000",
          "2016-08-05T18:02:44.000000",
          "2016-08-11T05:59:58.000000",
          "2016-08-27T21:45:13.000000",
          "2016-09-14T15:01:51.000000",
          "2016-09-22T04:57:49.000000",
          "2016-10-01T20:23:45.000000",
          "2016-11-03T17:14:29.000000",
          "2016-11-24T14:10:34.000000",
          "2016-11-29T08:05:38.000000",
          "2016-12-07T04:51:39.000000",
          "2016-12-23T03:29:09.000000",
          "2017-02-06T06:09:59.000000",
          "2017-02-07T17:37:31.000000",
          "2017-02-18T19:48:29.000000",
          "2017-02-22T18:47:30.000000",
          "2017-02-25T01:22:58.000000",
          "2017-03-08T22:21:59.000000",
          "2017-03-09T04:16:37.000000",
          "2017-03-11T04:51:21.000000",
          "2017-04-30T21:28:28.000000",
          "2017-05-14T09:30:35.000000",
          "2017-05-22T17:44:39.000000",
          "2017-05-24T07:03:02.000000",
          "2017-06-20T13:41:31.000000",
          "2017-06-23T20:21:55.000000",
          "2017-06-30T14:26:46.000000",
          "2017-07-13T09:30:36.000000",
          "2017-07-23T06:12:38.000000",
          "2017-07-31T22:01:35.000000",
          "2017-09-05T05:11:27.000000",
          "2017-10-04T12:07:05.000000",
          "2017-10-09T00:46:32.000000",
          "2017-10-09T12:51:48.000000",
          "2017-10-15T04:33:16.000000",
          "2017-10-23T15:31:22.000000",
          "2017-10-26T22:05:34.000000",
          "2017-11-19T04:17:32.000000",
          "2017-12-15T13:14:37.000000",
          "2017-12-28T17:45:44.000000",
          "2017-12-29T12:47:30.000000",
          "2017-12-31T09:36:10.000000",
          "2018-01-06T18:24:27.000000",
          "2018-01-06T21:24:21.000000",
          "2018-01-15T02:18:38.000000",
          "2018-01-22T22:06:30.000000",
          "2018-02-01T12:21:36.000000",
          "2018-02-08T22:21:40.000000",
          "2018-02-12T02:15:19.000000",
          "2018-02-15T13:38:22.000000",
          "2018-02-21T01:28:03.000000",
          "2018-04-07T03:05:09.000000",
          "2018-04-19T13:39:39.000000",
          "2018-04-19T14:02:27.000000",
          "2018-04-21T12:06:03.000000",
          "2018-04-30T13:17:57.000000",
          "2018-05-03T07:23:59.000000",
          "2018-05-08T02:27:13.000000",
          "2018-05-12T03:26:46.000000",
          "2018-06-02T16:44:12.000000",
          "2018-06-21T01:16:20.000000",
          "2018-06-26T17:51:53.000000",
          "2018-07-17T15:17:37.000000",
          "2018-07-25T21:55:23.000000",
          "2018-07-27T09:35:14.000000",
          "2018-08-21T12:26:14.000000",
          "2018-08-27T04:36:44.000000",
          "2018-09-13T00:51:21.000000",
          "2018-09-17T01:08:01.000000",
          "2018-09-20T18:29:03.000000",
          "2018-09-25T00:16:58.000000",
          "2018-09-25T14:10:42.000000",
          "2018-10-05T00:27:02.000000",
          "2018-10-22T07:11:03.000000",
          "2018-10-24T21:19:07.000000",
          "2018-11-14T04:03:46.000000",
          "2018-11-15T08:02:44.000000",
          "2018-11-17T21:48:23.000000",
          "2018-11-20T17:30:27.000000",
          "2018-12-18T23:48:18.000000",
          "2018-12-23T23:38:02.000000",
          "2019-01-22T09:18:00.000000",
          "2019-01-29T20:47:19.000000",
          "2019-02-01T18:17:09.000000",
          "2019-02-18T10:00:42.000000",
          "2019-03-15T12:26:56.000000",
          "2019-03-19T02:06:39.000000",
          "2019-03-27T12:50:34.000000",
          "2019-04-04T22:19:01.000000",
          "2019-04-06T11:59:09.000000",
          "2019-04-14T17:54:33.000000",
          "2019-04-22T21:42:10.000000",
          "2019-05-04T15:35:46.000000",
          "2019-05-12T22:41:48.000000",
          "2019-05-19T14:47:03.000000",
          "2019-05-21T13:12:33.000000",
          "2019-05-22T15:16:49.000000",
          "2019-05-25T06:44:04.000000",
          "2019-05-26T10:07:54.000000",
          "2019-06-20T06:07:32.000000",
          "2019-06-22T21:25:47.000000",
          "2019-06-30T08:11:29.000000",
          "2019-06-30T16:52:47.000000",
          "2019-07-23T20:42:57.000000",
          "2019-08-16T20:36:05.000000",
          "2019-08-22T21:47:26.000000",
          "2019-08-24T12:02:59.000000",
          "2019-09-12T02:34:58.000000",
          "2019-09-12T12:49:47.000000",
          "2019-09-13T02:02:03.000000",
          "2019-09-14T12:39:33.000000",
          "2019-09-27T13:35:45.000000",
          "2019-09-28T10:40:19.000000",
          "2019-10-10T16:16:36.000000",
          "2019-10-22T22:21:15.000000",
          "2019-11-05T11:24:50.000000",
          "2019-11-28T11:55:02.000000",
          "2019-11-28T13:22:10.000000",
          "2019-11-28T20:30:53.000000",
          "2019-12-03T06:46:27.000000",
          "2019-12-06T10:19:57.000000",
          "2019-12-11T01:19:10.000000",
          "2019-12-21T14:30:52.000000",
          "2020-01-06T11:03:49.000000",
          "2020-01-15T06:31:39.000000",
          "2020-01-16T09:31:42.000000",
          "2020-01-17T21:29:46.000000",
          "2020-01-21T20:07:43.000000",
          "2020-01-24T11:13:30.000000",
          "2020-01-27T05:39:13.000000",
          "2020-02-10T23:48:17.000000",
          "2020-02-24T22:21:28.000000",
          "2020-02-28T09:30:34.000000",
          "2020-03-04T20:25:58.000000",
          "2020-03-22T06:44:29.000000",
          "2020-03-23T16:51:50.000000",
          "2020-03-26T23:27:56.000000",
          "2020-04-14T11:11:16.000000",
          "2020-04-18T13:08:38.000000",
          "2020-04-28T05:43:17.000000",
          "2020-05-09T02:56:11.000000",
          "2020-05-09T09:37:52.000000",
          "2020-05-12T23:22:56.000000",
          "2020-05-18T01:11:09.000000",
          "2020-05-27T17:30:17.000000",
          "2020-07-12T07:50:31.000000",
          "2020-07-20T21:25:09.000000",
          "2020-07-22T02:55:40.000000",
          "2020-08-02T16:36:24.000000",
          "2020-08-30T16:08:21.000000",
          "2020-09-18T08:05:26.000000",
          "2020-10-18T10:52:42.000000",
          "2020-10-19T07:05:47.000000",
          "2020-10-21T06:38:49.000000",
          "2020-10-21T18:57:33.000000",
          "2020-10-22T17:39:33.000000",
          "2020-10-23T20:51:38.000000",
          "2020-10-26T15:07:09.000000",
          "2020-11-07T21:27:04.000000",
          "2020-11-25T12:20:50.000000",
          "2020-11-28T16:34:10.000000",
          "2020-12-22T23:23:28.000000",
          "2020-12-28T17:27:53.000000",
          "2020-12-29T20:32:22.000000",
          "2021-01-24T07:33:43.000000",
          "2021-01-25T03:01:37.000000",
          "2021-01-29T16:12:47.000000",
          "2021-01-31T02:59:38.000000",
          "2021-02-02T10:03:20.000000",
          "2021-02-09T23:27:29.000000",
          "2021-02-28T03:47:37.000000",
          "2021-03-05T13:50:01.000000",
          "2021-03-06T08:43:06.000000",
          "2021-04-02T15:52:57.000000",
          "2021-04-13T02:16:47.000000",
          "2021-05-02T14:12:49.000000",
          "2021-05-06T05:54:26.000000",
          "2021-05-16T15:51:07.000000",
          "2021-06-09T05:43:57.000000",
          "2021-07-05T03:46:22.000000",
          "2021-07-07T13:41:13.000000",
          "2021-07-29T13:19:57.000000",
          "2021-07-30T08:06:33.000000",
          "2021-09-06T17:55:41.000000",
          "2021-09-29T10:50:59.000000",
          "2021-10-20T00:43:53.000000",
          "2021-10-20T08:41:50.000000",
          "2021-10-21T10:32:02.000000",
          "2021-10-28T09:10:29.000000",
          "2021-11-08T05:28:28.000000",
          "2021-11-17T15:53:11.000000",
          "2021-11-28T18:06:50.000000",
          "2021-12-10T01:19:05.000000",
          "2021-12-20T23:15:54.000000",
          "2021-12-23T21:27:58.000000",
          "2021-12-29T03:15:35.000000",
          "2022-01-01T20:23:03.000000",
          "2022-01-11T03:33:13.000000",
          "2022-01-28T05:04:45.000000",
          "2022-01-30T02:06:18.000000",
          "2022-02-03T19:50:40.000000",
          "2022-02-07T20:06:25.000000",
          "2022-02-17T03:53:23.000000",
          "2022-02-17T12:08:06.000000",
          "2022-03-03T00:03:02.000000",
          "2022-03-06T15:06:14.000000",
          "2022-03-11T21:22:45.000000",
          "2022-03-24T03:43:42.000000",
          "2022-03-25T03:43:41.000000",
          "2022-03-28T10:20:24.000000",
          "2022-03-30T18:19:17.000000",
          "2022-04-04T00:30:39.000000",
          "2022-04-12T21:59:11.000000",
          "2022-04-21T22:15:28.000000",
          "2022-05-24T02:38:20.000000",
          "2022-06-07T22:53:17.000000",
          "2022-06-14T13:12:27.000000",
          "2022-06-26T20:16:26.000000",
          "2022-06-30T04:02:56.000000",
          "2022-07-07T01:49:25.000000",
          "2022-07-08T01:36:36.000000",
          "2022-07-20T10:56:52.000000",
          "2022-07-22T00:16:18.000000",
          "2022-07-25T07:28:16.000000",
          "2022-07-27T04:41:27.000000",
          "2022-07-28T01:36:07.000000",
          "2022-08-14T07:39:17.000000",
          "2022-08-21T16:35:49.000000",
          "2022-09-04T03:54:55.000000",
          "2022-09-14T23:31:14.000000",
          "2022-09-15T02:49:01.000000",
          "2022-10-20T20:55:07.000000",
          "2022-10-28T17:40:11.000000",
          "2022-11-08T08:54:01.000000",
          "2022-11-20T13:53:54.000000",
          "2022-11-20T15:35:21.000000",
          "2022-12-13T17:26:00.000000",
          "2022-12-29T06:52:08.000000",
          "2023-01-02T16:38:01.000000",
          "2023-01-09T01:17:13.000000",
          "2023-01-11T23:59:50.000000",
          "2023-01-17T06:57:17.000000",
          "2023-01-22T17:11:42.000000",
          "2023-02-02T20:49:22.000000",
          "2023-02-14T22:55:24.000000",
          "2023-02-19T06:15:33.000000",
          "2023-03-03T02:53:54.000000",
          "2023-03-11T08:21:28.000000",
          "2023-03-20T06:53:22.000000",
          "2023-04-01T00:02:02.000000",
          "2023-04-06T14:47:38.000000",
          "2023-04-15T08:21:58.000000",
          "2023-04-26T13:14:59.000000",
          "2023-05-07T23:00:05.000000",
          "2023-05-16T23:28:50.000000",
          "2023-05-20T11:22:22.000000",
          "2023-06-21T19:39:12.000000",
          "2023-07-06T05:52:30.000000",
          "2023-07-07T16:15:30.000000",
          "2023-07-26T03:41:53.000000",
          "2023-08-05T19:54:49.000000",
          "2023-08-17T05:57:37.000000",
          "2023-09-03T04:28:00.000000",
          "2023-09-07T15:34:46.000000",
          "2023-09-28T20:32:33.000000",
          "2023-10-14T22:55:25.000000",
          "2023-10-16T17:14:52.000000",
          "2023-10-23T02:51:26.000000",
          "2023-10-26T08:58:24.000000",
          "2023-10-30T07:22:55.000000",
          "2023-11-21T22:17:29.000000",
          "2023-12-05T23:10:11.000000",
          "2023-12-11T08:32:58.000000",
          "2023-12-30T21:04:33.000000",
          "2024-02-05T00:32:54.000000",
          "2024-02-26T11:21:01.000000",
          "2024-03-17T06:17:58.000000",
          "2024-04-09T04:47:43.000000",
          "2024-05-05T20:11:03.000000",
          "2024-05-15T12:48:27.000000",
          "2024-05-18T22:46:48.000000",
          "2024-05-24T16:19:59.000000",
          "2024-05-27T03:19:36.000000",
          "2024-06-01T23:24:58.000000",
          "2024-06-03T01:13:51.000000",
          "2024-06-18T13:51:19.000000",
          "2024-06-18T21:01:32.000000",
          "2024-06-28T16:05:19.000000",
          "2024-07-12T00:09:35.000000",
          "2024-07-13T03:10:41.000000",
          "2024-07-20T14:08:10.000000",
          "2024-07-30T19:27:16.000000",
          "2024-08-20T12:53:51.000000",
          "2024-08-25T06:50:49.000000",
          "2024-09-04T16:39:32.000000",
          "2024-09-06T12:36:22.000000",
          "2024-09-23T06:37:47.000000",
          "2024-09-28T00:10:19.000000",
          "2024-10-05T12:27:48.000000",
          "2024-10-22T10:54:48.000000",
          "2024-11-10T16:31:52.000000",
          "2024-11-29T17:57:18.000000",
          "2024-11-29T22:18:15.000000",
          "2024-12-01T08:50:16.000000",
          "2024-12-20T17:52:01.000000",
          "2024-12-28T04:45:12.000000",
          "2025-01-10T21:11:07.000000",
          "2025-01-11T14:46:00.000000",
          "2025-02-02T16:30:50.000000",
          "2025-02-06T17:52:54.000000",
          "2025-02-07T17:25:57.000000",
          "2025-02-12T04:33:39.000000",
          "2025-02-22T00:16:50.000000",
          "2025-02-22T10:26:08.000000",
          "2025-03-13T09:46:51.000000",
          "2025-03-18T17:48:32.000000",
          "2025-03-21T05:06:26.000000",
          "2025-03-24T05:51:43.000000",
          "2025-03-27T16:05:23.000000",
          "2025-03-29T08:12:43.000000",
          "2025-04-08T14:16:48.000000",
          "2025-04-21T09:27:34.000000",
          "2025-04-28T15:01:15.000000",
          "2025-05-31T23:06:33.000000",
          "2025-06-21T20:55:14.000000",
          "2025-06-26T00:37:20.000000",
          "2025-06-26T16:24:57.000000",
          "2025-07-11T01:48:33.000000"
         ],
         "xaxis": "x",
         "y": {
          "bdata": "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",
          "dtype": "f8"
         },
         "yaxis": "y"
        }
       ],
       "layout": {
        "legend": {
         "tracegroupgap": 0
        },
        "template": {
         "data": {
          "bar": [
           {
            "error_x": {
             "color": "#2a3f5f"
            },
            "error_y": {
             "color": "#2a3f5f"
            },
            "marker": {
             "line": {
              "color": "#E5ECF6",
              "width": 0.5
             },
             "pattern": {
              "fillmode": "overlay",
              "size": 10,
              "solidity": 0.2
             }
            },
            "type": "bar"
           }
          ],
          "barpolar": [
           {
            "marker": {
             "line": {
              "color": "#E5ECF6",
              "width": 0.5
             },
             "pattern": {
              "fillmode": "overlay",
              "size": 10,
              "solidity": 0.2
             }
            },
            "type": "barpolar"
           }
          ],
          "carpet": [
           {
            "aaxis": {
             "endlinecolor": "#2a3f5f",
             "gridcolor": "white",
             "linecolor": "white",
             "minorgridcolor": "white",
             "startlinecolor": "#2a3f5f"
            },
            "baxis": {
             "endlinecolor": "#2a3f5f",
             "gridcolor": "white",
             "linecolor": "white",
             "minorgridcolor": "white",
             "startlinecolor": "#2a3f5f"
            },
            "type": "carpet"
           }
          ],
          "choropleth": [
           {
            "colorbar": {
             "outlinewidth": 0,
             "ticks": ""
            },
            "type": "choropleth"
           }
          ],
          "contour": [
           {
            "colorbar": {
             "outlinewidth": 0,
             "ticks": ""
            },
            "colorscale": [
             [
              0,
              "#0d0887"
             ],
             [
              0.1111111111111111,
              "#46039f"
             ],
             [
              0.2222222222222222,
              "#7201a8"
             ],
             [
              0.3333333333333333,
              "#9c179e"
             ],
             [
              0.4444444444444444,
              "#bd3786"
             ],
             [
              0.5555555555555556,
              "#d8576b"
             ],
             [
              0.6666666666666666,
              "#ed7953"
             ],
             [
              0.7777777777777778,
              "#fb9f3a"
             ],
             [
              0.8888888888888888,
              "#fdca26"
             ],
             [
              1,
              "#f0f921"
             ]
            ],
            "type": "contour"
           }
          ],
          "contourcarpet": [
           {
            "colorbar": {
             "outlinewidth": 0,
             "ticks": ""
            },
            "type": "contourcarpet"
           }
          ],
          "heatmap": [
           {
            "colorbar": {
             "outlinewidth": 0,
             "ticks": ""
            },
            "colorscale": [
             [
              0,
              "#0d0887"
             ],
             [
              0.1111111111111111,
              "#46039f"
             ],
             [
              0.2222222222222222,
              "#7201a8"
             ],
             [
              0.3333333333333333,
              "#9c179e"
             ],
             [
              0.4444444444444444,
              "#bd3786"
             ],
             [
              0.5555555555555556,
              "#d8576b"
             ],
             [
              0.6666666666666666,
              "#ed7953"
             ],
             [
              0.7777777777777778,
              "#fb9f3a"
             ],
             [
              0.8888888888888888,
              "#fdca26"
             ],
             [
              1,
              "#f0f921"
             ]
            ],
            "type": "heatmap"
           }
          ],
          "histogram": [
           {
            "marker": {
             "pattern": {
              "fillmode": "overlay",
              "size": 10,
              "solidity": 0.2
             }
            },
            "type": "histogram"
           }
          ],
          "histogram2d": [
           {
            "colorbar": {
             "outlinewidth": 0,
             "ticks": ""
            },
            "colorscale": [
             [
              0,
              "#0d0887"
             ],
             [
              0.1111111111111111,
              "#46039f"
             ],
             [
              0.2222222222222222,
              "#7201a8"
             ],
             [
              0.3333333333333333,
              "#9c179e"
             ],
             [
              0.4444444444444444,
              "#bd3786"
             ],
             [
              0.5555555555555556,
              "#d8576b"
             ],
             [
              0.6666666666666666,
              "#ed7953"
             ],
             [
              0.7777777777777778,
              "#fb9f3a"
             ],
             [
              0.8888888888888888,
              "#fdca26"
             ],
             [
              1,
              "#f0f921"
             ]
            ],
            "type": "histogram2d"
           }
          ],
          "histogram2dcontour": [
           {
            "colorbar": {
             "outlinewidth": 0,
             "ticks": ""
            },
            "colorscale": [
             [
              0,
              "#0d0887"
             ],
             [
              0.1111111111111111,
              "#46039f"
             ],
             [
              0.2222222222222222,
              "#7201a8"
             ],
             [
              0.3333333333333333,
              "#9c179e"
             ],
             [
              0.4444444444444444,
              "#bd3786"
             ],
             [
              0.5555555555555556,
              "#d8576b"
             ],
             [
              0.6666666666666666,
              "#ed7953"
             ],
             [
              0.7777777777777778,
              "#fb9f3a"
             ],
             [
              0.8888888888888888,
              "#fdca26"
             ],
             [
              1,
              "#f0f921"
             ]
            ],
            "type": "histogram2dcontour"
           }
          ],
          "mesh3d": [
           {
            "colorbar": {
             "outlinewidth": 0,
             "ticks": ""
            },
            "type": "mesh3d"
           }
          ],
          "parcoords": [
           {
            "line": {
             "colorbar": {
              "outlinewidth": 0,
              "ticks": ""
             }
            },
            "type": "parcoords"
           }
          ],
          "pie": [
           {
            "automargin": true,
            "type": "pie"
           }
          ],
          "scatter": [
           {
            "fillpattern": {
             "fillmode": "overlay",
             "size": 10,
             "solidity": 0.2
            },
            "type": "scatter"
           }
          ],
          "scatter3d": [
           {
            "line": {
             "colorbar": {
              "outlinewidth": 0,
              "ticks": ""
             }
            },
            "marker": {
             "colorbar": {
              "outlinewidth": 0,
              "ticks": ""
             }
            },
            "type": "scatter3d"
           }
          ],
          "scattercarpet": [
           {
            "marker": {
             "colorbar": {
              "outlinewidth": 0,
              "ticks": ""
             }
            },
            "type": "scattercarpet"
           }
          ],
          "scattergeo": [
           {
            "marker": {
             "colorbar": {
              "outlinewidth": 0,
              "ticks": ""
             }
            },
            "type": "scattergeo"
           }
          ],
          "scattergl": [
           {
            "marker": {
             "colorbar": {
              "outlinewidth": 0,
              "ticks": ""
             }
            },
            "type": "scattergl"
           }
          ],
          "scattermap": [
           {
            "marker": {
             "colorbar": {
              "outlinewidth": 0,
              "ticks": ""
             }
            },
            "type": "scattermap"
           }
          ],
          "scattermapbox": [
           {
            "marker": {
             "colorbar": {
              "outlinewidth": 0,
              "ticks": ""
             }
            },
            "type": "scattermapbox"
           }
          ],
          "scatterpolar": [
           {
            "marker": {
             "colorbar": {
              "outlinewidth": 0,
              "ticks": ""
             }
            },
            "type": "scatterpolar"
           }
          ],
          "scatterpolargl": [
           {
            "marker": {
             "colorbar": {
              "outlinewidth": 0,
              "ticks": ""
             }
            },
            "type": "scatterpolargl"
           }
          ],
          "scatterternary": [
           {
            "marker": {
             "colorbar": {
              "outlinewidth": 0,
              "ticks": ""
             }
            },
            "type": "scatterternary"
           }
          ],
          "surface": [
           {
            "colorbar": {
             "outlinewidth": 0,
             "ticks": ""
            },
            "colorscale": [
             [
              0,
              "#0d0887"
             ],
             [
              0.1111111111111111,
              "#46039f"
             ],
             [
              0.2222222222222222,
              "#7201a8"
             ],
             [
              0.3333333333333333,
              "#9c179e"
             ],
             [
              0.4444444444444444,
              "#bd3786"
             ],
             [
              0.5555555555555556,
              "#d8576b"
             ],
             [
              0.6666666666666666,
              "#ed7953"
             ],
             [
              0.7777777777777778,
              "#fb9f3a"
             ],
             [
              0.8888888888888888,
              "#fdca26"
             ],
             [
              1,
              "#f0f921"
             ]
            ],
            "type": "surface"
           }
          ],
          "table": [
           {
            "cells": {
             "fill": {
              "color": "#EBF0F8"
             },
             "line": {
              "color": "white"
             }
            },
            "header": {
             "fill": {
              "color": "#C8D4E3"
             },
             "line": {
              "color": "white"
             }
            },
            "type": "table"
           }
          ]
         },
         "layout": {
          "annotationdefaults": {
           "arrowcolor": "#2a3f5f",
           "arrowhead": 0,
           "arrowwidth": 1
          },
          "autotypenumbers": "strict",
          "coloraxis": {
           "colorbar": {
            "outlinewidth": 0,
            "ticks": ""
           }
          },
          "colorscale": {
           "diverging": [
            [
             0,
             "#8e0152"
            ],
            [
             0.1,
             "#c51b7d"
            ],
            [
             0.2,
             "#de77ae"
            ],
            [
             0.3,
             "#f1b6da"
            ],
            [
             0.4,
             "#fde0ef"
            ],
            [
             0.5,
             "#f7f7f7"
            ],
            [
             0.6,
             "#e6f5d0"
            ],
            [
             0.7,
             "#b8e186"
            ],
            [
             0.8,
             "#7fbc41"
            ],
            [
             0.9,
             "#4d9221"
            ],
            [
             1,
             "#276419"
            ]
           ],
           "sequential": [
            [
             0,
             "#0d0887"
            ],
            [
             0.1111111111111111,
             "#46039f"
            ],
            [
             0.2222222222222222,
             "#7201a8"
            ],
            [
             0.3333333333333333,
             "#9c179e"
            ],
            [
             0.4444444444444444,
             "#bd3786"
            ],
            [
             0.5555555555555556,
             "#d8576b"
            ],
            [
             0.6666666666666666,
             "#ed7953"
            ],
            [
             0.7777777777777778,
             "#fb9f3a"
            ],
            [
             0.8888888888888888,
             "#fdca26"
            ],
            [
             1,
             "#f0f921"
            ]
           ],
           "sequentialminus": [
            [
             0,
             "#0d0887"
            ],
            [
             0.1111111111111111,
             "#46039f"
            ],
            [
             0.2222222222222222,
             "#7201a8"
            ],
            [
             0.3333333333333333,
             "#9c179e"
            ],
            [
             0.4444444444444444,
             "#bd3786"
            ],
            [
             0.5555555555555556,
             "#d8576b"
            ],
            [
             0.6666666666666666,
             "#ed7953"
            ],
            [
             0.7777777777777778,
             "#fb9f3a"
            ],
            [
             0.8888888888888888,
             "#fdca26"
            ],
            [
             1,
             "#f0f921"
            ]
           ]
          },
          "colorway": [
           "#636efa",
           "#EF553B",
           "#00cc96",
           "#ab63fa",
           "#FFA15A",
           "#19d3f3",
           "#FF6692",
           "#B6E880",
           "#FF97FF",
           "#FECB52"
          ],
          "font": {
           "color": "#2a3f5f"
          },
          "geo": {
           "bgcolor": "white",
           "lakecolor": "white",
           "landcolor": "#E5ECF6",
           "showlakes": true,
           "showland": true,
           "subunitcolor": "white"
          },
          "hoverlabel": {
           "align": "left"
          },
          "hovermode": "closest",
          "mapbox": {
           "style": "light"
          },
          "paper_bgcolor": "white",
          "plot_bgcolor": "#E5ECF6",
          "polar": {
           "angularaxis": {
            "gridcolor": "white",
            "linecolor": "white",
            "ticks": ""
           },
           "bgcolor": "#E5ECF6",
           "radialaxis": {
            "gridcolor": "white",
            "linecolor": "white",
            "ticks": ""
           }
          },
          "scene": {
           "xaxis": {
            "backgroundcolor": "#E5ECF6",
            "gridcolor": "white",
            "gridwidth": 2,
            "linecolor": "white",
            "showbackground": true,
            "ticks": "",
            "zerolinecolor": "white"
           },
           "yaxis": {
            "backgroundcolor": "#E5ECF6",
            "gridcolor": "white",
            "gridwidth": 2,
            "linecolor": "white",
            "showbackground": true,
            "ticks": "",
            "zerolinecolor": "white"
           },
           "zaxis": {
            "backgroundcolor": "#E5ECF6",
            "gridcolor": "white",
            "gridwidth": 2,
            "linecolor": "white",
            "showbackground": true,
            "ticks": "",
            "zerolinecolor": "white"
           }
          },
          "shapedefaults": {
           "line": {
            "color": "#2a3f5f"
           }
          },
          "ternary": {
           "aaxis": {
            "gridcolor": "white",
            "linecolor": "white",
            "ticks": ""
           },
           "baxis": {
            "gridcolor": "white",
            "linecolor": "white",
            "ticks": ""
           },
           "bgcolor": "#E5ECF6",
           "caxis": {
            "gridcolor": "white",
            "linecolor": "white",
            "ticks": ""
           }
          },
          "title": {
           "x": 0.05
          },
          "xaxis": {
           "automargin": true,
           "gridcolor": "white",
           "linecolor": "white",
           "ticks": "",
           "title": {
            "standoff": 15
           },
           "zerolinecolor": "white",
           "zerolinewidth": 2
          },
          "yaxis": {
           "automargin": true,
           "gridcolor": "white",
           "linecolor": "white",
           "ticks": "",
           "title": {
            "standoff": 15
           },
           "zerolinecolor": "white",
           "zerolinewidth": 2
          }
         }
        },
        "title": {
         "subtitle": {
          "text": "N = 1039"
         },
         "text": "Estimated Impact Energy of Observed Fireballs"
        },
        "xaxis": {
         "anchor": "y",
         "domain": [
          0,
          1
         ],
         "title": {
          "text": "time"
         }
        },
        "yaxis": {
         "anchor": "x",
         "domain": [
          0,
          1
         ],
         "title": {
          "text": "Impact Energy (kt)"
         },
         "type": "log"
        }
       }
      }
     },
     "metadata": {},
     "output_type": "display_data"
    }
   ],
   "source": [
    "(\n",
    "    plt.scatter(\n",
    "        fireballs,\n",
    "        \"time\",\n",
    "        \"E\",\n",
    "        log_y=True,\n",
    "        title=\"Estimated Impact Energy of Observed Fireballs\",\n",
    "        subtitle=f\"N = {len(fireballs)}\",\n",
    "    )\n",
    "    .update_traces(marker_symbol=\"x\", marker_size=4, line_width=1)\n",
    "    .update_layout(yaxis_title=\"Impact Energy (kt)\")\n",
    "    .show()\n",
    ")"
   ]
  },
  {
   "cell_type": "code",
   "execution_count": 9,
   "id": "ca858371",
   "metadata": {},
   "outputs": [
    {
     "data": {
      "application/vnd.plotly.v1+json": {
       "config": {
        "plotlyServerURL": "https://plot.ly"
       },
       "data": [
        {
         "bingroup": "x",
         "hovertemplate": "logE=%{x}<br>count=%{y}<extra></extra>",
         "legendgroup": "",
         "marker": {
          "color": "#636efa",
          "pattern": {
           "shape": ""
          }
         },
         "name": "",
         "orientation": "v",
         "showlegend": false,
         "type": "histogram",
         "x": {
          "bdata": "p7vXFsocBUBmqPLd52D6P480E9nCiNU/2h05TF9SAMBZLtG1dRYDwJvWC/mmNQtAAAAAAAAAAADcueF7k8rQP3jg4PBAUv2/0+VmHyUp6L/09vXFafj4v/T29cVp+Pi/NkvOfgfz9L95QZaXa83Ev2l7cQgxp+o/M43t90HA+T944ODwQFL9v3jg4PBAUv2/FVW1u7FrAsAH3SXBMnX/v1TpwgNbWgPAx8hZAN45+L/97cviWpL6v1TpwgNbWgPAVOnCA1taA8B292/H+Ifsv1TpwgNbWgPAC6KdxnL27r8vRleE343iv0kx/nnQb/u//J5p51LZ6L9SFIH6rljwv9y54XuTytA/rguXukz2AMAdL56tvZ0EwBVVtbuxawLAUhSB+q5Y8L/MRjx5P2a4P1ucwB90TgTAyuQHeVzr1b9SFIH6rljwv3jg4PBAUv2/STH+edBv+7+mzyMt/ZHdvxjEOnyaWv6/C6KdxnL27r9SFIH6rljwv3qFJDG+1ALArguXukz2AMBtFi/FEZUCwB0vnq29nQTA33Lrv3+oAcB44ODwQFL9v+85+v5CLva/ipAuCo2i378Lop3Gcvbuv2j4VoXNAeu/FVW1u7FrAsC8HvUYnY31v64Ll7pM9gDAzG2Yr7Gu2L8YxDp8mlr+vwuincZy9u6/GMQ6fJpa/r8H3SXBMnX/vx0vnq29nQTAM43t90HA+b/HyFkA3jn4vzON7fdBwPm/eODg8EBS/b/MbZivsa7YvwfdJcEydf+/aSh7Q39Ytb8H3SXBMnX/v3WW5BFQVsc/9VIyiTgk1L+0hExdlKADwFku0bV1FgPAaPhWhc0B679292/H+Ifsv+P5chkqTsO/zG2Yr7Gu2L96hSQxvtQCwHjg4PBAUv2/W5zAH3ROBMBZLtG1dRYDwAG2IT3sUOS/d8TSLR8CBMAzje33QcD5vwG2IT3sUOS/W3g9KRGK5D/1UjKJOCTUv99y679/qAHAduwx88qD978zje33QcD5v3b3b8f4h+y/eoUkMb7UAsAzje33QcD5v3fE0i0fAgTAB90lwTJ1/7+0hExdlKADwAuincZy9u6/33Lrv3+oAcDPJicaihTeP1TpwgNbWgPAeoUkMb7UAsCuC5e6TPYAwLSETF2UoAPAB90lwTJ1/7++kzuyUUICQLSETF2UoAPAbRYvxRGVAsCfV7kBeUXqv/3ty+Jakvq/W0EKIej4yr8hmprH94/cv99y679/qAHAD8CoQRFe9L9ZLtG1dRYDwLeJvyTq0O+/dvdvx/iH7L/j+XIZKk7Dv3WpXzD+k7K/x8hZAN45+L+uC5e6TPYAwA/AqEERXvS/bRYvxRGVAsA2S85+B/P0vzZLzn4H8/S/duwx88qD978YxDp8mlr+v3fE0i0fAgTAB90lwTJ1/79tFi/FEZUCwJCfiktORdO/9Pb1xWn4+L+uC5e6TPYAwIxfcwPXA+w/W5zAH3ROBMBuFR5VVc7/P4xfcwPXA+w/eODg8EBS/b8zje33QcD5v3fE0i0fAgTANkvOfgfz9L/97cviWpL6v20WL8URlQLA/e3L4lqS+r/97cviWpL6vxVVtbuxawLAFVW1u7FrAsABtiE97FDkv/mz8YyQwuu/U3GKO6gh7r8VVbW7sWsCwHSf28w48ATAeoUkMb7UAsD09vXFafj4v1IUgfquWPC/HS+erb2dBMCAw2NxHzvyvxjEOnyaWv6/sKRm4AmM5b/09vXFafj4v4mstxk5GvI/NkvOfgfz9L9bnMAfdE4EwHqFJDG+1ALA7zn6/kIu9r/HyFkA3jn4v/T29cVp+Pi/zGy1SBLM8L96hSQxvtQCwMrkB3lc69W/gMNjcR878r+fV7kBeUXqv4DDY3EfO/K/zG2Yr7Gu2L+0hExdlKADwAsDrXrqkwFAC6KdxnL27r9JMf550G/7vxvqwTVSefA/4/lyGSpOw7/aHTlMX1IAwNodOUxfUgDAB90lwTJ1/78bghsDYI3pv3bsMfPKg/e/NkvOfgfz9L+uC5e6TPYAwAuincZy9u6/fhJOyqXZx799XKL+y7fjvyGnvfx4Q/O/n1e5AXlF6r9SFIH6rljwv6L9sl0qvfK/x8hZAN45+L/HyFkA3jn4v9odOUxfUgDA7zn6/kIu9r/MbZivsa7Yv3Sf28w48ATAYlXgau9Z/L+8HvUYnY31v3qFJDG+1ALA33Lrv3+oAcCwpGbgCYzlv6qNBTvkZQFAqo0FO+RlAUB9XKL+y7fjvxVVtbuxawLA/J5p51LZ6L9iVeBq71n8v6+lE+KBv9e/VOnCA1taA8B3x0ByThrzPw/AqEERXvS/7zn6/kIu5j/MbLVIEszwv3jg4PBAUv2/dZbkEVBWxz8H3SXBMnX/v/EWsxbOl9q/GMQ6fJpa/r+Aw2NxHzvyv3fg4PBAUu2/ov2yXSq98r8WsdIPeyHjv3b3b8f4h+y/7zn6/kIu9r/fcuu/f6gBwHb3b8f4h+y/33Lrv3+oAcBbnMAfdE4EwO85+v5CLua/d8TSLR8CBMAH3SXBMnX/vx0vnq29nQTA3Lnhe5PK0D/HyFkA3jn4v99y679/qAHA9Pb1xWn4+L/aHTlMX1IAwB0vnq29nQTA/e3L4lqS+r8dL56tvZ0EwM8mJxqKFN4/zG2Yr7Gu2L927DHzyoP3vwAAAAAAAAAAFVW1u7FrAsB0n9vMOPAEwN9y679/qAHArNq1A7pq+D/aHTlMX1IAwBVVtbuxawLAnS2SRjO60L927DHzyoP3v9y54XuTytA/rguXukz2AMDPJicaihTeP1NxijuoIe6/Iae9/HhD879tFi/FEZUCwCGamsf3j9y/FVW1u7FrAsD97cviWpL6vx0vnq29nQTAtIRMXZSgA8DMRjx5P2a4P0yYv+wj89k/dvdvx/iH7L9JMf550G/7v3jg4PBAUv2/STH+edBv+78AAAAAAAAAAEkx/nnQb/u/eODg8EBS/b/Rh7IBKdW9v4FxpVmPxvU/ov2yXSq98r+i/bJdKr3yv/T29cVp+Pi/7zn6/kIu9r8VVbW7sWsCwK4Ll7pM9gDAFrHSD3sh479U6cIDW1oDwKvmBgZEnPI/UYwxKwSFBEAzje33QcD5v8fIWQDeOfi/hpFrOnsfB0AVVbW7sWsCwA/AqEERXvS/iQPwMvfs5L+wpGbgCYzlvxVVtbuxawLA2h05TF9SAMAPwKhBEV70v3WW5BFQVsc/zGy1SBLM8L9292/H+IfsvyGnvfx4Q/O/B90lwTJ1/79JMf550G/7v9odOUxfUgDAYlXgau9Z/L9bnMAfdE4EwHqFJDG+1ALA2h05TF9SAMDm1T3Q4Pzhv4qQLgqNot+/rguXukz2AMAVVbW7sWsCwIDDY3EfO/K/x8hZAN45+L8dL56tvZ0EwHSf28w48ATAIZqax/eP3L9bnMAfdE4EwBjEOnyaWv6/WS7RtXUWA8ALop3Gcvbuv3Sf28w48ATA7zn6/kIu9r8H3SXBMnX/v3fE0i0fAgTA33Lrv3+oAcBU6cIDW1oDwHqFJDG+1ALA7zn6/kIu9r9U6cIDW1oDwFucwB90TgTAd+Dg8EBS7b/09vXFafj4v99y679/qAHAduwx88qD978H3SXBMnX/v1TpwgNbWgPA33Lrv3+oAcDfcuu/f6gBwDZLzn4H8/S/sKRm4AmM5b8BtiE97FDkvxlYOVdVzvO/bRYvxRGVAsBiVeBq71n8vxjEOnyaWv6/xPHY+iXP4j8hp738eEPzv+q9OPG3yO8/x8hZAN45+L/5s/GMkMLrvzON7fdBwPk/t4m/JOrQ7790n9vMOPAEwAuincZy9u6/FVW1u7FrAsDK5Ad5XOvVv1ku0bV1FgPA/e3L4lqS+r/T5WYfJSnov7we9RidjfW/jF9zA9cD7D944ODwQFL9v1A/4STD09a/33Lrv3+oAcAPwKhBEV70vxvqwTVSefA/W5zAH3ROBMBSFIH6rljwv4DDY3EfO/K/D8CoQRFe9L8H3SXBMnX/vwfdJcEydf+/UD/hJMPT1r+qgtd4I5jev3fE0i0fAgTAM43t90HA+b8dL56tvZ0EwKe71xbKHAVArguXukz2AMCPNBPZwojVP99y679/qAHAZfqw9XfV9r9o+FaFzQHrv9GHsgEp1b2/eoUkMb7UAsBU6cIDW1oDwNodOUxfUgDAtIRMXZSgA8C04ikFFb3xv+85+v5CLua/AAAAAAAAAADaHTlMX1IAwN9y679/qAHAAroSgvKR27944ODwQFL9v3jg4PBAUv2/AroSgvKR27/97cviWpL6v99y679/qAHA/e3L4lqS+r9SFIH6rljwv3fg4PBAUu2/B90lwTJ1/78YxDp8mlr+v8fIWQDeOfi/tOIpBRW98b944ODwQFL9v3Sf28w48ATAduwx88qD97944ODwQFL9v2X6sPV31fa/HS+erb2dBMB0n9vMOPAEwEkx/nnQb/u/7zn6/kIu9r8dL56tvZ0EwGj4VoXNAeu/HS+erb2dBMAdL56tvZ0EwE8/4STD0+a/rguXukz2AMD09vXFafj4v2JV4GrvWfy/M43t90HA+b9SFIH6rljwvwfdJcEydf+/dJ/bzDjwBMALop3Gcvbuv/3ty+Jakvq/AAAAAAAAAACwpGbgCYzlvxjEOnyaWv6/ipAuCo2i379U6cIDW1oDwHb3b8f4h+y/+bPxjJDC67+uC5e6TPYAwFIUgfquWOC/rguXukz2AMB3xNItHwIEwHjg4PBAUv2/YD21LlEL9D944ODwQFL9v3Sf28w48ATAB90lwTJ1/7/fcuu/f6gBwGndD+w1BtW/rguXukz2AMBiVeBq71n8v3bsMfPKg/e/Zfqw9XfV9r9292/H+IfsvzjQRo9fkNG/33Lrv3+oAcBQZ1UhE6oCwN9y679/qAHA6sTzAEeAAsDE8dj6Jc/iP1C1EDdMvwLAdZbkEVBWxz9pe3EIMafqP/mz8YyQwuu/zGy1SBLM8L/RuNX02PgLQLwe9RidjfW/B90lwTJ1/79bnMAfdE4EwC25LnWIuAPAxPHY+iXP4j82S85+B/P0v5Hjc3tC9wdAM43t90HA+b+i/bJdKr3yvw/AqEERXvS/dZbkEVBWxz8PwKhBEV70vwK6EoLykdu/aPhWhc0B6795QZaXa83EvxVVtbuxawLA2h05TF9SAMDvOfr+Qi72v+85+v5CLua/7zn6/kIu9r/JwiHuCjvpPwuincZy9u6/zGy1SBLM8L/8nmnnUtnov2X6sPV31fa/p7vXFsocBUAVVbW7sWsCwN9y679/qAHAbRYvxRGVAsDJmock+IIEwCXZGxQqXPU/kakUGej64D8hp738eEPzv/T29cVp+Pi/STH+edBv+78OgNBDauoCwPmz8YyQwuu/dJ/bzDjwBMAZWDlXVc7zv7we9RidjfW/33Lrv3+oAcAhp738eEPzv3b3b8f4h+y/M43t90HA+b8H3SXBMnX/v9pCFVZQLQJA33Lrv3+oAcB27DHzyoP3v7j+LjixNATAB90lwTJ1/7/fcuu/f6gBwBVVtbuxawLArguXukz2AMB27DHzyoP3vxuCGwNgjem//e3L4lqS+r9l+rD1d9X2v5LbNBFiadK/tIRMXZSgA8CKkC4KjaLfv1as9wvw3QXAhAr65IFt+T/fcuu/f6gBwBVVtbuxawLAvB71GJ2N9b/fcuu/f6gBwEkx/nnQb/u/rguXukz2AMCi/bJdKr3yv4IcZTx/cQPAd8TSLR8CBMBQtRA3TL8CwNodOUxfUgDA9Pb1xWn4+L/aHTlMX1IAwHfE0i0fAgTAULUQN0y/AsC8HvUYnY31v2j4VoXNAeu/Zfqw9XfV9r+YMzMfxdADwAuincZy9u6/8RazFs6X2r/MbLVIEszwv9q6Z+ysfOe/2h05TF9SAMCCHGU8f3EDwLTiKQUVvfG/ov2yXSq98r944ODwQFL9v64Ll7pM9gDA/J5p51LZ6L944ODwQFL9vyGamsf3j9y/U3GKO6gh7r/nXHEPXuLgv/T29cVp+Pi/nX/7KeeIA8BTcYo7qCHuv99y679/qAHArguXukz2AMCvpRPigb/Xv8fIWQDeOfi/DoDQQ2rqAsCi/bJdKr3yv6+lE+KBv9e/STH+edBv+7/cueF7k8rQP5LbNBFiadK/5tU90OD84b8OgNBDauoCwLSETF2UoAPAt4m/JOrQ779U6cIDW1oDwN9y679/qAHA51xxD17i4L944ODwQFL9v8DA5f6C5/4/9Pb1xWn4+L+xrm+ULlsYQBVVtbuxawLAFVW1u7FrAsB44ODwQFLtP76TO7JRQgJA7mLZCotoBMCuC5e6TPYAwFucwB90TgTAd8TSLR8CBMB0n9vMOPAEwFIUgfquWPC/AAAAAAAAAADHyFkA3jn4v9odOUxfUgDArguXukz2AMAYxDp8mlr+v/yeaedS2ei//e3L4lqS+r9gPbUuUQv0P3bsMfPKg/e/UhSB+q5Y8L9PdLRAJizOv9odOUxfUgDAZfqw9XfV9r9292/H+Ifsv3b3b8f4h+y/TJi/7CPz2T/ERdWw1ywDwBlYOVdVzvO/3Lnhe5PK0D/aHTlMX1IAwIxfcwPXA+w/aSh7Q39Ytb934ODwQFLtv/3ty+Jakvq/M43t90HA+b+BPtSobKHZv0kx/nnQb/u/7zn6/kIu9r8Oe8zJpTkAQK4Ll7pM9gDAWS7RtXUWA8CuC5e6TPYAwBVVtbuxawLA2h05TF9SAMCuC5e6TPYAwO85+v5CLva/rguXukz2AMD5s/GMkMLrv4DDY3EfO/K/zGy1SBLM8L9JMf550G/7v5GpFBno+uA/Zfqw9XfV9r/fcuu/f6gBwBjEOnyaWv6/dJ/bzDjwBMB292/H+Ifsv3b3b8f4h+y/W5zAH3ROBMAH3SXBMnX/v/3ty+Jakvq/AbYhPexQ5L9iVeBq71n8v4IcZTx/cQPAduwx88qD97+3ib8k6tDvv/T29cVp+Pi/B90lwTJ1/7/m1T3Q4Pzhv99y679/qAHANkvOfgfz9L+Aw2NxHzvyv2JV4GrvWfy/dvdvx/iH7L8H3SXBMnX/v9odOUxfUgDAAAAAAAAAAAAAAAAAAAAAAK+lE+KBv9e/x8hZAN45+L927DHzyoP3v3fE0i0fAgTALbkudYi4A8AVVbW7sWsCwNodOUxfUgDAgXGlWY/G9T8IqSaFW9QEwPT29cVp+Pi/Iae9/HhD878YxDp8mlr+v9odOUxfUgDAFVW1u7FrAsB3xNItHwIEwPEWsxbOl9q/Iae9/HhD879l+rD1d9X2v7we9RidjfW/5tU90OD84b+8HvUYnY31v3jg4PBAUv2/zGy1SBLM8L82S85+B/P0v1GMMSsEhQRAYlXgau9Z/L8vRleE343iv4odCdCyMJ+/rguXukz2AMD97cviWpL6v99y679/qAHAjzQT2cKI1T90n9vMOPAEwCGamsf3j9y/U3GKO6gh7r8zje33QcD5v3WW5BFQVsc/33Lrv3+oAcA2S85+B/P0v8xtmK+xrti/0YeyASnVvb/MRjx5P2a4P9q6Z+ysfOe/33Lrv3+oAcDMbLVIEszwvxax0g97IeO/dvdvx/iH7L9l+rD1d9X2v3bsMfPKg/e/33Lrv3+oAcBl+rD1d9X2v3fg4PBAUu2/33Lrv3+oAcDMbLVIEszwvxjEOnyaWv6/x8hZAN45+L90n9vMOPAEwHlBlpdrzcS/2h05TF9SAMAPwKhBEV70v8fIWQDeOfi/zEY8eT9muD8SUjEgDgnxP3fg4PBAUu2/rguXukz2AMDaHTlMX1IAwCGnvfx4Q/O/dZbkEVBWxz934ODwQFLtvyGnvfx4Q/O/duwx88qD978H3SXBMnX/v/3ty+Jakvq/B90lwTJ1/79qOGPrzULxvxVVtbuxawLAFVW1u7FrAsDfcuu/f6gBwFTpwgNbWgPAkakUGej64D9tFi/FEZUCwNENqlfviABA7zn6/kIu9r9292/H+Ifsv/T29cVp+Pi/33Lrv3+oAcC0hExdlKADwBax0g97IeO/FVW1u7FrAsABtiE97FDkv8kV/qO+JLi/rguXukz2AMBhUjitUQADwGX6sPV31fa/duwx88qD9791luQRUFbHP64Ll7pM9gDA2h05TF9SAMAVVbW7sWsCwAfdJcEydf+/duwx88qD979PP+Ekw9Pmv8kV/qO+JLi/G+rBNVJ58D8VVbW7sWsCwAG2IT3sUOS/jzQT2cKI1T+04ikFFb3xv4IcZTx/cQPA33Lrv3+oAcDaHTlMX1IAwPyeaedS2ei/B90lwTJ1/79JMf550G/7v1t4PSkRiuQ/M43t90HA+b9ZLtG1dRYDwAfdJcEydf+/bRYvxRGVAsCuC5e6TPYAwH1cov7Lt+O/zEY8eT9muD9XWjKuciIPQA/AqEERXvS/eODg8EBS/b8OgNBDauoCwJGpFBno+uA/9y2/tHxW9z/HyFkA3jn4vxVVtbuxawLAuP4uOLE0BMBtFi/FEZUCwHbsMfPKg/e/33Lrv3+oAcC3ib8k6tDvvyv5xT1AGwTA/3xRICpGBcAH3SXBMnX/v88mJxqKFN4/ov2yXSq98r/MbLVIEszwv3fE0i0fAgTAbRYvxRGVAsACICr6C6v8Px0vnq29nQTA33Lrv3+oAcCvpRPigb/XvxVVtbuxawLAdJ/bzDjwBMDaHTlMX1IAwP3ty+Jakvq/+bPxjJDC678H3SXBMnX/v7TiKQUVvfG/9Pb1xWn4+L/uYtkKi2gEwObVPdDg/OG/rguXukz2AMCfV7kBeUXqv4IcZTx/cQPASTH+edBv+78VVbW7sWsCwBjEOnyaWv6/B90lwTJ1/79U6cIDW1oDwLwe9RidjfW/33Lrv3+oAcAvRleE343iv2JV4GrvWfy/U3GKO6gh7r8VVbW7sWsCwN9y679/qAHAM43t90HA+b/MQ8/23EoIwHSf28w48ATAov2yXSq98r/3q+C8BLCUv2FSOK1RAAPAU3GKO6gh7r/MbLVIEszwv3Sf28w48ATAd8TSLR8CBMAdL56tvZ0EwK4Ll7pM9gDA2h05TF9SAMBl+rD1d9X2v3fg4PBAUu2//e3L4lqS+r82S85+B/P0v2JV4GrvWfy/K/nFPUAbBMD09vXFafj4vzON7fdBwPm/STH+edBv+78H3SXBMnX/v7j+LjixNATA33Lrv3+oAcAVVbW7sWsCwAfdJcEydf+/zEY8eT9muD8hp738eEPzv7we9RidjfW/ov2yXSq98r90n9vMOPAEwH2e07wW4QNAFVW1u7FrAsAhp738eEPzvzON7fdBwPm/duwx88qD97927DHzyoP3v5LbNBFiadK/rguXukz2AMCuC5e6TPYAwFucwB90TgTA2h05TF9SAMAbghsDYI3pv4kD8DL37OS/d8TSLR8CBMAVVbW7sWsCwEkx/nnQb/u/B90lwTJ1/790n9vMOPAEwMTx2Polz+I/YlXgau9Z/L/aHTlMX1IAwHbsMfPKg/e/WS7RtXUWA8BPP+Ekw9Pmv9odOUxfUgDA/e3L4lqS+r8H3SXBMnX/v1BnVSETqgLAFVW1u7FrAsBU6cIDW1oDwBVVtbuxawLAYlXgau9Z/L/fcuu/f6gBwFqoqLSw/QXAiPDb/d24BMD5s/GMkMLrvxJSMSAOCfE/yRX+o74kuL9iVeBq71n8v59XuQF5Req/V1oyrnIi/z8zje33QcD5v4DDY3EfO/K/r1HWSh0pBcAH3SXBMnX/vyXZGxQqXPU/Zfqw9XfV9r8dL56tvZ0EwPer4LwEsJS/iPDb/d24BMBZLtG1dRYDwN9y679/qAHA33Lrv3+oAcC04ikFFb3xv+rE8wBHgALA9Pb1xWn4+L8zje33QcD5vw/AqEERXvS/xPHY+iXP4j/fcuu/f6gBwBjEOnyaWv6/9Pb1xWn4+L82S85+B/P0v9y54XuTytA/r6UT4oG/178AAAAAAAAAAFC1EDdMvwLAnX/7KeeIA8AOgNBDauoCwFC1EDdMvwLAeODg8EBS/b9iVeBq71n8vzON7fdBwPm/rguXukz2AMBJMf550G/7vzON7fdBwPm//e3L4lqS+r8YxDp8mlr+v8fIWQDeOfi/2h05TF9SAMAVVbW7sWsCwMNQN3l4DAXAFVW1u7FrAsCJA/Ay9+zkv3fg4PBAUu2/M43t90HA+b/MRjx5P2a4P3qFJDG+1ALAmDMzH8XQA8DHyFkA3jn4v6r75dbm8v0/33Lrv3+oAcDaHTlMX1IAwN9y679/qAHA+bAoWYxc/z+PNBPZwojVP99y679/qAHAYVI4rVEAA8CfV7kBeUXqvyXZGxQqXPU/ov2yXSq98r93xNItHwIEwO5i2QqLaATAeODg8EBS/b9JMf550G/7v99y679/qAHAYlXgau9Z/L+O3UDylM3Pv1ku0bV1FgPAGMQ6fJpa/r8dL56tvZ0EwFIUgfquWPC/AroSgvKR27944ODwQFL9v9odOUxfUgDA33Lrv3+oAcDfcuu/f6gBwNodOUxfUgDA6sTzAEeAAsDaHTlMX1IAwEkx/nnQb/u/vB71GJ2N9b/vOfr+Qi72vw6A0ENq6gLAdZbkEVBWxz9bnMAfdE4EwNodOUxfUgDAvB71GJ2N9b9MmL/sI/PZP9NXN4deEfo/eoUkMb7UAsD97cviWpL6v1ku0bV1FgPAM43t90HA+b8dL56tvZ0EwEkx/nnQb/u/gMNjcR878r96hSQxvtQCwBjEOnyaWv6/STH+edBv+7/97cviWpL6v3qFJDG+1ALAC6KdxnL27r/AcQeMlZTzP99y679/qAHAeoUkMb7UAsAVVbW7sWsCwNodOUxfUgDAdJ/bzDjwBMC0hExdlKADwNodOUxfUgDArguXukz2AMBJMf550G/7v8Tx2Polz+I/tOIpBRW98b/aHTlMX1IAwHjg4PBAUv2/jF9zA9cD7D/97cviWpL6vx0vnq29nQTAd8TSLR8CBMCuC5e6TPYAwAAAAAAAAAAAFVW1u7FrAsBTcYo7qCHuv9q6Z+ysfOe/33Lrv3+oAcA=",
          "dtype": "f8"
         },
         "xaxis": "x",
         "yaxis": "y"
        }
       ],
       "layout": {
        "barmode": "relative",
        "legend": {
         "tracegroupgap": 0
        },
        "template": {
         "data": {
          "bar": [
           {
            "error_x": {
             "color": "#2a3f5f"
            },
            "error_y": {
             "color": "#2a3f5f"
            },
            "marker": {
             "line": {
              "color": "#E5ECF6",
              "width": 0.5
             },
             "pattern": {
              "fillmode": "overlay",
              "size": 10,
              "solidity": 0.2
             }
            },
            "type": "bar"
           }
          ],
          "barpolar": [
           {
            "marker": {
             "line": {
              "color": "#E5ECF6",
              "width": 0.5
             },
             "pattern": {
              "fillmode": "overlay",
              "size": 10,
              "solidity": 0.2
             }
            },
            "type": "barpolar"
           }
          ],
          "carpet": [
           {
            "aaxis": {
             "endlinecolor": "#2a3f5f",
             "gridcolor": "white",
             "linecolor": "white",
             "minorgridcolor": "white",
             "startlinecolor": "#2a3f5f"
            },
            "baxis": {
             "endlinecolor": "#2a3f5f",
             "gridcolor": "white",
             "linecolor": "white",
             "minorgridcolor": "white",
             "startlinecolor": "#2a3f5f"
            },
            "type": "carpet"
           }
          ],
          "choropleth": [
           {
            "colorbar": {
             "outlinewidth": 0,
             "ticks": ""
            },
            "type": "choropleth"
           }
          ],
          "contour": [
           {
            "colorbar": {
             "outlinewidth": 0,
             "ticks": ""
            },
            "colorscale": [
             [
              0,
              "#0d0887"
             ],
             [
              0.1111111111111111,
              "#46039f"
             ],
             [
              0.2222222222222222,
              "#7201a8"
             ],
             [
              0.3333333333333333,
              "#9c179e"
             ],
             [
              0.4444444444444444,
              "#bd3786"
             ],
             [
              0.5555555555555556,
              "#d8576b"
             ],
             [
              0.6666666666666666,
              "#ed7953"
             ],
             [
              0.7777777777777778,
              "#fb9f3a"
             ],
             [
              0.8888888888888888,
              "#fdca26"
             ],
             [
              1,
              "#f0f921"
             ]
            ],
            "type": "contour"
           }
          ],
          "contourcarpet": [
           {
            "colorbar": {
             "outlinewidth": 0,
             "ticks": ""
            },
            "type": "contourcarpet"
           }
          ],
          "heatmap": [
           {
            "colorbar": {
             "outlinewidth": 0,
             "ticks": ""
            },
            "colorscale": [
             [
              0,
              "#0d0887"
             ],
             [
              0.1111111111111111,
              "#46039f"
             ],
             [
              0.2222222222222222,
              "#7201a8"
             ],
             [
              0.3333333333333333,
              "#9c179e"
             ],
             [
              0.4444444444444444,
              "#bd3786"
             ],
             [
              0.5555555555555556,
              "#d8576b"
             ],
             [
              0.6666666666666666,
              "#ed7953"
             ],
             [
              0.7777777777777778,
              "#fb9f3a"
             ],
             [
              0.8888888888888888,
              "#fdca26"
             ],
             [
              1,
              "#f0f921"
             ]
            ],
            "type": "heatmap"
           }
          ],
          "histogram": [
           {
            "marker": {
             "pattern": {
              "fillmode": "overlay",
              "size": 10,
              "solidity": 0.2
             }
            },
            "type": "histogram"
           }
          ],
          "histogram2d": [
           {
            "colorbar": {
             "outlinewidth": 0,
             "ticks": ""
            },
            "colorscale": [
             [
              0,
              "#0d0887"
             ],
             [
              0.1111111111111111,
              "#46039f"
             ],
             [
              0.2222222222222222,
              "#7201a8"
             ],
             [
              0.3333333333333333,
              "#9c179e"
             ],
             [
              0.4444444444444444,
              "#bd3786"
             ],
             [
              0.5555555555555556,
              "#d8576b"
             ],
             [
              0.6666666666666666,
              "#ed7953"
             ],
             [
              0.7777777777777778,
              "#fb9f3a"
             ],
             [
              0.8888888888888888,
              "#fdca26"
             ],
             [
              1,
              "#f0f921"
             ]
            ],
            "type": "histogram2d"
           }
          ],
          "histogram2dcontour": [
           {
            "colorbar": {
             "outlinewidth": 0,
             "ticks": ""
            },
            "colorscale": [
             [
              0,
              "#0d0887"
             ],
             [
              0.1111111111111111,
              "#46039f"
             ],
             [
              0.2222222222222222,
              "#7201a8"
             ],
             [
              0.3333333333333333,
              "#9c179e"
             ],
             [
              0.4444444444444444,
              "#bd3786"
             ],
             [
              0.5555555555555556,
              "#d8576b"
             ],
             [
              0.6666666666666666,
              "#ed7953"
             ],
             [
              0.7777777777777778,
              "#fb9f3a"
             ],
             [
              0.8888888888888888,
              "#fdca26"
             ],
             [
              1,
              "#f0f921"
             ]
            ],
            "type": "histogram2dcontour"
           }
          ],
          "mesh3d": [
           {
            "colorbar": {
             "outlinewidth": 0,
             "ticks": ""
            },
            "type": "mesh3d"
           }
          ],
          "parcoords": [
           {
            "line": {
             "colorbar": {
              "outlinewidth": 0,
              "ticks": ""
             }
            },
            "type": "parcoords"
           }
          ],
          "pie": [
           {
            "automargin": true,
            "type": "pie"
           }
          ],
          "scatter": [
           {
            "fillpattern": {
             "fillmode": "overlay",
             "size": 10,
             "solidity": 0.2
            },
            "type": "scatter"
           }
          ],
          "scatter3d": [
           {
            "line": {
             "colorbar": {
              "outlinewidth": 0,
              "ticks": ""
             }
            },
            "marker": {
             "colorbar": {
              "outlinewidth": 0,
              "ticks": ""
             }
            },
            "type": "scatter3d"
           }
          ],
          "scattercarpet": [
           {
            "marker": {
             "colorbar": {
              "outlinewidth": 0,
              "ticks": ""
             }
            },
            "type": "scattercarpet"
           }
          ],
          "scattergeo": [
           {
            "marker": {
             "colorbar": {
              "outlinewidth": 0,
              "ticks": ""
             }
            },
            "type": "scattergeo"
           }
          ],
          "scattergl": [
           {
            "marker": {
             "colorbar": {
              "outlinewidth": 0,
              "ticks": ""
             }
            },
            "type": "scattergl"
           }
          ],
          "scattermap": [
           {
            "marker": {
             "colorbar": {
              "outlinewidth": 0,
              "ticks": ""
             }
            },
            "type": "scattermap"
           }
          ],
          "scattermapbox": [
           {
            "marker": {
             "colorbar": {
              "outlinewidth": 0,
              "ticks": ""
             }
            },
            "type": "scattermapbox"
           }
          ],
          "scatterpolar": [
           {
            "marker": {
             "colorbar": {
              "outlinewidth": 0,
              "ticks": ""
             }
            },
            "type": "scatterpolar"
           }
          ],
          "scatterpolargl": [
           {
            "marker": {
             "colorbar": {
              "outlinewidth": 0,
              "ticks": ""
             }
            },
            "type": "scatterpolargl"
           }
          ],
          "scatterternary": [
           {
            "marker": {
             "colorbar": {
              "outlinewidth": 0,
              "ticks": ""
             }
            },
            "type": "scatterternary"
           }
          ],
          "surface": [
           {
            "colorbar": {
             "outlinewidth": 0,
             "ticks": ""
            },
            "colorscale": [
             [
              0,
              "#0d0887"
             ],
             [
              0.1111111111111111,
              "#46039f"
             ],
             [
              0.2222222222222222,
              "#7201a8"
             ],
             [
              0.3333333333333333,
              "#9c179e"
             ],
             [
              0.4444444444444444,
              "#bd3786"
             ],
             [
              0.5555555555555556,
              "#d8576b"
             ],
             [
              0.6666666666666666,
              "#ed7953"
             ],
             [
              0.7777777777777778,
              "#fb9f3a"
             ],
             [
              0.8888888888888888,
              "#fdca26"
             ],
             [
              1,
              "#f0f921"
             ]
            ],
            "type": "surface"
           }
          ],
          "table": [
           {
            "cells": {
             "fill": {
              "color": "#EBF0F8"
             },
             "line": {
              "color": "white"
             }
            },
            "header": {
             "fill": {
              "color": "#C8D4E3"
             },
             "line": {
              "color": "white"
             }
            },
            "type": "table"
           }
          ]
         },
         "layout": {
          "annotationdefaults": {
           "arrowcolor": "#2a3f5f",
           "arrowhead": 0,
           "arrowwidth": 1
          },
          "autotypenumbers": "strict",
          "coloraxis": {
           "colorbar": {
            "outlinewidth": 0,
            "ticks": ""
           }
          },
          "colorscale": {
           "diverging": [
            [
             0,
             "#8e0152"
            ],
            [
             0.1,
             "#c51b7d"
            ],
            [
             0.2,
             "#de77ae"
            ],
            [
             0.3,
             "#f1b6da"
            ],
            [
             0.4,
             "#fde0ef"
            ],
            [
             0.5,
             "#f7f7f7"
            ],
            [
             0.6,
             "#e6f5d0"
            ],
            [
             0.7,
             "#b8e186"
            ],
            [
             0.8,
             "#7fbc41"
            ],
            [
             0.9,
             "#4d9221"
            ],
            [
             1,
             "#276419"
            ]
           ],
           "sequential": [
            [
             0,
             "#0d0887"
            ],
            [
             0.1111111111111111,
             "#46039f"
            ],
            [
             0.2222222222222222,
             "#7201a8"
            ],
            [
             0.3333333333333333,
             "#9c179e"
            ],
            [
             0.4444444444444444,
             "#bd3786"
            ],
            [
             0.5555555555555556,
             "#d8576b"
            ],
            [
             0.6666666666666666,
             "#ed7953"
            ],
            [
             0.7777777777777778,
             "#fb9f3a"
            ],
            [
             0.8888888888888888,
             "#fdca26"
            ],
            [
             1,
             "#f0f921"
            ]
           ],
           "sequentialminus": [
            [
             0,
             "#0d0887"
            ],
            [
             0.1111111111111111,
             "#46039f"
            ],
            [
             0.2222222222222222,
             "#7201a8"
            ],
            [
             0.3333333333333333,
             "#9c179e"
            ],
            [
             0.4444444444444444,
             "#bd3786"
            ],
            [
             0.5555555555555556,
             "#d8576b"
            ],
            [
             0.6666666666666666,
             "#ed7953"
            ],
            [
             0.7777777777777778,
             "#fb9f3a"
            ],
            [
             0.8888888888888888,
             "#fdca26"
            ],
            [
             1,
             "#f0f921"
            ]
           ]
          },
          "colorway": [
           "#636efa",
           "#EF553B",
           "#00cc96",
           "#ab63fa",
           "#FFA15A",
           "#19d3f3",
           "#FF6692",
           "#B6E880",
           "#FF97FF",
           "#FECB52"
          ],
          "font": {
           "color": "#2a3f5f"
          },
          "geo": {
           "bgcolor": "white",
           "lakecolor": "white",
           "landcolor": "#E5ECF6",
           "showlakes": true,
           "showland": true,
           "subunitcolor": "white"
          },
          "hoverlabel": {
           "align": "left"
          },
          "hovermode": "closest",
          "mapbox": {
           "style": "light"
          },
          "paper_bgcolor": "white",
          "plot_bgcolor": "#E5ECF6",
          "polar": {
           "angularaxis": {
            "gridcolor": "white",
            "linecolor": "white",
            "ticks": ""
           },
           "bgcolor": "#E5ECF6",
           "radialaxis": {
            "gridcolor": "white",
            "linecolor": "white",
            "ticks": ""
           }
          },
          "scene": {
           "xaxis": {
            "backgroundcolor": "#E5ECF6",
            "gridcolor": "white",
            "gridwidth": 2,
            "linecolor": "white",
            "showbackground": true,
            "ticks": "",
            "zerolinecolor": "white"
           },
           "yaxis": {
            "backgroundcolor": "#E5ECF6",
            "gridcolor": "white",
            "gridwidth": 2,
            "linecolor": "white",
            "showbackground": true,
            "ticks": "",
            "zerolinecolor": "white"
           },
           "zaxis": {
            "backgroundcolor": "#E5ECF6",
            "gridcolor": "white",
            "gridwidth": 2,
            "linecolor": "white",
            "showbackground": true,
            "ticks": "",
            "zerolinecolor": "white"
           }
          },
          "shapedefaults": {
           "line": {
            "color": "#2a3f5f"
           }
          },
          "ternary": {
           "aaxis": {
            "gridcolor": "white",
            "linecolor": "white",
            "ticks": ""
           },
           "baxis": {
            "gridcolor": "white",
            "linecolor": "white",
            "ticks": ""
           },
           "bgcolor": "#E5ECF6",
           "caxis": {
            "gridcolor": "white",
            "linecolor": "white",
            "ticks": ""
           }
          },
          "title": {
           "x": 0.05
          },
          "xaxis": {
           "automargin": true,
           "gridcolor": "white",
           "linecolor": "white",
           "ticks": "",
           "title": {
            "standoff": 15
           },
           "zerolinecolor": "white",
           "zerolinewidth": 2
          },
          "yaxis": {
           "automargin": true,
           "gridcolor": "white",
           "linecolor": "white",
           "ticks": "",
           "title": {
            "standoff": 15
           },
           "zerolinecolor": "white",
           "zerolinewidth": 2
          }
         }
        },
        "title": {
         "text": "Histogram of Impact Energies"
        },
        "xaxis": {
         "anchor": "y",
         "domain": [
          0,
          1
         ],
         "title": {
          "text": "Impact Energy (log(kt))"
         }
        },
        "yaxis": {
         "anchor": "x",
         "domain": [
          0,
          1
         ],
         "title": {
          "text": "count"
         }
        }
       }
      }
     },
     "metadata": {},
     "output_type": "display_data"
    }
   ],
   "source": [
    "plt.histogram(fireballs, \"logE\", title=\"Histogram of Impact Energies\") \\\n",
    "    .update_layout(xaxis_title=\"Impact Energy (log(kt))\") \\\n",
    "    .show()"
   ]
  },
  {
   "cell_type": "code",
   "execution_count": 24,
   "id": "a092e2f3",
   "metadata": {},
   "outputs": [
    {
     "data": {
      "application/vnd.plotly.v1+json": {
       "config": {
        "plotlyServerURL": "https://plot.ly"
       },
       "data": [
        {
         "hovertemplate": "quarter=%{x}<br>logE=%{y}<extra></extra>",
         "legendgroup": "",
         "line": {
          "color": "#636efa",
          "dash": "solid",
          "width": 1
         },
         "marker": {
          "size": 4,
          "symbol": 1
         },
         "mode": "lines+markers",
         "name": "",
         "orientation": "v",
         "showlegend": false,
         "type": "scatter",
         "x": [
          "1988-04-01T00:00:00.000000",
          "1990-10-01T00:00:00.000000",
          "1991-10-01T00:00:00.000000",
          "1993-10-01T00:00:00.000000",
          "1994-01-01T00:00:00.000000",
          "1994-04-01T00:00:00.000000",
          "1994-07-01T00:00:00.000000",
          "1994-10-01T00:00:00.000000",
          "1995-01-01T00:00:00.000000",
          "1995-04-01T00:00:00.000000",
          "1995-07-01T00:00:00.000000",
          "1995-10-01T00:00:00.000000",
          "1996-01-01T00:00:00.000000",
          "1996-04-01T00:00:00.000000",
          "1996-07-01T00:00:00.000000",
          "1996-10-01T00:00:00.000000",
          "1997-01-01T00:00:00.000000",
          "1997-04-01T00:00:00.000000",
          "1997-07-01T00:00:00.000000",
          "1997-10-01T00:00:00.000000",
          "1998-01-01T00:00:00.000000",
          "1998-07-01T00:00:00.000000",
          "1998-10-01T00:00:00.000000",
          "1999-01-01T00:00:00.000000",
          "1999-04-01T00:00:00.000000",
          "1999-07-01T00:00:00.000000",
          "1999-10-01T00:00:00.000000",
          "2000-01-01T00:00:00.000000",
          "2000-04-01T00:00:00.000000",
          "2000-07-01T00:00:00.000000",
          "2000-10-01T00:00:00.000000",
          "2001-01-01T00:00:00.000000",
          "2001-04-01T00:00:00.000000",
          "2001-07-01T00:00:00.000000",
          "2001-10-01T00:00:00.000000",
          "2002-01-01T00:00:00.000000",
          "2002-04-01T00:00:00.000000",
          "2002-07-01T00:00:00.000000",
          "2002-10-01T00:00:00.000000",
          "2003-01-01T00:00:00.000000",
          "2003-04-01T00:00:00.000000",
          "2003-07-01T00:00:00.000000",
          "2003-10-01T00:00:00.000000",
          "2004-01-01T00:00:00.000000",
          "2004-04-01T00:00:00.000000",
          "2004-07-01T00:00:00.000000",
          "2004-10-01T00:00:00.000000",
          "2005-01-01T00:00:00.000000",
          "2005-04-01T00:00:00.000000",
          "2005-07-01T00:00:00.000000",
          "2005-10-01T00:00:00.000000",
          "2006-01-01T00:00:00.000000",
          "2006-04-01T00:00:00.000000",
          "2006-07-01T00:00:00.000000",
          "2006-10-01T00:00:00.000000",
          "2007-01-01T00:00:00.000000",
          "2007-04-01T00:00:00.000000",
          "2007-07-01T00:00:00.000000",
          "2007-10-01T00:00:00.000000",
          "2008-01-01T00:00:00.000000",
          "2008-04-01T00:00:00.000000",
          "2008-07-01T00:00:00.000000",
          "2008-10-01T00:00:00.000000",
          "2009-01-01T00:00:00.000000",
          "2009-04-01T00:00:00.000000",
          "2009-07-01T00:00:00.000000",
          "2009-10-01T00:00:00.000000",
          "2010-01-01T00:00:00.000000",
          "2010-04-01T00:00:00.000000",
          "2010-07-01T00:00:00.000000",
          "2010-10-01T00:00:00.000000",
          "2011-01-01T00:00:00.000000",
          "2011-04-01T00:00:00.000000",
          "2011-07-01T00:00:00.000000",
          "2011-10-01T00:00:00.000000",
          "2012-01-01T00:00:00.000000",
          "2012-04-01T00:00:00.000000",
          "2012-07-01T00:00:00.000000",
          "2012-10-01T00:00:00.000000",
          "2013-01-01T00:00:00.000000",
          "2013-04-01T00:00:00.000000",
          "2013-07-01T00:00:00.000000",
          "2013-10-01T00:00:00.000000",
          "2014-01-01T00:00:00.000000",
          "2014-04-01T00:00:00.000000",
          "2014-07-01T00:00:00.000000",
          "2014-10-01T00:00:00.000000",
          "2015-01-01T00:00:00.000000",
          "2015-04-01T00:00:00.000000",
          "2015-07-01T00:00:00.000000",
          "2015-10-01T00:00:00.000000",
          "2016-01-01T00:00:00.000000",
          "2016-04-01T00:00:00.000000",
          "2016-07-01T00:00:00.000000",
          "2016-10-01T00:00:00.000000",
          "2017-01-01T00:00:00.000000",
          "2017-04-01T00:00:00.000000",
          "2017-07-01T00:00:00.000000",
          "2017-10-01T00:00:00.000000",
          "2018-01-01T00:00:00.000000",
          "2018-04-01T00:00:00.000000",
          "2018-07-01T00:00:00.000000",
          "2018-10-01T00:00:00.000000",
          "2019-01-01T00:00:00.000000",
          "2019-04-01T00:00:00.000000",
          "2019-07-01T00:00:00.000000",
          "2019-10-01T00:00:00.000000",
          "2020-01-01T00:00:00.000000",
          "2020-04-01T00:00:00.000000",
          "2020-07-01T00:00:00.000000",
          "2020-10-01T00:00:00.000000",
          "2021-01-01T00:00:00.000000",
          "2021-04-01T00:00:00.000000",
          "2021-07-01T00:00:00.000000",
          "2021-10-01T00:00:00.000000",
          "2022-01-01T00:00:00.000000",
          "2022-04-01T00:00:00.000000",
          "2022-07-01T00:00:00.000000",
          "2022-10-01T00:00:00.000000",
          "2023-01-01T00:00:00.000000",
          "2023-04-01T00:00:00.000000",
          "2023-07-01T00:00:00.000000",
          "2023-10-01T00:00:00.000000",
          "2024-01-01T00:00:00.000000",
          "2024-04-01T00:00:00.000000",
          "2024-07-01T00:00:00.000000",
          "2024-10-01T00:00:00.000000",
          "2025-01-01T00:00:00.000000",
          "2025-04-01T00:00:00.000000",
          "2025-07-01T00:00:00.000000"
         ],
         "xaxis": "x",
         "y": {
          "bdata": "p7vXFsocBUBmqPLd52D6P480E9nCiNU/2h05TF9SAMCb1gv5pjULQNy54XuTytA/0+VmHyUp6L8zje33QcD5P8fIWQDeOfi/VOnCA1taA8DcueF7k8rQP8xGPHk/Zrg/yuQHeVzr1b+uC5e6TPYAwIqQLgqNot+/zG2Yr7Gu2L91luQRUFbHP+P5chkqTsO/AbYhPexQ5L9beD0pEYrkP3b3b8f4h+y/C6KdxnL27r/PJicaihTeP76TO7JRQgJAt4m/JOrQ7791qV8w/pOyv5CfiktORdO/bhUeVVXO/z8BtiE97FDkv4mstxk5GvI/yuQHeVzr1b+fV7kBeUXqvwsDrXrqkwFAG+rBNVJ58D9+Ek7KpdnHv8xtmK+xrti/qo0FO+RlAUB3x0ByThrzP3WW5BFQVsc/FrHSD3sh47/cueF7k8rQP6zatQO6avg/zyYnGooU3j8hmprH94/cv4FxpVmPxvU/UYwxKwSFBECGkWs6ex8HQHWW5BFQVsc/IZqax/eP3L/vOfr+Qi72vwG2IT3sUOS/6r048bfI7z8zje33QcD5PxvqwTVSefA/p7vXFsocBUCPNBPZwojVPwAAAAAAAAAAAroSgvKR27934ODwQFLtv7TiKQUVvfG/Tz/hJMPT5r8Lop3GcvbuvwAAAAAAAAAAYD21LlEL9D840EaPX5DRv2l7cQgxp+o/0bjV9Nj4C0B1luQRUFbHP8nCIe4KO+k/p7vXFsocBUDaQhVWUC0CQHbsMfPKg/e/hAr65IFt+T+i/bJdKr3yv2j4VoXNAeu/8RazFs6X2r8hmprH94/cv6+lE+KBv9e/3Lnhe5PK0D+xrm+ULlsYQL6TO7JRQgJAAAAAAAAAAABgPbUuUQv0P0yYv+wj89k/jF9zA9cD7D8Oe8zJpTkAQJGpFBno+uA/AbYhPexQ5L8AAAAAAAAAAIFxpVmPxvU/8RazFs6X2r9RjDErBIUEQI80E9nCiNU/FrHSD3sh47934ODwQFLtvxJSMSAOCfE/dZbkEVBWxz927DHzyoP3v9ENqlfviABAyRX+o74kuL8b6sE1UnnwP1t4PSkRiuQ/V1oyrnIiD0D3Lb+0fFb3PwIgKvoLq/w/r6UT4oG/17/m1T3Q4Pzhv/er4LwEsJS/d+Dg8EBS7b82S85+B/P0v32e07wW4QNAkts0EWJp0r+JA/Ay9+zkv8Tx2Polz+I//e3L4lqS+r9XWjKuciL/P7TiKQUVvfG/xPHY+iXP4j8zje33QcD5v8xGPHk/Zrg/+bAoWYxc/z8l2RsUKlz1P47dQPKUzc+/eODg8EBS/b91luQRUFbHP9NXN4deEfo/wHEHjJWU8z+MX3MD1wPsPwAAAAAAAAAA33Lrv3+oAcA=",
          "dtype": "f8"
         },
         "yaxis": "y"
        }
       ],
       "layout": {
        "legend": {
         "tracegroupgap": 0
        },
        "template": {
         "data": {
          "bar": [
           {
            "error_x": {
             "color": "#2a3f5f"
            },
            "error_y": {
             "color": "#2a3f5f"
            },
            "marker": {
             "line": {
              "color": "#E5ECF6",
              "width": 0.5
             },
             "pattern": {
              "fillmode": "overlay",
              "size": 10,
              "solidity": 0.2
             }
            },
            "type": "bar"
           }
          ],
          "barpolar": [
           {
            "marker": {
             "line": {
              "color": "#E5ECF6",
              "width": 0.5
             },
             "pattern": {
              "fillmode": "overlay",
              "size": 10,
              "solidity": 0.2
             }
            },
            "type": "barpolar"
           }
          ],
          "carpet": [
           {
            "aaxis": {
             "endlinecolor": "#2a3f5f",
             "gridcolor": "white",
             "linecolor": "white",
             "minorgridcolor": "white",
             "startlinecolor": "#2a3f5f"
            },
            "baxis": {
             "endlinecolor": "#2a3f5f",
             "gridcolor": "white",
             "linecolor": "white",
             "minorgridcolor": "white",
             "startlinecolor": "#2a3f5f"
            },
            "type": "carpet"
           }
          ],
          "choropleth": [
           {
            "colorbar": {
             "outlinewidth": 0,
             "ticks": ""
            },
            "type": "choropleth"
           }
          ],
          "contour": [
           {
            "colorbar": {
             "outlinewidth": 0,
             "ticks": ""
            },
            "colorscale": [
             [
              0,
              "#0d0887"
             ],
             [
              0.1111111111111111,
              "#46039f"
             ],
             [
              0.2222222222222222,
              "#7201a8"
             ],
             [
              0.3333333333333333,
              "#9c179e"
             ],
             [
              0.4444444444444444,
              "#bd3786"
             ],
             [
              0.5555555555555556,
              "#d8576b"
             ],
             [
              0.6666666666666666,
              "#ed7953"
             ],
             [
              0.7777777777777778,
              "#fb9f3a"
             ],
             [
              0.8888888888888888,
              "#fdca26"
             ],
             [
              1,
              "#f0f921"
             ]
            ],
            "type": "contour"
           }
          ],
          "contourcarpet": [
           {
            "colorbar": {
             "outlinewidth": 0,
             "ticks": ""
            },
            "type": "contourcarpet"
           }
          ],
          "heatmap": [
           {
            "colorbar": {
             "outlinewidth": 0,
             "ticks": ""
            },
            "colorscale": [
             [
              0,
              "#0d0887"
             ],
             [
              0.1111111111111111,
              "#46039f"
             ],
             [
              0.2222222222222222,
              "#7201a8"
             ],
             [
              0.3333333333333333,
              "#9c179e"
             ],
             [
              0.4444444444444444,
              "#bd3786"
             ],
             [
              0.5555555555555556,
              "#d8576b"
             ],
             [
              0.6666666666666666,
              "#ed7953"
             ],
             [
              0.7777777777777778,
              "#fb9f3a"
             ],
             [
              0.8888888888888888,
              "#fdca26"
             ],
             [
              1,
              "#f0f921"
             ]
            ],
            "type": "heatmap"
           }
          ],
          "histogram": [
           {
            "marker": {
             "pattern": {
              "fillmode": "overlay",
              "size": 10,
              "solidity": 0.2
             }
            },
            "type": "histogram"
           }
          ],
          "histogram2d": [
           {
            "colorbar": {
             "outlinewidth": 0,
             "ticks": ""
            },
            "colorscale": [
             [
              0,
              "#0d0887"
             ],
             [
              0.1111111111111111,
              "#46039f"
             ],
             [
              0.2222222222222222,
              "#7201a8"
             ],
             [
              0.3333333333333333,
              "#9c179e"
             ],
             [
              0.4444444444444444,
              "#bd3786"
             ],
             [
              0.5555555555555556,
              "#d8576b"
             ],
             [
              0.6666666666666666,
              "#ed7953"
             ],
             [
              0.7777777777777778,
              "#fb9f3a"
             ],
             [
              0.8888888888888888,
              "#fdca26"
             ],
             [
              1,
              "#f0f921"
             ]
            ],
            "type": "histogram2d"
           }
          ],
          "histogram2dcontour": [
           {
            "colorbar": {
             "outlinewidth": 0,
             "ticks": ""
            },
            "colorscale": [
             [
              0,
              "#0d0887"
             ],
             [
              0.1111111111111111,
              "#46039f"
             ],
             [
              0.2222222222222222,
              "#7201a8"
             ],
             [
              0.3333333333333333,
              "#9c179e"
             ],
             [
              0.4444444444444444,
              "#bd3786"
             ],
             [
              0.5555555555555556,
              "#d8576b"
             ],
             [
              0.6666666666666666,
              "#ed7953"
             ],
             [
              0.7777777777777778,
              "#fb9f3a"
             ],
             [
              0.8888888888888888,
              "#fdca26"
             ],
             [
              1,
              "#f0f921"
             ]
            ],
            "type": "histogram2dcontour"
           }
          ],
          "mesh3d": [
           {
            "colorbar": {
             "outlinewidth": 0,
             "ticks": ""
            },
            "type": "mesh3d"
           }
          ],
          "parcoords": [
           {
            "line": {
             "colorbar": {
              "outlinewidth": 0,
              "ticks": ""
             }
            },
            "type": "parcoords"
           }
          ],
          "pie": [
           {
            "automargin": true,
            "type": "pie"
           }
          ],
          "scatter": [
           {
            "fillpattern": {
             "fillmode": "overlay",
             "size": 10,
             "solidity": 0.2
            },
            "type": "scatter"
           }
          ],
          "scatter3d": [
           {
            "line": {
             "colorbar": {
              "outlinewidth": 0,
              "ticks": ""
             }
            },
            "marker": {
             "colorbar": {
              "outlinewidth": 0,
              "ticks": ""
             }
            },
            "type": "scatter3d"
           }
          ],
          "scattercarpet": [
           {
            "marker": {
             "colorbar": {
              "outlinewidth": 0,
              "ticks": ""
             }
            },
            "type": "scattercarpet"
           }
          ],
          "scattergeo": [
           {
            "marker": {
             "colorbar": {
              "outlinewidth": 0,
              "ticks": ""
             }
            },
            "type": "scattergeo"
           }
          ],
          "scattergl": [
           {
            "marker": {
             "colorbar": {
              "outlinewidth": 0,
              "ticks": ""
             }
            },
            "type": "scattergl"
           }
          ],
          "scattermap": [
           {
            "marker": {
             "colorbar": {
              "outlinewidth": 0,
              "ticks": ""
             }
            },
            "type": "scattermap"
           }
          ],
          "scattermapbox": [
           {
            "marker": {
             "colorbar": {
              "outlinewidth": 0,
              "ticks": ""
             }
            },
            "type": "scattermapbox"
           }
          ],
          "scatterpolar": [
           {
            "marker": {
             "colorbar": {
              "outlinewidth": 0,
              "ticks": ""
             }
            },
            "type": "scatterpolar"
           }
          ],
          "scatterpolargl": [
           {
            "marker": {
             "colorbar": {
              "outlinewidth": 0,
              "ticks": ""
             }
            },
            "type": "scatterpolargl"
           }
          ],
          "scatterternary": [
           {
            "marker": {
             "colorbar": {
              "outlinewidth": 0,
              "ticks": ""
             }
            },
            "type": "scatterternary"
           }
          ],
          "surface": [
           {
            "colorbar": {
             "outlinewidth": 0,
             "ticks": ""
            },
            "colorscale": [
             [
              0,
              "#0d0887"
             ],
             [
              0.1111111111111111,
              "#46039f"
             ],
             [
              0.2222222222222222,
              "#7201a8"
             ],
             [
              0.3333333333333333,
              "#9c179e"
             ],
             [
              0.4444444444444444,
              "#bd3786"
             ],
             [
              0.5555555555555556,
              "#d8576b"
             ],
             [
              0.6666666666666666,
              "#ed7953"
             ],
             [
              0.7777777777777778,
              "#fb9f3a"
             ],
             [
              0.8888888888888888,
              "#fdca26"
             ],
             [
              1,
              "#f0f921"
             ]
            ],
            "type": "surface"
           }
          ],
          "table": [
           {
            "cells": {
             "fill": {
              "color": "#EBF0F8"
             },
             "line": {
              "color": "white"
             }
            },
            "header": {
             "fill": {
              "color": "#C8D4E3"
             },
             "line": {
              "color": "white"
             }
            },
            "type": "table"
           }
          ]
         },
         "layout": {
          "annotationdefaults": {
           "arrowcolor": "#2a3f5f",
           "arrowhead": 0,
           "arrowwidth": 1
          },
          "autotypenumbers": "strict",
          "coloraxis": {
           "colorbar": {
            "outlinewidth": 0,
            "ticks": ""
           }
          },
          "colorscale": {
           "diverging": [
            [
             0,
             "#8e0152"
            ],
            [
             0.1,
             "#c51b7d"
            ],
            [
             0.2,
             "#de77ae"
            ],
            [
             0.3,
             "#f1b6da"
            ],
            [
             0.4,
             "#fde0ef"
            ],
            [
             0.5,
             "#f7f7f7"
            ],
            [
             0.6,
             "#e6f5d0"
            ],
            [
             0.7,
             "#b8e186"
            ],
            [
             0.8,
             "#7fbc41"
            ],
            [
             0.9,
             "#4d9221"
            ],
            [
             1,
             "#276419"
            ]
           ],
           "sequential": [
            [
             0,
             "#0d0887"
            ],
            [
             0.1111111111111111,
             "#46039f"
            ],
            [
             0.2222222222222222,
             "#7201a8"
            ],
            [
             0.3333333333333333,
             "#9c179e"
            ],
            [
             0.4444444444444444,
             "#bd3786"
            ],
            [
             0.5555555555555556,
             "#d8576b"
            ],
            [
             0.6666666666666666,
             "#ed7953"
            ],
            [
             0.7777777777777778,
             "#fb9f3a"
            ],
            [
             0.8888888888888888,
             "#fdca26"
            ],
            [
             1,
             "#f0f921"
            ]
           ],
           "sequentialminus": [
            [
             0,
             "#0d0887"
            ],
            [
             0.1111111111111111,
             "#46039f"
            ],
            [
             0.2222222222222222,
             "#7201a8"
            ],
            [
             0.3333333333333333,
             "#9c179e"
            ],
            [
             0.4444444444444444,
             "#bd3786"
            ],
            [
             0.5555555555555556,
             "#d8576b"
            ],
            [
             0.6666666666666666,
             "#ed7953"
            ],
            [
             0.7777777777777778,
             "#fb9f3a"
            ],
            [
             0.8888888888888888,
             "#fdca26"
            ],
            [
             1,
             "#f0f921"
            ]
           ]
          },
          "colorway": [
           "#636efa",
           "#EF553B",
           "#00cc96",
           "#ab63fa",
           "#FFA15A",
           "#19d3f3",
           "#FF6692",
           "#B6E880",
           "#FF97FF",
           "#FECB52"
          ],
          "font": {
           "color": "#2a3f5f"
          },
          "geo": {
           "bgcolor": "white",
           "lakecolor": "white",
           "landcolor": "#E5ECF6",
           "showlakes": true,
           "showland": true,
           "subunitcolor": "white"
          },
          "hoverlabel": {
           "align": "left"
          },
          "hovermode": "closest",
          "mapbox": {
           "style": "light"
          },
          "paper_bgcolor": "white",
          "plot_bgcolor": "#E5ECF6",
          "polar": {
           "angularaxis": {
            "gridcolor": "white",
            "linecolor": "white",
            "ticks": ""
           },
           "bgcolor": "#E5ECF6",
           "radialaxis": {
            "gridcolor": "white",
            "linecolor": "white",
            "ticks": ""
           }
          },
          "scene": {
           "xaxis": {
            "backgroundcolor": "#E5ECF6",
            "gridcolor": "white",
            "gridwidth": 2,
            "linecolor": "white",
            "showbackground": true,
            "ticks": "",
            "zerolinecolor": "white"
           },
           "yaxis": {
            "backgroundcolor": "#E5ECF6",
            "gridcolor": "white",
            "gridwidth": 2,
            "linecolor": "white",
            "showbackground": true,
            "ticks": "",
            "zerolinecolor": "white"
           },
           "zaxis": {
            "backgroundcolor": "#E5ECF6",
            "gridcolor": "white",
            "gridwidth": 2,
            "linecolor": "white",
            "showbackground": true,
            "ticks": "",
            "zerolinecolor": "white"
           }
          },
          "shapedefaults": {
           "line": {
            "color": "#2a3f5f"
           }
          },
          "ternary": {
           "aaxis": {
            "gridcolor": "white",
            "linecolor": "white",
            "ticks": ""
           },
           "baxis": {
            "gridcolor": "white",
            "linecolor": "white",
            "ticks": ""
           },
           "bgcolor": "#E5ECF6",
           "caxis": {
            "gridcolor": "white",
            "linecolor": "white",
            "ticks": ""
           }
          },
          "title": {
           "x": 0.05
          },
          "xaxis": {
           "automargin": true,
           "gridcolor": "white",
           "linecolor": "white",
           "ticks": "",
           "title": {
            "standoff": 15
           },
           "zerolinecolor": "white",
           "zerolinewidth": 2
          },
          "yaxis": {
           "automargin": true,
           "gridcolor": "white",
           "linecolor": "white",
           "ticks": "",
           "title": {
            "standoff": 15
           },
           "zerolinecolor": "white",
           "zerolinewidth": 2
          }
         }
        },
        "title": {
         "subtitle": {
          "text": "N = 130"
         },
         "text": "Quarterly Maxima of Impact Energies"
        },
        "xaxis": {
         "anchor": "y",
         "domain": [
          0,
          1
         ],
         "title": {
          "text": "Quarter"
         }
        },
        "yaxis": {
         "anchor": "x",
         "domain": [
          0,
          1
         ],
         "title": {
          "text": "Max Impact Energy (log(kt))"
         }
        }
       }
      }
     },
     "metadata": {},
     "output_type": "display_data"
    }
   ],
   "source": [
    "fireballs_quarterly = (\n",
    "    fireballs.group_by_dynamic(\"time\", every=\"1q\")\n",
    "    .agg(pl.max(\"logE\"), pl.len().alias(\"count\"))\n",
    "    .rename({\"time\": \"quarter\"})\n",
    ")\n",
    "\n",
    "(    \n",
    "    plt.line(\n",
    "        fireballs_quarterly,\n",
    "        \"quarter\",\n",
    "        \"logE\",\n",
    "        markers=True,\n",
    "        title=\"Quarterly Maxima of Impact Energies\",\n",
    "        subtitle=f\"N = {len(fireballs_quarterly)}\",\n",
    "    )\n",
    "    .update_traces(marker_symbol=1, marker_size=4, line_width=1)\n",
    "    .update_layout(yaxis_title=\"Max Impact Energy (log(kt))\", xaxis_title=\"Quarter\")\n",
    "    .show()\n",
    ")"
   ]
  },
  {
   "cell_type": "code",
   "execution_count": 21,
   "id": "b030b88a",
   "metadata": {},
   "outputs": [
    {
     "data": {
      "application/vnd.plotly.v1+json": {
       "config": {
        "plotlyServerURL": "https://plot.ly"
       },
       "data": [
        {
         "hovertemplate": "quarter=%{x}<br>count=%{y}<extra></extra>",
         "legendgroup": "",
         "marker": {
          "color": "#636efa",
          "pattern": {
           "shape": ""
          }
         },
         "name": "",
         "orientation": "v",
         "showlegend": false,
         "textposition": "auto",
         "type": "bar",
         "x": [
          "1988-04-01T00:00:00.000000",
          "1990-10-01T00:00:00.000000",
          "1991-10-01T00:00:00.000000",
          "1993-10-01T00:00:00.000000",
          "1994-01-01T00:00:00.000000",
          "1994-04-01T00:00:00.000000",
          "1994-07-01T00:00:00.000000",
          "1994-10-01T00:00:00.000000",
          "1995-01-01T00:00:00.000000",
          "1995-04-01T00:00:00.000000",
          "1995-07-01T00:00:00.000000",
          "1995-10-01T00:00:00.000000",
          "1996-01-01T00:00:00.000000",
          "1996-04-01T00:00:00.000000",
          "1996-07-01T00:00:00.000000",
          "1996-10-01T00:00:00.000000",
          "1997-01-01T00:00:00.000000",
          "1997-04-01T00:00:00.000000",
          "1997-07-01T00:00:00.000000",
          "1997-10-01T00:00:00.000000",
          "1998-01-01T00:00:00.000000",
          "1998-07-01T00:00:00.000000",
          "1998-10-01T00:00:00.000000",
          "1999-01-01T00:00:00.000000",
          "1999-04-01T00:00:00.000000",
          "1999-07-01T00:00:00.000000",
          "1999-10-01T00:00:00.000000",
          "2000-01-01T00:00:00.000000",
          "2000-04-01T00:00:00.000000",
          "2000-07-01T00:00:00.000000",
          "2000-10-01T00:00:00.000000",
          "2001-01-01T00:00:00.000000",
          "2001-04-01T00:00:00.000000",
          "2001-07-01T00:00:00.000000",
          "2001-10-01T00:00:00.000000",
          "2002-01-01T00:00:00.000000",
          "2002-04-01T00:00:00.000000",
          "2002-07-01T00:00:00.000000",
          "2002-10-01T00:00:00.000000",
          "2003-01-01T00:00:00.000000",
          "2003-04-01T00:00:00.000000",
          "2003-07-01T00:00:00.000000",
          "2003-10-01T00:00:00.000000",
          "2004-01-01T00:00:00.000000",
          "2004-04-01T00:00:00.000000",
          "2004-07-01T00:00:00.000000",
          "2004-10-01T00:00:00.000000",
          "2005-01-01T00:00:00.000000",
          "2005-04-01T00:00:00.000000",
          "2005-07-01T00:00:00.000000",
          "2005-10-01T00:00:00.000000",
          "2006-01-01T00:00:00.000000",
          "2006-04-01T00:00:00.000000",
          "2006-07-01T00:00:00.000000",
          "2006-10-01T00:00:00.000000",
          "2007-01-01T00:00:00.000000",
          "2007-04-01T00:00:00.000000",
          "2007-07-01T00:00:00.000000",
          "2007-10-01T00:00:00.000000",
          "2008-01-01T00:00:00.000000",
          "2008-04-01T00:00:00.000000",
          "2008-07-01T00:00:00.000000",
          "2008-10-01T00:00:00.000000",
          "2009-01-01T00:00:00.000000",
          "2009-04-01T00:00:00.000000",
          "2009-07-01T00:00:00.000000",
          "2009-10-01T00:00:00.000000",
          "2010-01-01T00:00:00.000000",
          "2010-04-01T00:00:00.000000",
          "2010-07-01T00:00:00.000000",
          "2010-10-01T00:00:00.000000",
          "2011-01-01T00:00:00.000000",
          "2011-04-01T00:00:00.000000",
          "2011-07-01T00:00:00.000000",
          "2011-10-01T00:00:00.000000",
          "2012-01-01T00:00:00.000000",
          "2012-04-01T00:00:00.000000",
          "2012-07-01T00:00:00.000000",
          "2012-10-01T00:00:00.000000",
          "2013-01-01T00:00:00.000000",
          "2013-04-01T00:00:00.000000",
          "2013-07-01T00:00:00.000000",
          "2013-10-01T00:00:00.000000",
          "2014-01-01T00:00:00.000000",
          "2014-04-01T00:00:00.000000",
          "2014-07-01T00:00:00.000000",
          "2014-10-01T00:00:00.000000",
          "2015-01-01T00:00:00.000000",
          "2015-04-01T00:00:00.000000",
          "2015-07-01T00:00:00.000000",
          "2015-10-01T00:00:00.000000",
          "2016-01-01T00:00:00.000000",
          "2016-04-01T00:00:00.000000",
          "2016-07-01T00:00:00.000000",
          "2016-10-01T00:00:00.000000",
          "2017-01-01T00:00:00.000000",
          "2017-04-01T00:00:00.000000",
          "2017-07-01T00:00:00.000000",
          "2017-10-01T00:00:00.000000",
          "2018-01-01T00:00:00.000000",
          "2018-04-01T00:00:00.000000",
          "2018-07-01T00:00:00.000000",
          "2018-10-01T00:00:00.000000",
          "2019-01-01T00:00:00.000000",
          "2019-04-01T00:00:00.000000",
          "2019-07-01T00:00:00.000000",
          "2019-10-01T00:00:00.000000",
          "2020-01-01T00:00:00.000000",
          "2020-04-01T00:00:00.000000",
          "2020-07-01T00:00:00.000000",
          "2020-10-01T00:00:00.000000",
          "2021-01-01T00:00:00.000000",
          "2021-04-01T00:00:00.000000",
          "2021-07-01T00:00:00.000000",
          "2021-10-01T00:00:00.000000",
          "2022-01-01T00:00:00.000000",
          "2022-04-01T00:00:00.000000",
          "2022-07-01T00:00:00.000000",
          "2022-10-01T00:00:00.000000",
          "2023-01-01T00:00:00.000000",
          "2023-04-01T00:00:00.000000",
          "2023-07-01T00:00:00.000000",
          "2023-10-01T00:00:00.000000",
          "2024-01-01T00:00:00.000000",
          "2024-04-01T00:00:00.000000",
          "2024-07-01T00:00:00.000000",
          "2024-10-01T00:00:00.000000",
          "2025-01-01T00:00:00.000000",
          "2025-04-01T00:00:00.000000",
          "2025-07-01T00:00:00.000000"
         ],
         "xaxis": "x",
         "y": {
          "bdata": "AQAAAAEAAAABAAAAAgAAAAEAAAADAAAAAgAAAAcAAAAFAAAAAgAAAAgAAAAGAAAACQAAAAMAAAAJAAAADAAAAAgAAAACAAAABgAAAAUAAAAEAAAABQAAAAQAAAAKAAAABAAAAAcAAAAJAAAABwAAAA4AAAALAAAABgAAAAMAAAAFAAAABQAAAAkAAAALAAAABwAAAAYAAAAGAAAACAAAAAwAAAAKAAAABwAAAAgAAAANAAAACQAAAAkAAAALAAAAEQAAAAYAAAALAAAACQAAAAgAAAALAAAACQAAAAkAAAAJAAAAAQAAAAUAAAAIAAAACgAAAAkAAAAKAAAABwAAAAoAAAAHAAAACwAAAAkAAAAGAAAACgAAAAsAAAAIAAAACQAAAAsAAAAFAAAACgAAAAkAAAAJAAAACQAAAAYAAAAFAAAACQAAAAUAAAAJAAAABgAAAAcAAAAMAAAADAAAAA0AAAAJAAAACwAAAAkAAAALAAAABwAAAAYAAAAIAAAABwAAAAQAAAALAAAACQAAAAsAAAAKAAAACQAAAAcAAAAPAAAACgAAAAoAAAAOAAAACAAAAAYAAAANAAAACQAAAAYAAAAGAAAACwAAAA8AAAAIAAAADAAAAAcAAAALAAAACAAAAAgAAAAJAAAAAwAAAAsAAAAKAAAACAAAAA4AAAAHAAAAAQAAAA==",
          "dtype": "u4"
         },
         "yaxis": "y"
        }
       ],
       "layout": {
        "barmode": "relative",
        "legend": {
         "tracegroupgap": 0
        },
        "template": {
         "data": {
          "bar": [
           {
            "error_x": {
             "color": "#2a3f5f"
            },
            "error_y": {
             "color": "#2a3f5f"
            },
            "marker": {
             "line": {
              "color": "#E5ECF6",
              "width": 0.5
             },
             "pattern": {
              "fillmode": "overlay",
              "size": 10,
              "solidity": 0.2
             }
            },
            "type": "bar"
           }
          ],
          "barpolar": [
           {
            "marker": {
             "line": {
              "color": "#E5ECF6",
              "width": 0.5
             },
             "pattern": {
              "fillmode": "overlay",
              "size": 10,
              "solidity": 0.2
             }
            },
            "type": "barpolar"
           }
          ],
          "carpet": [
           {
            "aaxis": {
             "endlinecolor": "#2a3f5f",
             "gridcolor": "white",
             "linecolor": "white",
             "minorgridcolor": "white",
             "startlinecolor": "#2a3f5f"
            },
            "baxis": {
             "endlinecolor": "#2a3f5f",
             "gridcolor": "white",
             "linecolor": "white",
             "minorgridcolor": "white",
             "startlinecolor": "#2a3f5f"
            },
            "type": "carpet"
           }
          ],
          "choropleth": [
           {
            "colorbar": {
             "outlinewidth": 0,
             "ticks": ""
            },
            "type": "choropleth"
           }
          ],
          "contour": [
           {
            "colorbar": {
             "outlinewidth": 0,
             "ticks": ""
            },
            "colorscale": [
             [
              0,
              "#0d0887"
             ],
             [
              0.1111111111111111,
              "#46039f"
             ],
             [
              0.2222222222222222,
              "#7201a8"
             ],
             [
              0.3333333333333333,
              "#9c179e"
             ],
             [
              0.4444444444444444,
              "#bd3786"
             ],
             [
              0.5555555555555556,
              "#d8576b"
             ],
             [
              0.6666666666666666,
              "#ed7953"
             ],
             [
              0.7777777777777778,
              "#fb9f3a"
             ],
             [
              0.8888888888888888,
              "#fdca26"
             ],
             [
              1,
              "#f0f921"
             ]
            ],
            "type": "contour"
           }
          ],
          "contourcarpet": [
           {
            "colorbar": {
             "outlinewidth": 0,
             "ticks": ""
            },
            "type": "contourcarpet"
           }
          ],
          "heatmap": [
           {
            "colorbar": {
             "outlinewidth": 0,
             "ticks": ""
            },
            "colorscale": [
             [
              0,
              "#0d0887"
             ],
             [
              0.1111111111111111,
              "#46039f"
             ],
             [
              0.2222222222222222,
              "#7201a8"
             ],
             [
              0.3333333333333333,
              "#9c179e"
             ],
             [
              0.4444444444444444,
              "#bd3786"
             ],
             [
              0.5555555555555556,
              "#d8576b"
             ],
             [
              0.6666666666666666,
              "#ed7953"
             ],
             [
              0.7777777777777778,
              "#fb9f3a"
             ],
             [
              0.8888888888888888,
              "#fdca26"
             ],
             [
              1,
              "#f0f921"
             ]
            ],
            "type": "heatmap"
           }
          ],
          "histogram": [
           {
            "marker": {
             "pattern": {
              "fillmode": "overlay",
              "size": 10,
              "solidity": 0.2
             }
            },
            "type": "histogram"
           }
          ],
          "histogram2d": [
           {
            "colorbar": {
             "outlinewidth": 0,
             "ticks": ""
            },
            "colorscale": [
             [
              0,
              "#0d0887"
             ],
             [
              0.1111111111111111,
              "#46039f"
             ],
             [
              0.2222222222222222,
              "#7201a8"
             ],
             [
              0.3333333333333333,
              "#9c179e"
             ],
             [
              0.4444444444444444,
              "#bd3786"
             ],
             [
              0.5555555555555556,
              "#d8576b"
             ],
             [
              0.6666666666666666,
              "#ed7953"
             ],
             [
              0.7777777777777778,
              "#fb9f3a"
             ],
             [
              0.8888888888888888,
              "#fdca26"
             ],
             [
              1,
              "#f0f921"
             ]
            ],
            "type": "histogram2d"
           }
          ],
          "histogram2dcontour": [
           {
            "colorbar": {
             "outlinewidth": 0,
             "ticks": ""
            },
            "colorscale": [
             [
              0,
              "#0d0887"
             ],
             [
              0.1111111111111111,
              "#46039f"
             ],
             [
              0.2222222222222222,
              "#7201a8"
             ],
             [
              0.3333333333333333,
              "#9c179e"
             ],
             [
              0.4444444444444444,
              "#bd3786"
             ],
             [
              0.5555555555555556,
              "#d8576b"
             ],
             [
              0.6666666666666666,
              "#ed7953"
             ],
             [
              0.7777777777777778,
              "#fb9f3a"
             ],
             [
              0.8888888888888888,
              "#fdca26"
             ],
             [
              1,
              "#f0f921"
             ]
            ],
            "type": "histogram2dcontour"
           }
          ],
          "mesh3d": [
           {
            "colorbar": {
             "outlinewidth": 0,
             "ticks": ""
            },
            "type": "mesh3d"
           }
          ],
          "parcoords": [
           {
            "line": {
             "colorbar": {
              "outlinewidth": 0,
              "ticks": ""
             }
            },
            "type": "parcoords"
           }
          ],
          "pie": [
           {
            "automargin": true,
            "type": "pie"
           }
          ],
          "scatter": [
           {
            "fillpattern": {
             "fillmode": "overlay",
             "size": 10,
             "solidity": 0.2
            },
            "type": "scatter"
           }
          ],
          "scatter3d": [
           {
            "line": {
             "colorbar": {
              "outlinewidth": 0,
              "ticks": ""
             }
            },
            "marker": {
             "colorbar": {
              "outlinewidth": 0,
              "ticks": ""
             }
            },
            "type": "scatter3d"
           }
          ],
          "scattercarpet": [
           {
            "marker": {
             "colorbar": {
              "outlinewidth": 0,
              "ticks": ""
             }
            },
            "type": "scattercarpet"
           }
          ],
          "scattergeo": [
           {
            "marker": {
             "colorbar": {
              "outlinewidth": 0,
              "ticks": ""
             }
            },
            "type": "scattergeo"
           }
          ],
          "scattergl": [
           {
            "marker": {
             "colorbar": {
              "outlinewidth": 0,
              "ticks": ""
             }
            },
            "type": "scattergl"
           }
          ],
          "scattermap": [
           {
            "marker": {
             "colorbar": {
              "outlinewidth": 0,
              "ticks": ""
             }
            },
            "type": "scattermap"
           }
          ],
          "scattermapbox": [
           {
            "marker": {
             "colorbar": {
              "outlinewidth": 0,
              "ticks": ""
             }
            },
            "type": "scattermapbox"
           }
          ],
          "scatterpolar": [
           {
            "marker": {
             "colorbar": {
              "outlinewidth": 0,
              "ticks": ""
             }
            },
            "type": "scatterpolar"
           }
          ],
          "scatterpolargl": [
           {
            "marker": {
             "colorbar": {
              "outlinewidth": 0,
              "ticks": ""
             }
            },
            "type": "scatterpolargl"
           }
          ],
          "scatterternary": [
           {
            "marker": {
             "colorbar": {
              "outlinewidth": 0,
              "ticks": ""
             }
            },
            "type": "scatterternary"
           }
          ],
          "surface": [
           {
            "colorbar": {
             "outlinewidth": 0,
             "ticks": ""
            },
            "colorscale": [
             [
              0,
              "#0d0887"
             ],
             [
              0.1111111111111111,
              "#46039f"
             ],
             [
              0.2222222222222222,
              "#7201a8"
             ],
             [
              0.3333333333333333,
              "#9c179e"
             ],
             [
              0.4444444444444444,
              "#bd3786"
             ],
             [
              0.5555555555555556,
              "#d8576b"
             ],
             [
              0.6666666666666666,
              "#ed7953"
             ],
             [
              0.7777777777777778,
              "#fb9f3a"
             ],
             [
              0.8888888888888888,
              "#fdca26"
             ],
             [
              1,
              "#f0f921"
             ]
            ],
            "type": "surface"
           }
          ],
          "table": [
           {
            "cells": {
             "fill": {
              "color": "#EBF0F8"
             },
             "line": {
              "color": "white"
             }
            },
            "header": {
             "fill": {
              "color": "#C8D4E3"
             },
             "line": {
              "color": "white"
             }
            },
            "type": "table"
           }
          ]
         },
         "layout": {
          "annotationdefaults": {
           "arrowcolor": "#2a3f5f",
           "arrowhead": 0,
           "arrowwidth": 1
          },
          "autotypenumbers": "strict",
          "coloraxis": {
           "colorbar": {
            "outlinewidth": 0,
            "ticks": ""
           }
          },
          "colorscale": {
           "diverging": [
            [
             0,
             "#8e0152"
            ],
            [
             0.1,
             "#c51b7d"
            ],
            [
             0.2,
             "#de77ae"
            ],
            [
             0.3,
             "#f1b6da"
            ],
            [
             0.4,
             "#fde0ef"
            ],
            [
             0.5,
             "#f7f7f7"
            ],
            [
             0.6,
             "#e6f5d0"
            ],
            [
             0.7,
             "#b8e186"
            ],
            [
             0.8,
             "#7fbc41"
            ],
            [
             0.9,
             "#4d9221"
            ],
            [
             1,
             "#276419"
            ]
           ],
           "sequential": [
            [
             0,
             "#0d0887"
            ],
            [
             0.1111111111111111,
             "#46039f"
            ],
            [
             0.2222222222222222,
             "#7201a8"
            ],
            [
             0.3333333333333333,
             "#9c179e"
            ],
            [
             0.4444444444444444,
             "#bd3786"
            ],
            [
             0.5555555555555556,
             "#d8576b"
            ],
            [
             0.6666666666666666,
             "#ed7953"
            ],
            [
             0.7777777777777778,
             "#fb9f3a"
            ],
            [
             0.8888888888888888,
             "#fdca26"
            ],
            [
             1,
             "#f0f921"
            ]
           ],
           "sequentialminus": [
            [
             0,
             "#0d0887"
            ],
            [
             0.1111111111111111,
             "#46039f"
            ],
            [
             0.2222222222222222,
             "#7201a8"
            ],
            [
             0.3333333333333333,
             "#9c179e"
            ],
            [
             0.4444444444444444,
             "#bd3786"
            ],
            [
             0.5555555555555556,
             "#d8576b"
            ],
            [
             0.6666666666666666,
             "#ed7953"
            ],
            [
             0.7777777777777778,
             "#fb9f3a"
            ],
            [
             0.8888888888888888,
             "#fdca26"
            ],
            [
             1,
             "#f0f921"
            ]
           ]
          },
          "colorway": [
           "#636efa",
           "#EF553B",
           "#00cc96",
           "#ab63fa",
           "#FFA15A",
           "#19d3f3",
           "#FF6692",
           "#B6E880",
           "#FF97FF",
           "#FECB52"
          ],
          "font": {
           "color": "#2a3f5f"
          },
          "geo": {
           "bgcolor": "white",
           "lakecolor": "white",
           "landcolor": "#E5ECF6",
           "showlakes": true,
           "showland": true,
           "subunitcolor": "white"
          },
          "hoverlabel": {
           "align": "left"
          },
          "hovermode": "closest",
          "mapbox": {
           "style": "light"
          },
          "paper_bgcolor": "white",
          "plot_bgcolor": "#E5ECF6",
          "polar": {
           "angularaxis": {
            "gridcolor": "white",
            "linecolor": "white",
            "ticks": ""
           },
           "bgcolor": "#E5ECF6",
           "radialaxis": {
            "gridcolor": "white",
            "linecolor": "white",
            "ticks": ""
           }
          },
          "scene": {
           "xaxis": {
            "backgroundcolor": "#E5ECF6",
            "gridcolor": "white",
            "gridwidth": 2,
            "linecolor": "white",
            "showbackground": true,
            "ticks": "",
            "zerolinecolor": "white"
           },
           "yaxis": {
            "backgroundcolor": "#E5ECF6",
            "gridcolor": "white",
            "gridwidth": 2,
            "linecolor": "white",
            "showbackground": true,
            "ticks": "",
            "zerolinecolor": "white"
           },
           "zaxis": {
            "backgroundcolor": "#E5ECF6",
            "gridcolor": "white",
            "gridwidth": 2,
            "linecolor": "white",
            "showbackground": true,
            "ticks": "",
            "zerolinecolor": "white"
           }
          },
          "shapedefaults": {
           "line": {
            "color": "#2a3f5f"
           }
          },
          "ternary": {
           "aaxis": {
            "gridcolor": "white",
            "linecolor": "white",
            "ticks": ""
           },
           "baxis": {
            "gridcolor": "white",
            "linecolor": "white",
            "ticks": ""
           },
           "bgcolor": "#E5ECF6",
           "caxis": {
            "gridcolor": "white",
            "linecolor": "white",
            "ticks": ""
           }
          },
          "title": {
           "x": 0.05
          },
          "xaxis": {
           "automargin": true,
           "gridcolor": "white",
           "linecolor": "white",
           "ticks": "",
           "title": {
            "standoff": 15
           },
           "zerolinecolor": "white",
           "zerolinewidth": 2
          },
          "yaxis": {
           "automargin": true,
           "gridcolor": "white",
           "linecolor": "white",
           "ticks": "",
           "title": {
            "standoff": 15
           },
           "zerolinecolor": "white",
           "zerolinewidth": 2
          }
         }
        },
        "title": {
         "text": "Number of Fireballs per Quarter"
        },
        "xaxis": {
         "anchor": "y",
         "domain": [
          0,
          1
         ],
         "title": {
          "text": "Quarter"
         }
        },
        "yaxis": {
         "anchor": "x",
         "domain": [
          0,
          1
         ],
         "title": {
          "text": "Count"
         }
        }
       }
      }
     },
     "metadata": {},
     "output_type": "display_data"
    }
   ],
   "source": [
    "plt.bar(fireballs_quarterly, \"quarter\", \"count\", title=\"Number of Fireballs per Quarter\") \\\n",
    "    .update_layout(yaxis_title=\"Count\", xaxis_title=\"Quarter\") \\\n",
    "    .show()"
   ]
  },
  {
   "cell_type": "markdown",
   "id": "ddbb59f9",
   "metadata": {},
   "source": [
    "* Perhaps drop < 1993-10-01?"
   ]
  },
  {
   "cell_type": "code",
   "execution_count": 23,
   "id": "b90de73b",
   "metadata": {},
   "outputs": [],
   "source": [
    "(\n",
    "    fireballs_quarterly.filter(pl.col.quarter >= pl.datetime(1993, 10, 1))\n",
    "    .write_csv(\"../data/cneos/cneos_fireball_quarterly.csv\")\n",
    ")"
   ]
  },
  {
   "cell_type": "markdown",
   "id": "cf06798c",
   "metadata": {},
   "source": [
    "# Other Datasets\n",
    "* [Meteoritical Bulletin Database](https://www.lpi.usra.edu/meteor/metbull.cfm)\n",
    "* [NASA Bolide Detections](https://neo-bolide.ndc.nasa.gov/#/)\n",
    "* [Global Meteor Network](https://globalmeteornetwork.org/about/)\n",
    "\n",
    "# Further Reading\n",
    "* [Catching Shooting Stars](https://pawsey.org.au/case_studies/catching-shooting-stars/)\n",
    "* [Meteorite finds, falls, and a bit of statistics](https://earthandsolarsystem.wordpress.com/2020/09/01/meteorite-finds-falls-and-a-bit-of-statistics/)\n",
    "* [Fireball FAQS](https://www.amsmeteors.org/fireballs/faqf/)\n",
    "* [Pre-Impact Detections](https://cneos.jpl.nasa.gov/pi/)"
   ]
  }
 ],
 "metadata": {
  "kernelspec": {
   "display_name": "Python 3",
   "language": "python",
   "name": "python3"
  },
  "language_info": {
   "codemirror_mode": {
    "name": "ipython",
    "version": 3
   },
   "file_extension": ".py",
   "mimetype": "text/x-python",
   "name": "python",
   "nbconvert_exporter": "python",
   "pygments_lexer": "ipython3",
   "version": "3.12.3"
  }
 },
 "nbformat": 4,
 "nbformat_minor": 5
}
